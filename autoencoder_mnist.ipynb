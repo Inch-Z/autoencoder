{
 "nbformat": 4,
 "nbformat_minor": 2,
 "metadata": {
  "language_info": {
   "name": "python",
   "codemirror_mode": {
    "name": "ipython",
    "version": 3
   },
   "version": "3.7.0-final"
  },
  "orig_nbformat": 2,
  "file_extension": ".py",
  "mimetype": "text/x-python",
  "name": "python",
  "npconvert_exporter": "python",
  "pygments_lexer": "ipython3",
  "version": 3,
  "kernelspec": {
   "name": "python37064bitbaseconda24c38771a7744f689cf6683cc835f426",
   "display_name": "Python 3.7.0 64-bit ('base': conda)"
  }
 },
 "cells": [
  {
   "cell_type": "code",
   "execution_count": 1,
   "metadata": {},
   "outputs": [],
   "source": [
    "import torch\n",
    "import torch.nn as nn\n",
    "import torch.utils.data as Data\n",
    "import torchvision\n",
    "import matplotlib.pyplot as plt\n",
    "from mpl_toolkits.mplot3d import Axes3D\n",
    "from matplotlib import cm\n",
    "import numpy as np\n",
    "import os\n",
    "os.environ[\"CUDA_VISIBLE_DEVICES\"] = \"0\""
   ]
  },
  {
   "cell_type": "code",
   "execution_count": 2,
   "metadata": {},
   "outputs": [],
   "source": [
    "# 超参数\n",
    "EPOCH = 10\n",
    "BATCH_SIZE = 64\n",
    "LR = 0.005\n",
    "DOWNLOAD_MNIST = True   # 下过数据的话, 就可以设置成 False\n",
    "N_TEST_IMG = 5          # 到时候显示 5张图片看效果, 如上图一"
   ]
  },
  {
   "cell_type": "code",
   "execution_count": 3,
   "metadata": {},
   "outputs": [],
   "source": [
    "# Mnist digits dataset\n",
    "train_data = torchvision.datasets.MNIST(\n",
    "    root='./mnist/',\n",
    "    train=True,                                     # this is training data\n",
    "    transform=torchvision.transforms.ToTensor(),    # Converts a PIL.Image or numpy.ndarray to\n",
    "                                                    # torch.FloatTensor of shape (C x H x W) and normalize in the range [0.0, 1.0]\n",
    "    download=DOWNLOAD_MNIST,                        # download it if you don't have it\n",
    ")"
   ]
  },
  {
   "cell_type": "code",
   "execution_count": 4,
   "metadata": {},
   "outputs": [],
   "source": [
    "train_loader = Data.DataLoader(dataset=train_data, batch_size=BATCH_SIZE, shuffle=True)"
   ]
  },
  {
   "cell_type": "code",
   "execution_count": 5,
   "metadata": {},
   "outputs": [
    {
     "name": "stdout",
     "output_type": "stream",
     "text": "torch.Size([60000, 28, 28])\ntorch.Size([60000])\n"
    },
    {
     "data": {
      "image/png": "[encoded data removed]",
      "image/svg+xml": "<?xml version=\"1.0\" encoding=\"utf-8\" standalone=\"no\"?>\r\n<!DOCTYPE svg PUBLIC \"-//W3C//DTD SVG 1.1//EN\"\r\n  \"http://www.w3.org/Graphics/SVG/1.1/DTD/svg11.dtd\">\r\n<!-- Created with matplotlib (http://matplotlib.org/) -->\r\n<svg height=\"263.63625pt\" version=\"1.1\" viewBox=\"0 0 255.065 263.63625\" width=\"255.065pt\" xmlns=\"http://www.w3.org/2000/svg\" xmlns:xlink=\"http://www.w3.org/1999/xlink\">\r\n <defs>\r\n  <style type=\"text/css\">\r\n*{stroke-linecap:butt;stroke-linejoin:round;}\r\n  </style>\r\n </defs>\r\n <g id=\"figure_1\">\r\n  <g id=\"patch_1\">\r\n   <path d=\"M 0 263.63625 \r\nL 255.065 263.63625 \r\nL 255.065 0 \r\nL 0 0 \r\nz\r\n\" style=\"fill:none;\"/>\r\n  </g>\r\n  <g id=\"axes_1\">\r\n   <g id=\"patch_2\">\r\n    <path d=\"M 26.925 239.758125 \r\nL 244.365 239.758125 \r\nL 244.365 22.318125 \r\nL 26.925 22.318125 \r\nz\r\n\" style=\"fill:#ffffff;\"/>\r\n   </g>\r\n   <g clip-path=\"url(#p1382989957)\">\r\n    <image height=\"218\" id=\"image2197906bff\" transform=\"scale(1 -1)translate(0 -218)\" width=\"218\" x=\"26.925\" xlink:href=\"data:image/png;base64,\r\niVBORw0KGgoAAAANSUhEUgAAANoAAADaCAYAAADAHVzbAAAABHNCSVQICAgIfAhkiAAABVxJREFUeJzt3b2PTH0cxuEzIl4KEpUEJbKJhEIU1CSUagqRjRWVQqLyb4hkEwUdjYZOgsYKhZeEpSDZlcg2goJGdp76yZPzHbNm7jOzz3W1d479NR+/ZE9mttc0Tb8BxmpD1weA/wOhQYDQIEBoECA0CBAaBAgNAoQGAUKDAKFBgNAgQGgQIDQIEBoECA0ChAYBQoMAoUGA0CBAaBAgNAgQGgRs7PoATJZz586V+82bN8t9fn6+3Ofm5oY90rrgRoMAoUGA0CBAaBAgNAgQGgQIDQK8R+NfTp06Ve69Xi90kvXFjQYBQoMAoUGA0CBAaBAgNAgQGgR4j8ZQ+v1+10eYSm40CBAaBAgNAoQGAUKDAKFBgNAgwHs0Rurp06ddH2EiudEgQGgQIDQIEBoECA0ChAYBQoMA79EYyqDvdVxdXQ2dZLq40SBAaBAgNAgQGgQIDQKEBgF+vc9QBn3d3IcPH0InmS5uNAgQGgQIDQKEBgFCgwChQYDQIEBoECA0CBAaBAgNAoQGAUKDAKFBgNAgwOfRGKnTp0+X+8LCQugkk8WNBgFCgwChQYDQIEBoECA0CBAaBPSapqm/qG+Mrl69Wu7Hjh0LnWR49+7dK/d37961bpP8LunChQvlfuPGjXL/+PFjue/du3foM60HbjQIEBoECA0ChAYBQoMAoUHAWH+9f/369XKfm5sr92/fvpX70tLS0Gf6UwcPHiz3Xq9X7r9//27dfv78WT779u3bcn/27Fm5v3jxotwfP37cuq2srJTPfv78udx37NhR7ps2bSr39cqNBgFCgwChQYDQIEBoECA0CBAaBIz16+a2bt1a7oPeRV28eLHc7969O/SZ/tShQ4fKfdDZjx8/3rrt2bOnfHbQu6bz58+X++zsbLn/+vWrdRv0jm7Lli3lvmFD/X/3zMxM67a4uFg+O83caBAgNAgQGgQIDQKEBgFCgwChQcBE/9mmr1+/dvazX7169VfPv3z5ckQn+a9Lly6V+/bt28v95MmTrdvZs2fLZzdv3lzug96jHT58uHXzHg34K0KDAKFBgNAgQGgQIDQIEBoETPR7tCNHjpT7w4cPQyeZLj9+/Cj3O3furGlrmqa5fft2uZ85c6bcr1271rrdv3+/fHbQ93xOMjcaBAgNAoQGAUKDAKFBgNAgQGgQMNb3aO/fv/+r5w8cODCikzAqV65cKffq+yybpmn279/fum3btq181ns0oCQ0CBAaBAgNAoQGAUKDgLH+ev/BgwflXn1kgsm0srJS7p8+fSr3nTt3tm67d+8un11eXi73SeZGgwChQYDQIEBoECA0CBAaBAgNAsb6Hu3169flPuidDNPn+/fva372xIkT5b6wsLDmf7trbjQIEBoECA0ChAYBQoMAoUGA0CCg0z/btLq62uWPZwxmZ2fLvfpM2b59+0Z9nInhRoMAoUGA0CBAaBAgNAgQGgQIDQI6fY9269atcl/P71XWqy9fvpT7/Px863b06NHy2ZmZmXJfXFws9y650SBAaBAgNAgQGgQIDQKEBgFCg4BO36M9evSo3N+8eZM5CCMz6DOG1d9P27VrV/lsv99f05kmgRsNAoQGAUKDAKFBgNAgQGgQ0Omv9588edLlj6cDz58/b90uX74cPEmWGw0ChAYBQoMAoUGA0CBAaBAgNAjoNU0zvZ89gCnhRoMAoUGA0CBAaBAgNAgQGgQIDQKEBgFCgwChQYDQIEBoECA0CBAaBAgNAoQGAUKDAKFBgNAgQGgQIDQIEBoECA0ChAYBQoMAoUGA0CBAaBAgNAgQGgQIDQKEBgFCgwChQYDQIEBoECA0CBAaBPwDbhDBLrnhN8QAAAAASUVORK5CYII=\" y=\"-21.758125\"/>\r\n   </g>\r\n   <g id=\"matplotlib.axis_1\">\r\n    <g id=\"xtick_1\">\r\n     <g id=\"line2d_1\">\r\n      <defs>\r\n       <path d=\"M 0 0 \r\nL 0 3.5 \r\n\" id=\"m690249abbe\" style=\"stroke:#000000;stroke-width:0.8;\"/>\r\n      </defs>\r\n      <g>\r\n       <use style=\"stroke:#000000;stroke-width:0.8;\" x=\"30.807857\" xlink:href=\"#m690249abbe\" y=\"239.758125\"/>\r\n      </g>\r\n     </g>\r\n     <g id=\"text_1\">\r\n      <!-- 0 -->\r\n      <defs>\r\n       <path d=\"M 31.78125 66.40625 \r\nQ 24.171875 66.40625 20.328125 58.90625 \r\nQ 16.5 51.421875 16.5 36.375 \r\nQ 16.5 21.390625 20.328125 13.890625 \r\nQ 24.171875 6.390625 31.78125 6.390625 \r\nQ 39.453125 6.390625 43.28125 13.890625 \r\nQ 47.125 21.390625 47.125 36.375 \r\nQ 47.125 51.421875 43.28125 58.90625 \r\nQ 39.453125 66.40625 31.78125 66.40625 \r\nz\r\nM 31.78125 74.21875 \r\nQ 44.046875 74.21875 50.515625 64.515625 \r\nQ 56.984375 54.828125 56.984375 36.375 \r\nQ 56.984375 17.96875 50.515625 8.265625 \r\nQ 44.046875 -1.421875 31.78125 -1.421875 \r\nQ 19.53125 -1.421875 13.0625 8.265625 \r\nQ 6.59375 17.96875 6.59375 36.375 \r\nQ 6.59375 54.828125 13.0625 64.515625 \r\nQ 19.53125 74.21875 31.78125 74.21875 \r\nz\r\n\" id=\"DejaVuSans-30\"/>\r\n      </defs>\r\n      <g transform=\"translate(27.626607 254.356563)scale(0.1 -0.1)\">\r\n       <use xlink:href=\"#DejaVuSans-30\"/>\r\n      </g>\r\n     </g>\r\n    </g>\r\n    <g id=\"xtick_2\">\r\n     <g id=\"line2d_2\">\r\n      <g>\r\n       <use style=\"stroke:#000000;stroke-width:0.8;\" x=\"69.636429\" xlink:href=\"#m690249abbe\" y=\"239.758125\"/>\r\n      </g>\r\n     </g>\r\n     <g id=\"text_2\">\r\n      <!-- 5 -->\r\n      <defs>\r\n       <path d=\"M 10.796875 72.90625 \r\nL 49.515625 72.90625 \r\nL 49.515625 64.59375 \r\nL 19.828125 64.59375 \r\nL 19.828125 46.734375 \r\nQ 21.96875 47.46875 24.109375 47.828125 \r\nQ 26.265625 48.1875 28.421875 48.1875 \r\nQ 40.625 48.1875 47.75 41.5 \r\nQ 54.890625 34.8125 54.890625 23.390625 \r\nQ 54.890625 11.625 47.5625 5.09375 \r\nQ 40.234375 -1.421875 26.90625 -1.421875 \r\nQ 22.3125 -1.421875 17.546875 -0.640625 \r\nQ 12.796875 0.140625 7.71875 1.703125 \r\nL 7.71875 11.625 \r\nQ 12.109375 9.234375 16.796875 8.0625 \r\nQ 21.484375 6.890625 26.703125 6.890625 \r\nQ 35.15625 6.890625 40.078125 11.328125 \r\nQ 45.015625 15.765625 45.015625 23.390625 \r\nQ 45.015625 31 40.078125 35.4375 \r\nQ 35.15625 39.890625 26.703125 39.890625 \r\nQ 22.75 39.890625 18.8125 39.015625 \r\nQ 14.890625 38.140625 10.796875 36.28125 \r\nz\r\n\" id=\"DejaVuSans-35\"/>\r\n      </defs>\r\n      <g transform=\"translate(66.455179 254.356563)scale(0.1 -0.1)\">\r\n       <use xlink:href=\"#DejaVuSans-35\"/>\r\n      </g>\r\n     </g>\r\n    </g>\r\n    <g id=\"xtick_3\">\r\n     <g id=\"line2d_3\">\r\n      <g>\r\n       <use style=\"stroke:#000000;stroke-width:0.8;\" x=\"108.465\" xlink:href=\"#m690249abbe\" y=\"239.758125\"/>\r\n      </g>\r\n     </g>\r\n     <g id=\"text_3\">\r\n      <!-- 10 -->\r\n      <defs>\r\n       <path d=\"M 12.40625 8.296875 \r\nL 28.515625 8.296875 \r\nL 28.515625 63.921875 \r\nL 10.984375 60.40625 \r\nL 10.984375 69.390625 \r\nL 28.421875 72.90625 \r\nL 38.28125 72.90625 \r\nL 38.28125 8.296875 \r\nL 54.390625 8.296875 \r\nL 54.390625 0 \r\nL 12.40625 0 \r\nz\r\n\" id=\"DejaVuSans-31\"/>\r\n      </defs>\r\n      <g transform=\"translate(102.1025 254.356563)scale(0.1 -0.1)\">\r\n       <use xlink:href=\"#DejaVuSans-31\"/>\r\n       <use x=\"63.623047\" xlink:href=\"#DejaVuSans-30\"/>\r\n      </g>\r\n     </g>\r\n    </g>\r\n    <g id=\"xtick_4\">\r\n     <g id=\"line2d_4\">\r\n      <g>\r\n       <use style=\"stroke:#000000;stroke-width:0.8;\" x=\"147.293571\" xlink:href=\"#m690249abbe\" y=\"239.758125\"/>\r\n      </g>\r\n     </g>\r\n     <g id=\"text_4\">\r\n      <!-- 15 -->\r\n      <g transform=\"translate(140.931071 254.356563)scale(0.1 -0.1)\">\r\n       <use xlink:href=\"#DejaVuSans-31\"/>\r\n       <use x=\"63.623047\" xlink:href=\"#DejaVuSans-35\"/>\r\n      </g>\r\n     </g>\r\n    </g>\r\n    <g id=\"xtick_5\">\r\n     <g id=\"line2d_5\">\r\n      <g>\r\n       <use style=\"stroke:#000000;stroke-width:0.8;\" x=\"186.122143\" xlink:href=\"#m690249abbe\" y=\"239.758125\"/>\r\n      </g>\r\n     </g>\r\n     <g id=\"text_5\">\r\n      <!-- 20 -->\r\n      <defs>\r\n       <path d=\"M 19.1875 8.296875 \r\nL 53.609375 8.296875 \r\nL 53.609375 0 \r\nL 7.328125 0 \r\nL 7.328125 8.296875 \r\nQ 12.9375 14.109375 22.625 23.890625 \r\nQ 32.328125 33.6875 34.8125 36.53125 \r\nQ 39.546875 41.84375 41.421875 45.53125 \r\nQ 43.3125 49.21875 43.3125 52.78125 \r\nQ 43.3125 58.59375 39.234375 62.25 \r\nQ 35.15625 65.921875 28.609375 65.921875 \r\nQ 23.96875 65.921875 18.8125 64.3125 \r\nQ 13.671875 62.703125 7.8125 59.421875 \r\nL 7.8125 69.390625 \r\nQ 13.765625 71.78125 18.9375 73 \r\nQ 24.125 74.21875 28.421875 74.21875 \r\nQ 39.75 74.21875 46.484375 68.546875 \r\nQ 53.21875 62.890625 53.21875 53.421875 \r\nQ 53.21875 48.921875 51.53125 44.890625 \r\nQ 49.859375 40.875 45.40625 35.40625 \r\nQ 44.1875 33.984375 37.640625 27.21875 \r\nQ 31.109375 20.453125 19.1875 8.296875 \r\nz\r\n\" id=\"DejaVuSans-32\"/>\r\n      </defs>\r\n      <g transform=\"translate(179.759643 254.356563)scale(0.1 -0.1)\">\r\n       <use xlink:href=\"#DejaVuSans-32\"/>\r\n       <use x=\"63.623047\" xlink:href=\"#DejaVuSans-30\"/>\r\n      </g>\r\n     </g>\r\n    </g>\r\n    <g id=\"xtick_6\">\r\n     <g id=\"line2d_6\">\r\n      <g>\r\n       <use style=\"stroke:#000000;stroke-width:0.8;\" x=\"224.950714\" xlink:href=\"#m690249abbe\" y=\"239.758125\"/>\r\n      </g>\r\n     </g>\r\n     <g id=\"text_6\">\r\n      <!-- 25 -->\r\n      <g transform=\"translate(218.588214 254.356563)scale(0.1 -0.1)\">\r\n       <use xlink:href=\"#DejaVuSans-32\"/>\r\n       <use x=\"63.623047\" xlink:href=\"#DejaVuSans-35\"/>\r\n      </g>\r\n     </g>\r\n    </g>\r\n   </g>\r\n   <g id=\"matplotlib.axis_2\">\r\n    <g id=\"ytick_1\">\r\n     <g id=\"line2d_7\">\r\n      <defs>\r\n       <path d=\"M 0 0 \r\nL -3.5 0 \r\n\" id=\"md1ff1d8b05\" style=\"stroke:#000000;stroke-width:0.8;\"/>\r\n      </defs>\r\n      <g>\r\n       <use style=\"stroke:#000000;stroke-width:0.8;\" x=\"26.925\" xlink:href=\"#md1ff1d8b05\" y=\"26.200982\"/>\r\n      </g>\r\n     </g>\r\n     <g id=\"text_7\">\r\n      <!-- 0 -->\r\n      <g transform=\"translate(13.5625 30.000201)scale(0.1 -0.1)\">\r\n       <use xlink:href=\"#DejaVuSans-30\"/>\r\n      </g>\r\n     </g>\r\n    </g>\r\n    <g id=\"ytick_2\">\r\n     <g id=\"line2d_8\">\r\n      <g>\r\n       <use style=\"stroke:#000000;stroke-width:0.8;\" x=\"26.925\" xlink:href=\"#md1ff1d8b05\" y=\"65.029554\"/>\r\n      </g>\r\n     </g>\r\n     <g id=\"text_8\">\r\n      <!-- 5 -->\r\n      <g transform=\"translate(13.5625 68.828772)scale(0.1 -0.1)\">\r\n       <use xlink:href=\"#DejaVuSans-35\"/>\r\n      </g>\r\n     </g>\r\n    </g>\r\n    <g id=\"ytick_3\">\r\n     <g id=\"line2d_9\">\r\n      <g>\r\n       <use style=\"stroke:#000000;stroke-width:0.8;\" x=\"26.925\" xlink:href=\"#md1ff1d8b05\" y=\"103.858125\"/>\r\n      </g>\r\n     </g>\r\n     <g id=\"text_9\">\r\n      <!-- 10 -->\r\n      <g transform=\"translate(7.2 107.657344)scale(0.1 -0.1)\">\r\n       <use xlink:href=\"#DejaVuSans-31\"/>\r\n       <use x=\"63.623047\" xlink:href=\"#DejaVuSans-30\"/>\r\n      </g>\r\n     </g>\r\n    </g>\r\n    <g id=\"ytick_4\">\r\n     <g id=\"line2d_10\">\r\n      <g>\r\n       <use style=\"stroke:#000000;stroke-width:0.8;\" x=\"26.925\" xlink:href=\"#md1ff1d8b05\" y=\"142.686696\"/>\r\n      </g>\r\n     </g>\r\n     <g id=\"text_10\">\r\n      <!-- 15 -->\r\n      <g transform=\"translate(7.2 146.485915)scale(0.1 -0.1)\">\r\n       <use xlink:href=\"#DejaVuSans-31\"/>\r\n       <use x=\"63.623047\" xlink:href=\"#DejaVuSans-35\"/>\r\n      </g>\r\n     </g>\r\n    </g>\r\n    <g id=\"ytick_5\">\r\n     <g id=\"line2d_11\">\r\n      <g>\r\n       <use style=\"stroke:#000000;stroke-width:0.8;\" x=\"26.925\" xlink:href=\"#md1ff1d8b05\" y=\"181.515268\"/>\r\n      </g>\r\n     </g>\r\n     <g id=\"text_11\">\r\n      <!-- 20 -->\r\n      <g transform=\"translate(7.2 185.314487)scale(0.1 -0.1)\">\r\n       <use xlink:href=\"#DejaVuSans-32\"/>\r\n       <use x=\"63.623047\" xlink:href=\"#DejaVuSans-30\"/>\r\n      </g>\r\n     </g>\r\n    </g>\r\n    <g id=\"ytick_6\">\r\n     <g id=\"line2d_12\">\r\n      <g>\r\n       <use style=\"stroke:#000000;stroke-width:0.8;\" x=\"26.925\" xlink:href=\"#md1ff1d8b05\" y=\"220.343839\"/>\r\n      </g>\r\n     </g>\r\n     <g id=\"text_12\">\r\n      <!-- 25 -->\r\n      <g transform=\"translate(7.2 224.143058)scale(0.1 -0.1)\">\r\n       <use xlink:href=\"#DejaVuSans-32\"/>\r\n       <use x=\"63.623047\" xlink:href=\"#DejaVuSans-35\"/>\r\n      </g>\r\n     </g>\r\n    </g>\r\n   </g>\r\n   <g id=\"patch_3\">\r\n    <path d=\"M 26.925 239.758125 \r\nL 26.925 22.318125 \r\n\" style=\"fill:none;stroke:#000000;stroke-linecap:square;stroke-linejoin:miter;stroke-width:0.8;\"/>\r\n   </g>\r\n   <g id=\"patch_4\">\r\n    <path d=\"M 244.365 239.758125 \r\nL 244.365 22.318125 \r\n\" style=\"fill:none;stroke:#000000;stroke-linecap:square;stroke-linejoin:miter;stroke-width:0.8;\"/>\r\n   </g>\r\n   <g id=\"patch_5\">\r\n    <path d=\"M 26.925 239.758125 \r\nL 244.365 239.758125 \r\n\" style=\"fill:none;stroke:#000000;stroke-linecap:square;stroke-linejoin:miter;stroke-width:0.8;\"/>\r\n   </g>\r\n   <g id=\"patch_6\">\r\n    <path d=\"M 26.925 22.318125 \r\nL 244.365 22.318125 \r\n\" style=\"fill:none;stroke:#000000;stroke-linecap:square;stroke-linejoin:miter;stroke-width:0.8;\"/>\r\n   </g>\r\n   <g id=\"text_13\">\r\n    <!-- 4 -->\r\n    <defs>\r\n     <path d=\"M 37.796875 64.3125 \r\nL 12.890625 25.390625 \r\nL 37.796875 25.390625 \r\nz\r\nM 35.203125 72.90625 \r\nL 47.609375 72.90625 \r\nL 47.609375 25.390625 \r\nL 58.015625 25.390625 \r\nL 58.015625 17.1875 \r\nL 47.609375 17.1875 \r\nL 47.609375 0 \r\nL 37.796875 0 \r\nL 37.796875 17.1875 \r\nL 4.890625 17.1875 \r\nL 4.890625 26.703125 \r\nz\r\n\" id=\"DejaVuSans-34\"/>\r\n    </defs>\r\n    <g transform=\"translate(131.8275 16.318125)scale(0.12 -0.12)\">\r\n     <use xlink:href=\"#DejaVuSans-34\"/>\r\n    </g>\r\n   </g>\r\n  </g>\r\n </g>\r\n <defs>\r\n  <clipPath id=\"p1382989957\">\r\n   <rect height=\"217.44\" width=\"217.44\" x=\"26.925\" y=\"22.318125\"/>\r\n  </clipPath>\r\n </defs>\r\n</svg>\r\n",
      "text/plain": "<Figure size 432x288 with 1 Axes>"
     },
     "metadata": {
      "needs_background": "light"
     },
     "output_type": "display_data"
    }
   ],
   "source": [
    "print(train_data.train_data.size())     # (60000, 28, 28)\n",
    "print(train_data.train_labels.size())   # (60000)\n",
    "plt.imshow(train_data.train_data[2].numpy(), cmap='gray')\n",
    "plt.title('%i' % train_data.train_labels[2])\n",
    "plt.show()"
   ]
  },
  {
   "cell_type": "code",
   "execution_count": 6,
   "metadata": {},
   "outputs": [],
   "source": [
    "class AutoEncoder(nn.Module):\n",
    "    def __init__(self):\n",
    "        super(AutoEncoder, self).__init__()\n",
    "\n",
    "        # 压缩\n",
    "        self.encoder = nn.Sequential(\n",
    "            nn.Linear(28*28, 128),\n",
    "            nn.Tanh(),\n",
    "            nn.Linear(128, 64),\n",
    "            nn.Tanh(),\n",
    "            nn.Linear(64, 12),\n",
    "            nn.Tanh(),\n",
    "            nn.Linear(12, 3),   # 压缩成3个特征, 进行 3D 图像可视化\n",
    "        )\n",
    "        # 解压\n",
    "        self.decoder = nn.Sequential(\n",
    "            nn.Linear(3, 12),\n",
    "            nn.Tanh(),\n",
    "            nn.Linear(12, 64),\n",
    "            nn.Tanh(),\n",
    "            nn.Linear(64, 128),\n",
    "            nn.Tanh(),\n",
    "            nn.Linear(128, 28*28),\n",
    "            nn.Sigmoid(),       # 激励函数让输出值在 (0, 1)\n",
    "        )\n",
    "\n",
    "    def forward(self, x):\n",
    "        encoded = self.encoder(x)\n",
    "        decoded = self.decoder(encoded)\n",
    "        return encoded, decoded\n",
    "\n",
    "autoencoder = AutoEncoder().cuda()"
   ]
  },
  {
   "cell_type": "code",
   "execution_count": 7,
   "metadata": {},
   "outputs": [
    {
     "data": {
      "image/png": "[encoded data removed]",
      "image/svg+xml": "<?xml version=\"1.0\" encoding=\"utf-8\" standalone=\"no\"?>\r\n<!DOCTYPE svg PUBLIC \"-//W3C//DTD SVG 1.1//EN\"\r\n  \"http://www.w3.org/Graphics/SVG/1.1/DTD/svg11.dtd\">\r\n<!-- Created with matplotlib (http://matplotlib.org/) -->\r\n<svg height=\"142.640758pt\" version=\"1.1\" viewBox=\"0 0 319.803125 142.640758\" width=\"319.803125pt\" xmlns=\"http://www.w3.org/2000/svg\" xmlns:xlink=\"http://www.w3.org/1999/xlink\">\r\n <defs>\r\n  <style type=\"text/css\">\r\n*{stroke-linecap:butt;stroke-linejoin:round;}\r\n  </style>\r\n </defs>\r\n <g id=\"figure_1\">\r\n  <g id=\"patch_1\">\r\n   <path d=\"M 0 142.640758 \r\nL 319.803125 142.640758 \r\nL 319.803125 0 \r\nL 0 0 \r\nz\r\n\" style=\"fill:none;\"/>\r\n  </g>\r\n  <g id=\"axes_1\">\r\n   <g id=\"patch_2\">\r\n    <path d=\"M 30.103125 58.803448 \r\nL 78.206573 58.803448 \r\nL 78.206573 10.7 \r\nL 30.103125 10.7 \r\nz\r\n\" style=\"fill:#ffffff;\"/>\r\n   </g>\r\n   <g clip-path=\"url(#p9d35b0b280)\">\r\n    <image height=\"49\" id=\"image4580875ca3\" transform=\"scale(1 -1)translate(0 -49)\" width=\"49\" x=\"30.103125\" xlink:href=\"data:image/png;base64,\r\niVBORw0KGgoAAAANSUhEUgAAADEAAAAxCAYAAABznEEcAAAABHNCSVQICAgIfAhkiAAAAydJREFUaIHt2M9LlF8Ux/FXX6VFiYoubBBEcpGUiKAphCgiKESCpi1atG0luRJXgpsiiFyILsSd/4HiRhH8sRBEsXIhCK0kaNmAP0JpnO9imFHzO1OOI/l9mjc88MC9z3Pu4XPOveeeG4j6n/PPn15AJsg6cV0IhBO5qQbfvn0L+vv7z41tbW2BmZkZP378AO/fvwfhcDiji/wVgVDihhRbbENDA2JK1NfXg9LS0qQ/Ozg4ACMjI+DNmzf29/cztdakBF+J0xQVFYHx8XFQU1MD7t69m/SblZWVRJ7Mzs6C79+/p73YZPxdSvxMSUkJuH//vtHRUVBZWZl0/urqKnj37h2YmppyfHycjulzpO3Eae7cuQOeP38Oent7QXl5edJv1tfXvX79GkxPT1/K/t8dTqm4d+8eYoo8ffoUJ2qdJhKJgPn5efD48eO07GWV+B2qq6tBT08PePjwIWhra0vM2dzcBLW1tXDhhM8qcRkODw/l5sbqz3gB2d7eDhYXFy/0r5RVbCYpLCwEHR0dICcnJzG2vLyMiy8+TiDC6cqVqKqqAsPDw6C1tTUxFq/D4odeugRCCWKJfSVPV1dXNBwOR8PhcDQSiZx5BgYGoqFQKBoKhS5tJxBKXMkWW1FRATY2NhL37YWFBcQKPxgbGxONZsZ0RhP79u3bYGJiAuTl5Xn27BmYm5vLpKkzBCKcMqrE0NAQaG5uBktLS4kK9SrJKgH5+fl2d3dBQUHBmbGJiYmMXUFTEQgl0t5iOzs7wZMnT3z48AEnTbM4Hz9+1NTUBIkm2oMHD0BfX5+XL1+mteifubAT8f5TvHuRqu90el78vGhpaQFHR0fnwi9dAhFOF07ssrIyUFxc/Fvz4/3cc4Zzc7148QLs7e2dGfv69atv376B7e3tX9oIhBJpJ3ZckZs3b3r06BFobGzEyS2uu7s75T++fPkC1tbWQFdXF2KbwKdPn8Dg4CBS3/oCoUTah93Ozk7i/fPnz2BychIn9+f/2n3iLc5bt24lmmyvXr1CbMci1g6tq6vDSQmTSok/1u3IJIEIp6wT14WsE9eFrBPXhUA48S9uMyTV2lRX3QAAAABJRU5ErkJggg==\" y=\"-9.803448\"/>\r\n   </g>\r\n   <g id=\"matplotlib.axis_1\"/>\r\n   <g id=\"matplotlib.axis_2\"/>\r\n   <g id=\"patch_3\">\r\n    <path d=\"M 30.103125 58.803448 \r\nL 30.103125 10.7 \r\n\" style=\"fill:none;stroke:#000000;stroke-linecap:square;stroke-linejoin:miter;stroke-width:0.8;\"/>\r\n   </g>\r\n   <g id=\"patch_4\">\r\n    <path d=\"M 78.206573 58.803448 \r\nL 78.206573 10.7 \r\n\" style=\"fill:none;stroke:#000000;stroke-linecap:square;stroke-linejoin:miter;stroke-width:0.8;\"/>\r\n   </g>\r\n   <g id=\"patch_5\">\r\n    <path d=\"M 30.103125 58.803448 \r\nL 78.206573 58.803448 \r\n\" style=\"fill:none;stroke:#000000;stroke-linecap:square;stroke-linejoin:miter;stroke-width:0.8;\"/>\r\n   </g>\r\n   <g id=\"patch_6\">\r\n    <path d=\"M 30.103125 10.7 \r\nL 78.206573 10.7 \r\n\" style=\"fill:none;stroke:#000000;stroke-linecap:square;stroke-linejoin:miter;stroke-width:0.8;\"/>\r\n   </g>\r\n  </g>\r\n  <g id=\"axes_2\">\r\n   <g id=\"patch_7\">\r\n    <path d=\"M 87.827263 58.803448 \r\nL 135.930711 58.803448 \r\nL 135.930711 10.7 \r\nL 87.827263 10.7 \r\nz\r\n\" style=\"fill:#ffffff;\"/>\r\n   </g>\r\n   <g clip-path=\"url(#p53c3590898)\">\r\n    <image height=\"49\" id=\"image74c8189f64\" transform=\"scale(1 -1)translate(0 -49)\" width=\"49\" x=\"87.827263\" xlink:href=\"data:image/png;base64,\r\niVBORw0KGgoAAAANSUhEUgAAADEAAAAxCAYAAABznEEcAAAABHNCSVQICAgIfAhkiAAAA45JREFUaIHtmDtIK1sUhr9chCCCFlYRC5u0GhFFRLQUJJ3EF2hrI761UpukFERSSEAsRFBRQRG1ECISjRYawVoIUfGBWGgkEM24TxH25B49Oc7k5HJzJvlgM8V+zFrzr73W3mMCBH85//zfBqSDnBOZQs6JTMEQTuTpnWCxWADo6ekBYHx8HJPJBIAQ8Ww9MzMDwOzsLJeXl2kx9HcYQgkTGotdaWkpAKurqwBUV1cnFvmkhOTp6Ynl5WUA+vv7/9jYZGSXEg6HA4ClpaUvfQ8PDwC8vLwAYLVav4w5Pj4GYH9/H4DJyUn91iZB98aWKIoCgMfjYX5+HoiHD0BtbS0AXV1dVFRUAFBXVwckwtJqtaoJ4OTkJFUzAIOEk2Yl5OaVz/v7ewD6+vq+jL2+vgYSSQBgcHAQgImJCQBaW1t5f38HckoAOpSQ6VM+NzY2dL1oenoaSGzs0dFROjs7ASgoKACgpaVF15oSQygB8RT7bXM4HMLhcIhYLCZisZgIBoMiGAxqmvurZjabhdPpFE6nU10zFAqJUCgkmpqadK2Vcoo1m81A/Cx1d3ene340GsXlcgGQlxc3Y2xsDIDh4WGOjo4AeH19/Xat7Aonu90u7Ha7iEQiIhKJqCEwMDCQckh9boqiCEVRRCwWE263W7jdbk3zsksJ2fx+v/D7/epX83q9aVNCoiiK8Pl8wufzZY8SurPT0NAQAIeHhwA0NDTQ2NgIwMHBwR8Z8/HxAXy9l3yHbifOz88B2NnZAaC5uZnNzU0A2traADg9PQUgPz+fm5sbva/QTXaGUzQaBWBkZASAcDhMe3s7AAsLCwBq8XO5XKytraVk2NXVleaxhlBC8/U0GTabDa/XC0BhYeFPfbu7u3R0dACom7+8vByAubk5Hh8ffxovb4uRSEQdHwgEvrUhp4SkqqoKgL29PQCKiorUPpl2t7a2AJiamgLg9vYWu90OQFlZGZC4o6ysrKj7TAspn2L/zdnZGQDb29sAaghBvI5AIpxkDbBYLFRWVgLxHwqQep0wRDilRQmJ/D/r8XgAWFxcVH/RfCYQCKh3BamS5OLiQtd7DaFEWjZ2MmpqalhfXwegpKQESMR7OBzm7e0NgOLiYgDq6+uBuEqyTws5JbRgs9kAkhZEgOfnZyChiF7+cyckspb09vYC0N3drZ613G43oK06/4pcOGUKhlAi50SmkHMiUzCEEz8AME3sHQUZfNQAAAAASUVORK5CYII=\" y=\"-9.803448\"/>\r\n   </g>\r\n   <g id=\"matplotlib.axis_3\"/>\r\n   <g id=\"matplotlib.axis_4\"/>\r\n   <g id=\"patch_8\">\r\n    <path d=\"M 87.827263 58.803448 \r\nL 87.827263 10.7 \r\n\" style=\"fill:none;stroke:#000000;stroke-linecap:square;stroke-linejoin:miter;stroke-width:0.8;\"/>\r\n   </g>\r\n   <g id=\"patch_9\">\r\n    <path d=\"M 135.930711 58.803448 \r\nL 135.930711 10.7 \r\n\" style=\"fill:none;stroke:#000000;stroke-linecap:square;stroke-linejoin:miter;stroke-width:0.8;\"/>\r\n   </g>\r\n   <g id=\"patch_10\">\r\n    <path d=\"M 87.827263 58.803448 \r\nL 135.930711 58.803448 \r\n\" style=\"fill:none;stroke:#000000;stroke-linecap:square;stroke-linejoin:miter;stroke-width:0.8;\"/>\r\n   </g>\r\n   <g id=\"patch_11\">\r\n    <path d=\"M 87.827263 10.7 \r\nL 135.930711 10.7 \r\n\" style=\"fill:none;stroke:#000000;stroke-linecap:square;stroke-linejoin:miter;stroke-width:0.8;\"/>\r\n   </g>\r\n  </g>\r\n  <g id=\"axes_3\">\r\n   <g id=\"patch_12\">\r\n    <path d=\"M 145.551401 58.803448 \r\nL 193.654849 58.803448 \r\nL 193.654849 10.7 \r\nL 145.551401 10.7 \r\nz\r\n\" style=\"fill:#ffffff;\"/>\r\n   </g>\r\n   <g clip-path=\"url(#p0db780b6fe)\">\r\n    <image height=\"49\" id=\"image15150cea41\" transform=\"scale(1 -1)translate(0 -49)\" width=\"49\" x=\"145.551401\" xlink:href=\"data:image/png;base64,\r\niVBORw0KGgoAAAANSUhEUgAAADEAAAAxCAYAAABznEEcAAAABHNCSVQICAgIfAhkiAAAAo1JREFUaIHtmL9P6lAcxT8QozJIcFVHISYmODDhLImO7gyEEDFODiTylxAIQxM7ujh1VhclOqgkUBkkURLTheAiC7l9A6HGZx/PUlC86Uma9Nc993vu+X7vva0PMPnl8P90AOOAJ2Ja4Ilwg1QqhRACIQSlUolSqTQylxROzPxUxzs7O/h8vrFweU64hWmOZ531nBgXLi8vXbX/URGDwhZCuOLx0sktBoXdaDRc8UjhhCdiWjAVU+zu7i4AV1dXI7X3MeTz9OjoCIDNzc2hJKenpwDU6/UvB7O3t0exWATg8fERgNXV1f9HbAMp0snWiUKhAEA2mwWg0+nw9PRkSxCNRq1Fq9frAfD29gZArVajUqkAcHNzA8D5+TkAhmHQarUAWFxcBGB2dnYkEVI4YVvYgUAAeN8W7O/vc3JyYkuwsbFhvbe1tQXAysoK0B/ZdDoNQCaTAaDb7QJQqVSYn58HwO/vj+Xa2hoAuq47EiGvE3+j3W7/89nd3Z11fnt7++n5wcEBAMFgEIDt7W0Akskkc3NzwLsTsVgMcO4E9Av7w6EoiqkoiimEMIUQZj6f//TOOA5VVU1VVa1+dF03dV03Q6GQIx550+nh4eHD9fr6+kQ6z+VywPuEEIlEAFhYWKDT6XyZRwonbEVomoamaXS7XWtKnAQMw8AwDJrNJs1m07q/vLzsiEcKJ2xr4v7+HuiP1Hfg9fX1w3UikXC0ox26Trj9gP8qBqv58/MzAOFw2FF7edNpgOPjY8D5yDjFy8sLAOVyGYB4PO5oHyW/E2dnZwBUq9WJBjGovcE0u7S05Og/rfxOXFxcfFccAFxfXwNweHjoqN3QHwW/BVKkkydiWuCJmBZ4IqYFUoj4A9JoBU+X1u5ZAAAAAElFTkSuQmCC\" y=\"-9.803448\"/>\r\n   </g>\r\n   <g id=\"matplotlib.axis_5\"/>\r\n   <g id=\"matplotlib.axis_6\"/>\r\n   <g id=\"patch_13\">\r\n    <path d=\"M 145.551401 58.803448 \r\nL 145.551401 10.7 \r\n\" style=\"fill:none;stroke:#000000;stroke-linecap:square;stroke-linejoin:miter;stroke-width:0.8;\"/>\r\n   </g>\r\n   <g id=\"patch_14\">\r\n    <path d=\"M 193.654849 58.803448 \r\nL 193.654849 10.7 \r\n\" style=\"fill:none;stroke:#000000;stroke-linecap:square;stroke-linejoin:miter;stroke-width:0.8;\"/>\r\n   </g>\r\n   <g id=\"patch_15\">\r\n    <path d=\"M 145.551401 58.803448 \r\nL 193.654849 58.803448 \r\n\" style=\"fill:none;stroke:#000000;stroke-linecap:square;stroke-linejoin:miter;stroke-width:0.8;\"/>\r\n   </g>\r\n   <g id=\"patch_16\">\r\n    <path d=\"M 145.551401 10.7 \r\nL 193.654849 10.7 \r\n\" style=\"fill:none;stroke:#000000;stroke-linecap:square;stroke-linejoin:miter;stroke-width:0.8;\"/>\r\n   </g>\r\n  </g>\r\n  <g id=\"axes_4\">\r\n   <g id=\"patch_17\">\r\n    <path d=\"M 203.275539 58.803448 \r\nL 251.378987 58.803448 \r\nL 251.378987 10.7 \r\nL 203.275539 10.7 \r\nz\r\n\" style=\"fill:#ffffff;\"/>\r\n   </g>\r\n   <g clip-path=\"url(#pe38ad798f2)\">\r\n    <image height=\"49\" id=\"image73b98aa691\" transform=\"scale(1 -1)translate(0 -49)\" width=\"49\" x=\"203.275539\" xlink:href=\"data:image/png;base64,\r\niVBORw0KGgoAAAANSUhEUgAAADEAAAAxCAYAAABznEEcAAAABHNCSVQICAgIfAhkiAAAAkZJREFUaIHtmK1vIkEYhx+4c3w2ISmCAEEhEOiGYCAoUlNCguRD8FfQ469AICAYMAgcji+NLwkkRYJCbgLLVpCl16O9Y2Foue0+yWt2svPOb36z886sCVD4zzF/9QBEYIi4Fr63CLfbjdvtZjAYIMsysiwznU6ZTqcix3cUunDi56kvBoNBAO7u7oQN5lR04YQh4lr4Afw65UWn04kkSdzf32Oz2QCwWCzY7XZubm5IJBIMh0M2m43A4X6Mck7UajVFRZblN+Hz+c7q+9jQxXICATOhzvx6vX4TmUzGcEILZ8/EcrlUlsvlgROj0UixWq2K1Wo1nPgXJgTc7MLhMADtdhsAr9e7b+t0OgCkUqlz03yIEBEqlUoFgEKhcNAWCoUAmEwmotLtMZbTn/j9fgBms9lBW6PRACCbzYpKt0cXTpx8n3iP5+dnAB4eHgCo1+tYLBYAAoEAALe3twAsFgtheXXhBFywCBWLxX3hU48m3W5X6Xa7isPhEJnrciL8fr8yHo+V8Xh8cL4qlUpGxf4doVvse7hcLuD1Q95utwCsVivS6TQAvV7vrByGE1qoVqsA5HK5/bN+vw9ALBY7q2/DCS1EIhEAms0msPsNqpLP54HXo4lWPk2ESjweB6DVauFwOAB4enoCIJlMArtNQJKko/vUxXKCCxa7v8Xj4+PBdVYtiNFo9PsVuy8TMZ/PkSRJ09r/CF04IfQ+oYV6vY7H4wGgXC4DYDbv5tRkMmnq69O32Eugi+VkiLgWDBHXgiHiWtCFiBeGVAY9UFqpLAAAAABJRU5ErkJggg==\" y=\"-9.803448\"/>\r\n   </g>\r\n   <g id=\"matplotlib.axis_7\"/>\r\n   <g id=\"matplotlib.axis_8\"/>\r\n   <g id=\"patch_18\">\r\n    <path d=\"M 203.275539 58.803448 \r\nL 203.275539 10.7 \r\n\" style=\"fill:none;stroke:#000000;stroke-linecap:square;stroke-linejoin:miter;stroke-width:0.8;\"/>\r\n   </g>\r\n   <g id=\"patch_19\">\r\n    <path d=\"M 251.378987 58.803448 \r\nL 251.378987 10.7 \r\n\" style=\"fill:none;stroke:#000000;stroke-linecap:square;stroke-linejoin:miter;stroke-width:0.8;\"/>\r\n   </g>\r\n   <g id=\"patch_20\">\r\n    <path d=\"M 203.275539 58.803448 \r\nL 251.378987 58.803448 \r\n\" style=\"fill:none;stroke:#000000;stroke-linecap:square;stroke-linejoin:miter;stroke-width:0.8;\"/>\r\n   </g>\r\n   <g id=\"patch_21\">\r\n    <path d=\"M 203.275539 10.7 \r\nL 251.378987 10.7 \r\n\" style=\"fill:none;stroke:#000000;stroke-linecap:square;stroke-linejoin:miter;stroke-width:0.8;\"/>\r\n   </g>\r\n  </g>\r\n  <g id=\"axes_5\">\r\n   <g id=\"patch_22\">\r\n    <path d=\"M 260.999677 58.803448 \r\nL 309.103125 58.803448 \r\nL 309.103125 10.7 \r\nL 260.999677 10.7 \r\nz\r\n\" style=\"fill:#ffffff;\"/>\r\n   </g>\r\n   <g clip-path=\"url(#p5f45e1f74a)\">\r\n    <image height=\"49\" id=\"image91dfed0080\" transform=\"scale(1 -1)translate(0 -49)\" width=\"49\" x=\"260.999677\" xlink:href=\"data:image/png;base64,\r\niVBORw0KGgoAAAANSUhEUgAAADEAAAAxCAYAAABznEEcAAAABHNCSVQICAgIfAhkiAAAAv5JREFUaIHtmD9L62AUxn8prQgNJYgZHBVdtLjaQZGC6KSDDlbIoKN7JhEV1A/g4uwgiAqiKBYX0c18AQURIUspuAVEkcZzh5IUKd7b2uTe3pAHMiSc95z35Dn/3lcBhP8ciX+9gSCQ/FuGMpkMANvb2wAsLy8zPDwMwP39fUu6YyYagcfA0dERABMTEwCcnJxg23YgNkJ3YnZ2Fqht/vb2FoCNjQ1eX18DsRGJcFIIucQ+Pj4C0NfXB8Do6CgAd3d3gdmIBBNQZSKUJ5vNigfXdcV1XdF1XXRdD9ROJJgItTqNjY3x+fkJgEh4qRcqE8/Pz2Gq9xGJcAq9xLquC9TCqaenB4CXl5fAbESCiVCdmJqaClO9j5iJP+Ht7Y1EIkEikUBRFBRFoVAoUCgUArXTdJ8YGRkB4OLiAoCuri6enp4AODs7A2Bvbw+ozk3e1OrNTN4MFSQiEU4Nl1hN0wB4eHgAQNf1qgJF+bYbl0olFEUB6kur9x4EIsFEwznR0dEB1Bjw0Nvby/v7OwBLS0sAzMzMAJDNZlFVFag1u+7ubgCmp6c5Pz9vZe8+IsEENDiza5ommqZJuVyWcrkslUpFKpWKnJ6efrumv79fLMsSy7J8ee85PDyUdDot6XS65fNE07PT2toaAOvr6wB8fHxwdXUFwMLCAlDtDx46OzsBmJycBODg4MD/vrW19UXXTxGJcPrxFLu5uQnAysqKn7S7u7sArK6uAuA4Tt06r0QPDAz43+bm5oBas2wWkWACWkyqxcXFuqQtFotSLBYlk8nUyRuGIYZhfJG3bVts2/7xJULMBCDJZFJyuZzkcjlxHEccx/H/8PX1teTzecnn85JKpSSVSomqqqKqqlxeXvpy3nWOaZpimmb4JfZ3mJ+fB2BnZweodmdvdrq5uQFqHX9wcNBf58kcHx8DND2qRyKcQrko8M4chmEwPj4OwNDQ0BcZ0zQplUpA7ayxv78PgGVZTdmLmWgXRIKJ2Il2QexEuyB2ol0QO9EuiJ1oF/wCf+LTj7ZbKLYAAAAASUVORK5CYII=\" y=\"-9.803448\"/>\r\n   </g>\r\n   <g id=\"matplotlib.axis_9\"/>\r\n   <g id=\"matplotlib.axis_10\"/>\r\n   <g id=\"patch_23\">\r\n    <path d=\"M 260.999677 58.803448 \r\nL 260.999677 10.7 \r\n\" style=\"fill:none;stroke:#000000;stroke-linecap:square;stroke-linejoin:miter;stroke-width:0.8;\"/>\r\n   </g>\r\n   <g id=\"patch_24\">\r\n    <path d=\"M 309.103125 58.803448 \r\nL 309.103125 10.7 \r\n\" style=\"fill:none;stroke:#000000;stroke-linecap:square;stroke-linejoin:miter;stroke-width:0.8;\"/>\r\n   </g>\r\n   <g id=\"patch_25\">\r\n    <path d=\"M 260.999677 58.803448 \r\nL 309.103125 58.803448 \r\n\" style=\"fill:none;stroke:#000000;stroke-linecap:square;stroke-linejoin:miter;stroke-width:0.8;\"/>\r\n   </g>\r\n   <g id=\"patch_26\">\r\n    <path d=\"M 260.999677 10.7 \r\nL 309.103125 10.7 \r\n\" style=\"fill:none;stroke:#000000;stroke-linecap:square;stroke-linejoin:miter;stroke-width:0.8;\"/>\r\n   </g>\r\n  </g>\r\n  <g id=\"axes_6\">\r\n   <g id=\"patch_27\">\r\n    <path d=\"M 30.103125 118.762633 \r\nL 78.206573 118.762633 \r\nL 78.206573 69.344451 \r\nL 30.103125 69.344451 \r\nz\r\n\" style=\"fill:#ffffff;\"/>\r\n   </g>\r\n   <g id=\"matplotlib.axis_11\">\r\n    <g id=\"xtick_1\">\r\n     <g id=\"line2d_1\">\r\n      <defs>\r\n       <path d=\"M 0 0 \r\nL 0 3.5 \r\n\" id=\"ma1f6d42ba3\" style=\"stroke:#000000;stroke-width:0.8;\"/>\r\n      </defs>\r\n      <g>\r\n       <use style=\"stroke:#000000;stroke-width:0.8;\" x=\"30.103125\" xlink:href=\"#ma1f6d42ba3\" y=\"118.762633\"/>\r\n      </g>\r\n     </g>\r\n     <g id=\"text_1\">\r\n      <!-- 0 -->\r\n      <defs>\r\n       <path d=\"M 31.78125 66.40625 \r\nQ 24.171875 66.40625 20.328125 58.90625 \r\nQ 16.5 51.421875 16.5 36.375 \r\nQ 16.5 21.390625 20.328125 13.890625 \r\nQ 24.171875 6.390625 31.78125 6.390625 \r\nQ 39.453125 6.390625 43.28125 13.890625 \r\nQ 47.125 21.390625 47.125 36.375 \r\nQ 47.125 51.421875 43.28125 58.90625 \r\nQ 39.453125 66.40625 31.78125 66.40625 \r\nz\r\nM 31.78125 74.21875 \r\nQ 44.046875 74.21875 50.515625 64.515625 \r\nQ 56.984375 54.828125 56.984375 36.375 \r\nQ 56.984375 17.96875 50.515625 8.265625 \r\nQ 44.046875 -1.421875 31.78125 -1.421875 \r\nQ 19.53125 -1.421875 13.0625 8.265625 \r\nQ 6.59375 17.96875 6.59375 36.375 \r\nQ 6.59375 54.828125 13.0625 64.515625 \r\nQ 19.53125 74.21875 31.78125 74.21875 \r\nz\r\n\" id=\"DejaVuSans-30\"/>\r\n      </defs>\r\n      <g transform=\"translate(26.921875 133.361071)scale(0.1 -0.1)\">\r\n       <use xlink:href=\"#DejaVuSans-30\"/>\r\n      </g>\r\n     </g>\r\n    </g>\r\n    <g id=\"xtick_2\">\r\n     <g id=\"line2d_2\">\r\n      <g>\r\n       <use style=\"stroke:#000000;stroke-width:0.8;\" x=\"78.206573\" xlink:href=\"#ma1f6d42ba3\" y=\"118.762633\"/>\r\n      </g>\r\n     </g>\r\n     <g id=\"text_2\">\r\n      <!-- 1 -->\r\n      <defs>\r\n       <path d=\"M 12.40625 8.296875 \r\nL 28.515625 8.296875 \r\nL 28.515625 63.921875 \r\nL 10.984375 60.40625 \r\nL 10.984375 69.390625 \r\nL 28.421875 72.90625 \r\nL 38.28125 72.90625 \r\nL 38.28125 8.296875 \r\nL 54.390625 8.296875 \r\nL 54.390625 0 \r\nL 12.40625 0 \r\nz\r\n\" id=\"DejaVuSans-31\"/>\r\n      </defs>\r\n      <g transform=\"translate(75.025323 133.361071)scale(0.1 -0.1)\">\r\n       <use xlink:href=\"#DejaVuSans-31\"/>\r\n      </g>\r\n     </g>\r\n    </g>\r\n   </g>\r\n   <g id=\"matplotlib.axis_12\">\r\n    <g id=\"ytick_1\">\r\n     <g id=\"line2d_3\">\r\n      <defs>\r\n       <path d=\"M 0 0 \r\nL -3.5 0 \r\n\" id=\"m512a78f3ac\" style=\"stroke:#000000;stroke-width:0.8;\"/>\r\n      </defs>\r\n      <g>\r\n       <use style=\"stroke:#000000;stroke-width:0.8;\" x=\"30.103125\" xlink:href=\"#m512a78f3ac\" y=\"118.762633\"/>\r\n      </g>\r\n     </g>\r\n     <g id=\"text_3\">\r\n      <!-- 0.0 -->\r\n      <defs>\r\n       <path d=\"M 10.6875 12.40625 \r\nL 21 12.40625 \r\nL 21 0 \r\nL 10.6875 0 \r\nz\r\n\" id=\"DejaVuSans-2e\"/>\r\n      </defs>\r\n      <g transform=\"translate(7.2 122.561852)scale(0.1 -0.1)\">\r\n       <use xlink:href=\"#DejaVuSans-30\"/>\r\n       <use x=\"63.623047\" xlink:href=\"#DejaVuSans-2e\"/>\r\n       <use x=\"95.410156\" xlink:href=\"#DejaVuSans-30\"/>\r\n      </g>\r\n     </g>\r\n    </g>\r\n    <g id=\"ytick_2\">\r\n     <g id=\"line2d_4\">\r\n      <g>\r\n       <use style=\"stroke:#000000;stroke-width:0.8;\" x=\"30.103125\" xlink:href=\"#m512a78f3ac\" y=\"94.053542\"/>\r\n      </g>\r\n     </g>\r\n     <g id=\"text_4\">\r\n      <!-- 0.5 -->\r\n      <defs>\r\n       <path d=\"M 10.796875 72.90625 \r\nL 49.515625 72.90625 \r\nL 49.515625 64.59375 \r\nL 19.828125 64.59375 \r\nL 19.828125 46.734375 \r\nQ 21.96875 47.46875 24.109375 47.828125 \r\nQ 26.265625 48.1875 28.421875 48.1875 \r\nQ 40.625 48.1875 47.75 41.5 \r\nQ 54.890625 34.8125 54.890625 23.390625 \r\nQ 54.890625 11.625 47.5625 5.09375 \r\nQ 40.234375 -1.421875 26.90625 -1.421875 \r\nQ 22.3125 -1.421875 17.546875 -0.640625 \r\nQ 12.796875 0.140625 7.71875 1.703125 \r\nL 7.71875 11.625 \r\nQ 12.109375 9.234375 16.796875 8.0625 \r\nQ 21.484375 6.890625 26.703125 6.890625 \r\nQ 35.15625 6.890625 40.078125 11.328125 \r\nQ 45.015625 15.765625 45.015625 23.390625 \r\nQ 45.015625 31 40.078125 35.4375 \r\nQ 35.15625 39.890625 26.703125 39.890625 \r\nQ 22.75 39.890625 18.8125 39.015625 \r\nQ 14.890625 38.140625 10.796875 36.28125 \r\nz\r\n\" id=\"DejaVuSans-35\"/>\r\n      </defs>\r\n      <g transform=\"translate(7.2 97.852761)scale(0.1 -0.1)\">\r\n       <use xlink:href=\"#DejaVuSans-30\"/>\r\n       <use x=\"63.623047\" xlink:href=\"#DejaVuSans-2e\"/>\r\n       <use x=\"95.410156\" xlink:href=\"#DejaVuSans-35\"/>\r\n      </g>\r\n     </g>\r\n    </g>\r\n    <g id=\"ytick_3\">\r\n     <g id=\"line2d_5\">\r\n      <g>\r\n       <use style=\"stroke:#000000;stroke-width:0.8;\" x=\"30.103125\" xlink:href=\"#m512a78f3ac\" y=\"69.344451\"/>\r\n      </g>\r\n     </g>\r\n     <g id=\"text_5\">\r\n      <!-- 1.0 -->\r\n      <g transform=\"translate(7.2 73.14367)scale(0.1 -0.1)\">\r\n       <use xlink:href=\"#DejaVuSans-31\"/>\r\n       <use x=\"63.623047\" xlink:href=\"#DejaVuSans-2e\"/>\r\n       <use x=\"95.410156\" xlink:href=\"#DejaVuSans-30\"/>\r\n      </g>\r\n     </g>\r\n    </g>\r\n   </g>\r\n   <g id=\"patch_28\">\r\n    <path d=\"M 30.103125 118.762633 \r\nL 30.103125 69.344451 \r\n\" style=\"fill:none;stroke:#000000;stroke-linecap:square;stroke-linejoin:miter;stroke-width:0.8;\"/>\r\n   </g>\r\n   <g id=\"patch_29\">\r\n    <path d=\"M 78.206573 118.762633 \r\nL 78.206573 69.344451 \r\n\" style=\"fill:none;stroke:#000000;stroke-linecap:square;stroke-linejoin:miter;stroke-width:0.8;\"/>\r\n   </g>\r\n   <g id=\"patch_30\">\r\n    <path d=\"M 30.103125 118.762633 \r\nL 78.206573 118.762633 \r\n\" style=\"fill:none;stroke:#000000;stroke-linecap:square;stroke-linejoin:miter;stroke-width:0.8;\"/>\r\n   </g>\r\n   <g id=\"patch_31\">\r\n    <path d=\"M 30.103125 69.344451 \r\nL 78.206573 69.344451 \r\n\" style=\"fill:none;stroke:#000000;stroke-linecap:square;stroke-linejoin:miter;stroke-width:0.8;\"/>\r\n   </g>\r\n  </g>\r\n  <g id=\"axes_7\">\r\n   <g id=\"patch_32\">\r\n    <path d=\"M 87.827263 118.762633 \r\nL 135.930711 118.762633 \r\nL 135.930711 69.344451 \r\nL 87.827263 69.344451 \r\nz\r\n\" style=\"fill:#ffffff;\"/>\r\n   </g>\r\n   <g id=\"matplotlib.axis_13\">\r\n    <g id=\"xtick_3\">\r\n     <g id=\"line2d_6\">\r\n      <g>\r\n       <use style=\"stroke:#000000;stroke-width:0.8;\" x=\"87.827263\" xlink:href=\"#ma1f6d42ba3\" y=\"118.762633\"/>\r\n      </g>\r\n     </g>\r\n     <g id=\"text_6\">\r\n      <!-- 0 -->\r\n      <g transform=\"translate(84.646013 133.361071)scale(0.1 -0.1)\">\r\n       <use xlink:href=\"#DejaVuSans-30\"/>\r\n      </g>\r\n     </g>\r\n    </g>\r\n    <g id=\"xtick_4\">\r\n     <g id=\"line2d_7\">\r\n      <g>\r\n       <use style=\"stroke:#000000;stroke-width:0.8;\" x=\"135.930711\" xlink:href=\"#ma1f6d42ba3\" y=\"118.762633\"/>\r\n      </g>\r\n     </g>\r\n     <g id=\"text_7\">\r\n      <!-- 1 -->\r\n      <g transform=\"translate(132.749461 133.361071)scale(0.1 -0.1)\">\r\n       <use xlink:href=\"#DejaVuSans-31\"/>\r\n      </g>\r\n     </g>\r\n    </g>\r\n   </g>\r\n   <g id=\"matplotlib.axis_14\">\r\n    <g id=\"ytick_4\">\r\n     <g id=\"line2d_8\">\r\n      <g>\r\n       <use style=\"stroke:#000000;stroke-width:0.8;\" x=\"87.827263\" xlink:href=\"#m512a78f3ac\" y=\"118.762633\"/>\r\n      </g>\r\n     </g>\r\n     <g id=\"text_8\">\r\n      <!-- 0.0 -->\r\n      <g transform=\"translate(64.924138 122.561852)scale(0.1 -0.1)\">\r\n       <use xlink:href=\"#DejaVuSans-30\"/>\r\n       <use x=\"63.623047\" xlink:href=\"#DejaVuSans-2e\"/>\r\n       <use x=\"95.410156\" xlink:href=\"#DejaVuSans-30\"/>\r\n      </g>\r\n     </g>\r\n    </g>\r\n    <g id=\"ytick_5\">\r\n     <g id=\"line2d_9\">\r\n      <g>\r\n       <use style=\"stroke:#000000;stroke-width:0.8;\" x=\"87.827263\" xlink:href=\"#m512a78f3ac\" y=\"94.053542\"/>\r\n      </g>\r\n     </g>\r\n     <g id=\"text_9\">\r\n      <!-- 0.5 -->\r\n      <g transform=\"translate(64.924138 97.852761)scale(0.1 -0.1)\">\r\n       <use xlink:href=\"#DejaVuSans-30\"/>\r\n       <use x=\"63.623047\" xlink:href=\"#DejaVuSans-2e\"/>\r\n       <use x=\"95.410156\" xlink:href=\"#DejaVuSans-35\"/>\r\n      </g>\r\n     </g>\r\n    </g>\r\n    <g id=\"ytick_6\">\r\n     <g id=\"line2d_10\">\r\n      <g>\r\n       <use style=\"stroke:#000000;stroke-width:0.8;\" x=\"87.827263\" xlink:href=\"#m512a78f3ac\" y=\"69.344451\"/>\r\n      </g>\r\n     </g>\r\n     <g id=\"text_10\">\r\n      <!-- 1.0 -->\r\n      <g transform=\"translate(64.924138 73.14367)scale(0.1 -0.1)\">\r\n       <use xlink:href=\"#DejaVuSans-31\"/>\r\n       <use x=\"63.623047\" xlink:href=\"#DejaVuSans-2e\"/>\r\n       <use x=\"95.410156\" xlink:href=\"#DejaVuSans-30\"/>\r\n      </g>\r\n     </g>\r\n    </g>\r\n   </g>\r\n   <g id=\"patch_33\">\r\n    <path d=\"M 87.827263 118.762633 \r\nL 87.827263 69.344451 \r\n\" style=\"fill:none;stroke:#000000;stroke-linecap:square;stroke-linejoin:miter;stroke-width:0.8;\"/>\r\n   </g>\r\n   <g id=\"patch_34\">\r\n    <path d=\"M 135.930711 118.762633 \r\nL 135.930711 69.344451 \r\n\" style=\"fill:none;stroke:#000000;stroke-linecap:square;stroke-linejoin:miter;stroke-width:0.8;\"/>\r\n   </g>\r\n   <g id=\"patch_35\">\r\n    <path d=\"M 87.827263 118.762633 \r\nL 135.930711 118.762633 \r\n\" style=\"fill:none;stroke:#000000;stroke-linecap:square;stroke-linejoin:miter;stroke-width:0.8;\"/>\r\n   </g>\r\n   <g id=\"patch_36\">\r\n    <path d=\"M 87.827263 69.344451 \r\nL 135.930711 69.344451 \r\n\" style=\"fill:none;stroke:#000000;stroke-linecap:square;stroke-linejoin:miter;stroke-width:0.8;\"/>\r\n   </g>\r\n  </g>\r\n  <g id=\"axes_8\">\r\n   <g id=\"patch_37\">\r\n    <path d=\"M 145.551401 118.762633 \r\nL 193.654849 118.762633 \r\nL 193.654849 69.344451 \r\nL 145.551401 69.344451 \r\nz\r\n\" style=\"fill:#ffffff;\"/>\r\n   </g>\r\n   <g id=\"matplotlib.axis_15\">\r\n    <g id=\"xtick_5\">\r\n     <g id=\"line2d_11\">\r\n      <g>\r\n       <use style=\"stroke:#000000;stroke-width:0.8;\" x=\"145.551401\" xlink:href=\"#ma1f6d42ba3\" y=\"118.762633\"/>\r\n      </g>\r\n     </g>\r\n     <g id=\"text_11\">\r\n      <!-- 0 -->\r\n      <g transform=\"translate(142.370151 133.361071)scale(0.1 -0.1)\">\r\n       <use xlink:href=\"#DejaVuSans-30\"/>\r\n      </g>\r\n     </g>\r\n    </g>\r\n    <g id=\"xtick_6\">\r\n     <g id=\"line2d_12\">\r\n      <g>\r\n       <use style=\"stroke:#000000;stroke-width:0.8;\" x=\"193.654849\" xlink:href=\"#ma1f6d42ba3\" y=\"118.762633\"/>\r\n      </g>\r\n     </g>\r\n     <g id=\"text_12\">\r\n      <!-- 1 -->\r\n      <g transform=\"translate(190.473599 133.361071)scale(0.1 -0.1)\">\r\n       <use xlink:href=\"#DejaVuSans-31\"/>\r\n      </g>\r\n     </g>\r\n    </g>\r\n   </g>\r\n   <g id=\"matplotlib.axis_16\">\r\n    <g id=\"ytick_7\">\r\n     <g id=\"line2d_13\">\r\n      <g>\r\n       <use style=\"stroke:#000000;stroke-width:0.8;\" x=\"145.551401\" xlink:href=\"#m512a78f3ac\" y=\"118.762633\"/>\r\n      </g>\r\n     </g>\r\n     <g id=\"text_13\">\r\n      <!-- 0.0 -->\r\n      <g transform=\"translate(122.648276 122.561852)scale(0.1 -0.1)\">\r\n       <use xlink:href=\"#DejaVuSans-30\"/>\r\n       <use x=\"63.623047\" xlink:href=\"#DejaVuSans-2e\"/>\r\n       <use x=\"95.410156\" xlink:href=\"#DejaVuSans-30\"/>\r\n      </g>\r\n     </g>\r\n    </g>\r\n    <g id=\"ytick_8\">\r\n     <g id=\"line2d_14\">\r\n      <g>\r\n       <use style=\"stroke:#000000;stroke-width:0.8;\" x=\"145.551401\" xlink:href=\"#m512a78f3ac\" y=\"94.053542\"/>\r\n      </g>\r\n     </g>\r\n     <g id=\"text_14\">\r\n      <!-- 0.5 -->\r\n      <g transform=\"translate(122.648276 97.852761)scale(0.1 -0.1)\">\r\n       <use xlink:href=\"#DejaVuSans-30\"/>\r\n       <use x=\"63.623047\" xlink:href=\"#DejaVuSans-2e\"/>\r\n       <use x=\"95.410156\" xlink:href=\"#DejaVuSans-35\"/>\r\n      </g>\r\n     </g>\r\n    </g>\r\n    <g id=\"ytick_9\">\r\n     <g id=\"line2d_15\">\r\n      <g>\r\n       <use style=\"stroke:#000000;stroke-width:0.8;\" x=\"145.551401\" xlink:href=\"#m512a78f3ac\" y=\"69.344451\"/>\r\n      </g>\r\n     </g>\r\n     <g id=\"text_15\">\r\n      <!-- 1.0 -->\r\n      <g transform=\"translate(122.648276 73.14367)scale(0.1 -0.1)\">\r\n       <use xlink:href=\"#DejaVuSans-31\"/>\r\n       <use x=\"63.623047\" xlink:href=\"#DejaVuSans-2e\"/>\r\n       <use x=\"95.410156\" xlink:href=\"#DejaVuSans-30\"/>\r\n      </g>\r\n     </g>\r\n    </g>\r\n   </g>\r\n   <g id=\"patch_38\">\r\n    <path d=\"M 145.551401 118.762633 \r\nL 145.551401 69.344451 \r\n\" style=\"fill:none;stroke:#000000;stroke-linecap:square;stroke-linejoin:miter;stroke-width:0.8;\"/>\r\n   </g>\r\n   <g id=\"patch_39\">\r\n    <path d=\"M 193.654849 118.762633 \r\nL 193.654849 69.344451 \r\n\" style=\"fill:none;stroke:#000000;stroke-linecap:square;stroke-linejoin:miter;stroke-width:0.8;\"/>\r\n   </g>\r\n   <g id=\"patch_40\">\r\n    <path d=\"M 145.551401 118.762633 \r\nL 193.654849 118.762633 \r\n\" style=\"fill:none;stroke:#000000;stroke-linecap:square;stroke-linejoin:miter;stroke-width:0.8;\"/>\r\n   </g>\r\n   <g id=\"patch_41\">\r\n    <path d=\"M 145.551401 69.344451 \r\nL 193.654849 69.344451 \r\n\" style=\"fill:none;stroke:#000000;stroke-linecap:square;stroke-linejoin:miter;stroke-width:0.8;\"/>\r\n   </g>\r\n  </g>\r\n  <g id=\"axes_9\">\r\n   <g id=\"patch_42\">\r\n    <path d=\"M 203.275539 118.762633 \r\nL 251.378987 118.762633 \r\nL 251.378987 69.344451 \r\nL 203.275539 69.344451 \r\nz\r\n\" style=\"fill:#ffffff;\"/>\r\n   </g>\r\n   <g id=\"matplotlib.axis_17\">\r\n    <g id=\"xtick_7\">\r\n     <g id=\"line2d_16\">\r\n      <g>\r\n       <use style=\"stroke:#000000;stroke-width:0.8;\" x=\"203.275539\" xlink:href=\"#ma1f6d42ba3\" y=\"118.762633\"/>\r\n      </g>\r\n     </g>\r\n     <g id=\"text_16\">\r\n      <!-- 0 -->\r\n      <g transform=\"translate(200.094289 133.361071)scale(0.1 -0.1)\">\r\n       <use xlink:href=\"#DejaVuSans-30\"/>\r\n      </g>\r\n     </g>\r\n    </g>\r\n    <g id=\"xtick_8\">\r\n     <g id=\"line2d_17\">\r\n      <g>\r\n       <use style=\"stroke:#000000;stroke-width:0.8;\" x=\"251.378987\" xlink:href=\"#ma1f6d42ba3\" y=\"118.762633\"/>\r\n      </g>\r\n     </g>\r\n     <g id=\"text_17\">\r\n      <!-- 1 -->\r\n      <g transform=\"translate(248.197737 133.361071)scale(0.1 -0.1)\">\r\n       <use xlink:href=\"#DejaVuSans-31\"/>\r\n      </g>\r\n     </g>\r\n    </g>\r\n   </g>\r\n   <g id=\"matplotlib.axis_18\">\r\n    <g id=\"ytick_10\">\r\n     <g id=\"line2d_18\">\r\n      <g>\r\n       <use style=\"stroke:#000000;stroke-width:0.8;\" x=\"203.275539\" xlink:href=\"#m512a78f3ac\" y=\"118.762633\"/>\r\n      </g>\r\n     </g>\r\n     <g id=\"text_18\">\r\n      <!-- 0.0 -->\r\n      <g transform=\"translate(180.372414 122.561852)scale(0.1 -0.1)\">\r\n       <use xlink:href=\"#DejaVuSans-30\"/>\r\n       <use x=\"63.623047\" xlink:href=\"#DejaVuSans-2e\"/>\r\n       <use x=\"95.410156\" xlink:href=\"#DejaVuSans-30\"/>\r\n      </g>\r\n     </g>\r\n    </g>\r\n    <g id=\"ytick_11\">\r\n     <g id=\"line2d_19\">\r\n      <g>\r\n       <use style=\"stroke:#000000;stroke-width:0.8;\" x=\"203.275539\" xlink:href=\"#m512a78f3ac\" y=\"94.053542\"/>\r\n      </g>\r\n     </g>\r\n     <g id=\"text_19\">\r\n      <!-- 0.5 -->\r\n      <g transform=\"translate(180.372414 97.852761)scale(0.1 -0.1)\">\r\n       <use xlink:href=\"#DejaVuSans-30\"/>\r\n       <use x=\"63.623047\" xlink:href=\"#DejaVuSans-2e\"/>\r\n       <use x=\"95.410156\" xlink:href=\"#DejaVuSans-35\"/>\r\n      </g>\r\n     </g>\r\n    </g>\r\n    <g id=\"ytick_12\">\r\n     <g id=\"line2d_20\">\r\n      <g>\r\n       <use style=\"stroke:#000000;stroke-width:0.8;\" x=\"203.275539\" xlink:href=\"#m512a78f3ac\" y=\"69.344451\"/>\r\n      </g>\r\n     </g>\r\n     <g id=\"text_20\">\r\n      <!-- 1.0 -->\r\n      <g transform=\"translate(180.372414 73.14367)scale(0.1 -0.1)\">\r\n       <use xlink:href=\"#DejaVuSans-31\"/>\r\n       <use x=\"63.623047\" xlink:href=\"#DejaVuSans-2e\"/>\r\n       <use x=\"95.410156\" xlink:href=\"#DejaVuSans-30\"/>\r\n      </g>\r\n     </g>\r\n    </g>\r\n   </g>\r\n   <g id=\"patch_43\">\r\n    <path d=\"M 203.275539 118.762633 \r\nL 203.275539 69.344451 \r\n\" style=\"fill:none;stroke:#000000;stroke-linecap:square;stroke-linejoin:miter;stroke-width:0.8;\"/>\r\n   </g>\r\n   <g id=\"patch_44\">\r\n    <path d=\"M 251.378987 118.762633 \r\nL 251.378987 69.344451 \r\n\" style=\"fill:none;stroke:#000000;stroke-linecap:square;stroke-linejoin:miter;stroke-width:0.8;\"/>\r\n   </g>\r\n   <g id=\"patch_45\">\r\n    <path d=\"M 203.275539 118.762633 \r\nL 251.378987 118.762633 \r\n\" style=\"fill:none;stroke:#000000;stroke-linecap:square;stroke-linejoin:miter;stroke-width:0.8;\"/>\r\n   </g>\r\n   <g id=\"patch_46\">\r\n    <path d=\"M 203.275539 69.344451 \r\nL 251.378987 69.344451 \r\n\" style=\"fill:none;stroke:#000000;stroke-linecap:square;stroke-linejoin:miter;stroke-width:0.8;\"/>\r\n   </g>\r\n  </g>\r\n  <g id=\"axes_10\">\r\n   <g id=\"patch_47\">\r\n    <path d=\"M 260.999677 118.762633 \r\nL 309.103125 118.762633 \r\nL 309.103125 69.344451 \r\nL 260.999677 69.344451 \r\nz\r\n\" style=\"fill:#ffffff;\"/>\r\n   </g>\r\n   <g id=\"matplotlib.axis_19\">\r\n    <g id=\"xtick_9\">\r\n     <g id=\"line2d_21\">\r\n      <g>\r\n       <use style=\"stroke:#000000;stroke-width:0.8;\" x=\"260.999677\" xlink:href=\"#ma1f6d42ba3\" y=\"118.762633\"/>\r\n      </g>\r\n     </g>\r\n     <g id=\"text_21\">\r\n      <!-- 0 -->\r\n      <g transform=\"translate(257.818427 133.361071)scale(0.1 -0.1)\">\r\n       <use xlink:href=\"#DejaVuSans-30\"/>\r\n      </g>\r\n     </g>\r\n    </g>\r\n    <g id=\"xtick_10\">\r\n     <g id=\"line2d_22\">\r\n      <g>\r\n       <use style=\"stroke:#000000;stroke-width:0.8;\" x=\"309.103125\" xlink:href=\"#ma1f6d42ba3\" y=\"118.762633\"/>\r\n      </g>\r\n     </g>\r\n     <g id=\"text_22\">\r\n      <!-- 1 -->\r\n      <g transform=\"translate(305.921875 133.361071)scale(0.1 -0.1)\">\r\n       <use xlink:href=\"#DejaVuSans-31\"/>\r\n      </g>\r\n     </g>\r\n    </g>\r\n   </g>\r\n   <g id=\"matplotlib.axis_20\">\r\n    <g id=\"ytick_13\">\r\n     <g id=\"line2d_23\">\r\n      <g>\r\n       <use style=\"stroke:#000000;stroke-width:0.8;\" x=\"260.999677\" xlink:href=\"#m512a78f3ac\" y=\"118.762633\"/>\r\n      </g>\r\n     </g>\r\n     <g id=\"text_23\">\r\n      <!-- 0.0 -->\r\n      <g transform=\"translate(238.096552 122.561852)scale(0.1 -0.1)\">\r\n       <use xlink:href=\"#DejaVuSans-30\"/>\r\n       <use x=\"63.623047\" xlink:href=\"#DejaVuSans-2e\"/>\r\n       <use x=\"95.410156\" xlink:href=\"#DejaVuSans-30\"/>\r\n      </g>\r\n     </g>\r\n    </g>\r\n    <g id=\"ytick_14\">\r\n     <g id=\"line2d_24\">\r\n      <g>\r\n       <use style=\"stroke:#000000;stroke-width:0.8;\" x=\"260.999677\" xlink:href=\"#m512a78f3ac\" y=\"94.053542\"/>\r\n      </g>\r\n     </g>\r\n     <g id=\"text_24\">\r\n      <!-- 0.5 -->\r\n      <g transform=\"translate(238.096552 97.852761)scale(0.1 -0.1)\">\r\n       <use xlink:href=\"#DejaVuSans-30\"/>\r\n       <use x=\"63.623047\" xlink:href=\"#DejaVuSans-2e\"/>\r\n       <use x=\"95.410156\" xlink:href=\"#DejaVuSans-35\"/>\r\n      </g>\r\n     </g>\r\n    </g>\r\n    <g id=\"ytick_15\">\r\n     <g id=\"line2d_25\">\r\n      <g>\r\n       <use style=\"stroke:#000000;stroke-width:0.8;\" x=\"260.999677\" xlink:href=\"#m512a78f3ac\" y=\"69.344451\"/>\r\n      </g>\r\n     </g>\r\n     <g id=\"text_25\">\r\n      <!-- 1.0 -->\r\n      <g transform=\"translate(238.096552 73.14367)scale(0.1 -0.1)\">\r\n       <use xlink:href=\"#DejaVuSans-31\"/>\r\n       <use x=\"63.623047\" xlink:href=\"#DejaVuSans-2e\"/>\r\n       <use x=\"95.410156\" xlink:href=\"#DejaVuSans-30\"/>\r\n      </g>\r\n     </g>\r\n    </g>\r\n   </g>\r\n   <g id=\"patch_48\">\r\n    <path d=\"M 260.999677 118.762633 \r\nL 260.999677 69.344451 \r\n\" style=\"fill:none;stroke:#000000;stroke-linecap:square;stroke-linejoin:miter;stroke-width:0.8;\"/>\r\n   </g>\r\n   <g id=\"patch_49\">\r\n    <path d=\"M 309.103125 118.762633 \r\nL 309.103125 69.344451 \r\n\" style=\"fill:none;stroke:#000000;stroke-linecap:square;stroke-linejoin:miter;stroke-width:0.8;\"/>\r\n   </g>\r\n   <g id=\"patch_50\">\r\n    <path d=\"M 260.999677 118.762633 \r\nL 309.103125 118.762633 \r\n\" style=\"fill:none;stroke:#000000;stroke-linecap:square;stroke-linejoin:miter;stroke-width:0.8;\"/>\r\n   </g>\r\n   <g id=\"patch_51\">\r\n    <path d=\"M 260.999677 69.344451 \r\nL 309.103125 69.344451 \r\n\" style=\"fill:none;stroke:#000000;stroke-linecap:square;stroke-linejoin:miter;stroke-width:0.8;\"/>\r\n   </g>\r\n  </g>\r\n </g>\r\n <defs>\r\n  <clipPath id=\"p9d35b0b280\">\r\n   <rect height=\"48.103448\" width=\"48.103448\" x=\"30.103125\" y=\"10.7\"/>\r\n  </clipPath>\r\n  <clipPath id=\"p53c3590898\">\r\n   <rect height=\"48.103448\" width=\"48.103448\" x=\"87.827263\" y=\"10.7\"/>\r\n  </clipPath>\r\n  <clipPath id=\"p0db780b6fe\">\r\n   <rect height=\"48.103448\" width=\"48.103448\" x=\"145.551401\" y=\"10.7\"/>\r\n  </clipPath>\r\n  <clipPath id=\"pe38ad798f2\">\r\n   <rect height=\"48.103448\" width=\"48.103448\" x=\"203.275539\" y=\"10.7\"/>\r\n  </clipPath>\r\n  <clipPath id=\"p5f45e1f74a\">\r\n   <rect height=\"48.103448\" width=\"48.103448\" x=\"260.999677\" y=\"10.7\"/>\r\n  </clipPath>\r\n </defs>\r\n</svg>\r\n",
      "text/plain": "<Figure size 360x144 with 10 Axes>"
     },
     "metadata": {
      "needs_background": "light"
     },
     "output_type": "display_data"
    }
   ],
   "source": [
    "optimizer = torch.optim.Adam(autoencoder.parameters(), lr=LR)\n",
    "loss_func = nn.MSELoss()\n",
    "# initialize figure\n",
    "f, a = plt.subplots(2, N_TEST_IMG, figsize=(5, 2))\n",
    "plt.ion()   # continuously plot\n",
    "\n",
    "# original data (first row) for viewing\n",
    "view_data = train_data.train_data[:N_TEST_IMG].view(-1, 28*28).type(torch.FloatTensor).cuda()/255.\n",
    "for i in range(N_TEST_IMG):\n",
    "    a[0][i].imshow(np.reshape(view_data.cuda().data.cpu().numpy()[i], (28, 28)), cmap='gray'); a[0][i].set_xticks(()); a[0][i].set_yticks(())"
   ]
  },
  {
   "cell_type": "code",
   "execution_count": 8,
   "metadata": {},
   "outputs": [
    {
     "name": "stdout",
     "output_type": "stream",
     "text": "Epoch:  0 | train loss: 0.2320\n"
    },
    {
     "data": {
      "text/plain": "<Figure size 432x288 with 0 Axes>"
     },
     "metadata": {},
     "output_type": "display_data"
    },
    {
     "name": "stdout",
     "output_type": "stream",
     "text": "Epoch:  0 | train loss: 0.0684\n"
    },
    {
     "data": {
      "text/plain": "<Figure size 432x288 with 0 Axes>"
     },
     "metadata": {},
     "output_type": "display_data"
    },
    {
     "name": "stdout",
     "output_type": "stream",
     "text": "Epoch:  0 | train loss: 0.0674\n"
    },
    {
     "data": {
      "text/plain": "<Figure size 432x288 with 0 Axes>"
     },
     "metadata": {},
     "output_type": "display_data"
    },
    {
     "name": "stdout",
     "output_type": "stream",
     "text": "Epoch:  0 | train loss: 0.0620\n"
    },
    {
     "data": {
      "text/plain": "<Figure size 432x288 with 0 Axes>"
     },
     "metadata": {},
     "output_type": "display_data"
    },
    {
     "name": "stdout",
     "output_type": "stream",
     "text": "Epoch:  0 | train loss: 0.0613\n"
    },
    {
     "data": {
      "text/plain": "<Figure size 432x288 with 0 Axes>"
     },
     "metadata": {},
     "output_type": "display_data"
    },
    {
     "name": "stdout",
     "output_type": "stream",
     "text": "Epoch:  0 | train loss: 0.0634\n"
    },
    {
     "data": {
      "text/plain": "<Figure size 432x288 with 0 Axes>"
     },
     "metadata": {},
     "output_type": "display_data"
    },
    {
     "name": "stdout",
     "output_type": "stream",
     "text": "Epoch:  0 | train loss: 0.0590\n"
    },
    {
     "data": {
      "text/plain": "<Figure size 432x288 with 0 Axes>"
     },
     "metadata": {},
     "output_type": "display_data"
    },
    {
     "name": "stdout",
     "output_type": "stream",
     "text": "Epoch:  0 | train loss: 0.0545\n"
    },
    {
     "data": {
      "text/plain": "<Figure size 432x288 with 0 Axes>"
     },
     "metadata": {},
     "output_type": "display_data"
    },
    {
     "name": "stdout",
     "output_type": "stream",
     "text": "Epoch:  0 | train loss: 0.0569\n"
    },
    {
     "data": {
      "text/plain": "<Figure size 432x288 with 0 Axes>"
     },
     "metadata": {},
     "output_type": "display_data"
    },
    {
     "name": "stdout",
     "output_type": "stream",
     "text": "Epoch:  0 | train loss: 0.0565\n"
    },
    {
     "data": {
      "text/plain": "<Figure size 432x288 with 0 Axes>"
     },
     "metadata": {},
     "output_type": "display_data"
    },
    {
     "name": "stdout",
     "output_type": "stream",
     "text": "Epoch:  1 | train loss: 0.0533\n"
    },
    {
     "data": {
      "text/plain": "<Figure size 432x288 with 0 Axes>"
     },
     "metadata": {},
     "output_type": "display_data"
    },
    {
     "name": "stdout",
     "output_type": "stream",
     "text": "Epoch:  1 | train loss: 0.0505\n"
    },
    {
     "data": {
      "text/plain": "<Figure size 432x288 with 0 Axes>"
     },
     "metadata": {},
     "output_type": "display_data"
    },
    {
     "name": "stdout",
     "output_type": "stream",
     "text": "Epoch:  1 | train loss: 0.0464\n"
    },
    {
     "data": {
      "text/plain": "<Figure size 432x288 with 0 Axes>"
     },
     "metadata": {},
     "output_type": "display_data"
    },
    {
     "name": "stdout",
     "output_type": "stream",
     "text": "Epoch:  1 | train loss: 0.0461\n"
    },
    {
     "data": {
      "text/plain": "<Figure size 432x288 with 0 Axes>"
     },
     "metadata": {},
     "output_type": "display_data"
    },
    {
     "name": "stdout",
     "output_type": "stream",
     "text": "Epoch:  1 | train loss: 0.0479\n"
    },
    {
     "data": {
      "text/plain": "<Figure size 432x288 with 0 Axes>"
     },
     "metadata": {},
     "output_type": "display_data"
    },
    {
     "name": "stdout",
     "output_type": "stream",
     "text": "Epoch:  1 | train loss: 0.0448\n"
    },
    {
     "data": {
      "text/plain": "<Figure size 432x288 with 0 Axes>"
     },
     "metadata": {},
     "output_type": "display_data"
    },
    {
     "name": "stdout",
     "output_type": "stream",
     "text": "Epoch:  1 | train loss: 0.0443\n"
    },
    {
     "data": {
      "text/plain": "<Figure size 432x288 with 0 Axes>"
     },
     "metadata": {},
     "output_type": "display_data"
    },
    {
     "name": "stdout",
     "output_type": "stream",
     "text": "Epoch:  1 | train loss: 0.0466\n"
    },
    {
     "data": {
      "text/plain": "<Figure size 432x288 with 0 Axes>"
     },
     "metadata": {},
     "output_type": "display_data"
    },
    {
     "name": "stdout",
     "output_type": "stream",
     "text": "Epoch:  1 | train loss: 0.0443\n"
    },
    {
     "data": {
      "text/plain": "<Figure size 432x288 with 0 Axes>"
     },
     "metadata": {},
     "output_type": "display_data"
    },
    {
     "name": "stdout",
     "output_type": "stream",
     "text": "Epoch:  1 | train loss: 0.0433\n"
    },
    {
     "data": {
      "text/plain": "<Figure size 432x288 with 0 Axes>"
     },
     "metadata": {},
     "output_type": "display_data"
    },
    {
     "name": "stdout",
     "output_type": "stream",
     "text": "Epoch:  2 | train loss: 0.0452\n"
    },
    {
     "data": {
      "text/plain": "<Figure size 432x288 with 0 Axes>"
     },
     "metadata": {},
     "output_type": "display_data"
    },
    {
     "name": "stdout",
     "output_type": "stream",
     "text": "Epoch:  2 | train loss: 0.0425\n"
    },
    {
     "data": {
      "text/plain": "<Figure size 432x288 with 0 Axes>"
     },
     "metadata": {},
     "output_type": "display_data"
    },
    {
     "name": "stdout",
     "output_type": "stream",
     "text": "Epoch:  2 | train loss: 0.0407\n"
    },
    {
     "data": {
      "text/plain": "<Figure size 432x288 with 0 Axes>"
     },
     "metadata": {},
     "output_type": "display_data"
    },
    {
     "name": "stdout",
     "output_type": "stream",
     "text": "Epoch:  2 | train loss: 0.0375\n"
    },
    {
     "data": {
      "text/plain": "<Figure size 432x288 with 0 Axes>"
     },
     "metadata": {},
     "output_type": "display_data"
    },
    {
     "name": "stdout",
     "output_type": "stream",
     "text": "Epoch:  2 | train loss: 0.0387\n"
    },
    {
     "data": {
      "text/plain": "<Figure size 432x288 with 0 Axes>"
     },
     "metadata": {},
     "output_type": "display_data"
    },
    {
     "name": "stdout",
     "output_type": "stream",
     "text": "Epoch:  2 | train loss: 0.0413\n"
    },
    {
     "data": {
      "text/plain": "<Figure size 432x288 with 0 Axes>"
     },
     "metadata": {},
     "output_type": "display_data"
    },
    {
     "name": "stdout",
     "output_type": "stream",
     "text": "Epoch:  2 | train loss: 0.0429\n"
    },
    {
     "data": {
      "text/plain": "<Figure size 432x288 with 0 Axes>"
     },
     "metadata": {},
     "output_type": "display_data"
    },
    {
     "name": "stdout",
     "output_type": "stream",
     "text": "Epoch:  2 | train loss: 0.0389\n"
    },
    {
     "data": {
      "text/plain": "<Figure size 432x288 with 0 Axes>"
     },
     "metadata": {},
     "output_type": "display_data"
    },
    {
     "name": "stdout",
     "output_type": "stream",
     "text": "Epoch:  2 | train loss: 0.0396\n"
    },
    {
     "data": {
      "text/plain": "<Figure size 432x288 with 0 Axes>"
     },
     "metadata": {},
     "output_type": "display_data"
    },
    {
     "name": "stdout",
     "output_type": "stream",
     "text": "Epoch:  2 | train loss: 0.0408\n"
    },
    {
     "data": {
      "text/plain": "<Figure size 432x288 with 0 Axes>"
     },
     "metadata": {},
     "output_type": "display_data"
    },
    {
     "name": "stdout",
     "output_type": "stream",
     "text": "Epoch:  3 | train loss: 0.0402\n"
    },
    {
     "data": {
      "text/plain": "<Figure size 432x288 with 0 Axes>"
     },
     "metadata": {},
     "output_type": "display_data"
    },
    {
     "name": "stdout",
     "output_type": "stream",
     "text": "Epoch:  3 | train loss: 0.0408\n"
    },
    {
     "data": {
      "text/plain": "<Figure size 432x288 with 0 Axes>"
     },
     "metadata": {},
     "output_type": "display_data"
    },
    {
     "name": "stdout",
     "output_type": "stream",
     "text": "Epoch:  3 | train loss: 0.0400\n"
    },
    {
     "data": {
      "text/plain": "<Figure size 432x288 with 0 Axes>"
     },
     "metadata": {},
     "output_type": "display_data"
    },
    {
     "name": "stdout",
     "output_type": "stream",
     "text": "Epoch:  3 | train loss: 0.0392\n"
    },
    {
     "data": {
      "text/plain": "<Figure size 432x288 with 0 Axes>"
     },
     "metadata": {},
     "output_type": "display_data"
    },
    {
     "name": "stdout",
     "output_type": "stream",
     "text": "Epoch:  3 | train loss: 0.0412\n"
    },
    {
     "data": {
      "text/plain": "<Figure size 432x288 with 0 Axes>"
     },
     "metadata": {},
     "output_type": "display_data"
    },
    {
     "name": "stdout",
     "output_type": "stream",
     "text": "Epoch:  3 | train loss: 0.0386\n"
    },
    {
     "data": {
      "text/plain": "<Figure size 432x288 with 0 Axes>"
     },
     "metadata": {},
     "output_type": "display_data"
    },
    {
     "name": "stdout",
     "output_type": "stream",
     "text": "Epoch:  3 | train loss: 0.0387\n"
    },
    {
     "data": {
      "text/plain": "<Figure size 432x288 with 0 Axes>"
     },
     "metadata": {},
     "output_type": "display_data"
    },
    {
     "name": "stdout",
     "output_type": "stream",
     "text": "Epoch:  3 | train loss: 0.0402\n"
    },
    {
     "data": {
      "text/plain": "<Figure size 432x288 with 0 Axes>"
     },
     "metadata": {},
     "output_type": "display_data"
    },
    {
     "name": "stdout",
     "output_type": "stream",
     "text": "Epoch:  3 | train loss: 0.0349\n"
    },
    {
     "data": {
      "text/plain": "<Figure size 432x288 with 0 Axes>"
     },
     "metadata": {},
     "output_type": "display_data"
    },
    {
     "name": "stdout",
     "output_type": "stream",
     "text": "Epoch:  3 | train loss: 0.0393\n"
    },
    {
     "data": {
      "text/plain": "<Figure size 432x288 with 0 Axes>"
     },
     "metadata": {},
     "output_type": "display_data"
    },
    {
     "name": "stdout",
     "output_type": "stream",
     "text": "Epoch:  4 | train loss: 0.0375\n"
    },
    {
     "data": {
      "text/plain": "<Figure size 432x288 with 0 Axes>"
     },
     "metadata": {},
     "output_type": "display_data"
    },
    {
     "name": "stdout",
     "output_type": "stream",
     "text": "Epoch:  4 | train loss: 0.0363\n"
    },
    {
     "data": {
      "text/plain": "<Figure size 432x288 with 0 Axes>"
     },
     "metadata": {},
     "output_type": "display_data"
    },
    {
     "name": "stdout",
     "output_type": "stream",
     "text": "Epoch:  4 | train loss: 0.0392\n"
    },
    {
     "data": {
      "text/plain": "<Figure size 432x288 with 0 Axes>"
     },
     "metadata": {},
     "output_type": "display_data"
    },
    {
     "name": "stdout",
     "output_type": "stream",
     "text": "Epoch:  4 | train loss: 0.0401\n"
    },
    {
     "data": {
      "text/plain": "<Figure size 432x288 with 0 Axes>"
     },
     "metadata": {},
     "output_type": "display_data"
    },
    {
     "name": "stdout",
     "output_type": "stream",
     "text": "Epoch:  4 | train loss: 0.0378\n"
    },
    {
     "data": {
      "text/plain": "<Figure size 432x288 with 0 Axes>"
     },
     "metadata": {},
     "output_type": "display_data"
    },
    {
     "name": "stdout",
     "output_type": "stream",
     "text": "Epoch:  4 | train loss: 0.0405\n"
    },
    {
     "data": {
      "text/plain": "<Figure size 432x288 with 0 Axes>"
     },
     "metadata": {},
     "output_type": "display_data"
    },
    {
     "name": "stdout",
     "output_type": "stream",
     "text": "Epoch:  4 | train loss: 0.0351\n"
    },
    {
     "data": {
      "text/plain": "<Figure size 432x288 with 0 Axes>"
     },
     "metadata": {},
     "output_type": "display_data"
    },
    {
     "name": "stdout",
     "output_type": "stream",
     "text": "Epoch:  4 | train loss: 0.0378\n"
    },
    {
     "data": {
      "text/plain": "<Figure size 432x288 with 0 Axes>"
     },
     "metadata": {},
     "output_type": "display_data"
    },
    {
     "name": "stdout",
     "output_type": "stream",
     "text": "Epoch:  4 | train loss: 0.0399\n"
    },
    {
     "data": {
      "text/plain": "<Figure size 432x288 with 0 Axes>"
     },
     "metadata": {},
     "output_type": "display_data"
    },
    {
     "name": "stdout",
     "output_type": "stream",
     "text": "Epoch:  4 | train loss: 0.0380\n"
    },
    {
     "data": {
      "text/plain": "<Figure size 432x288 with 0 Axes>"
     },
     "metadata": {},
     "output_type": "display_data"
    },
    {
     "name": "stdout",
     "output_type": "stream",
     "text": "Epoch:  5 | train loss: 0.0400\n"
    },
    {
     "data": {
      "text/plain": "<Figure size 432x288 with 0 Axes>"
     },
     "metadata": {},
     "output_type": "display_data"
    },
    {
     "name": "stdout",
     "output_type": "stream",
     "text": "Epoch:  5 | train loss: 0.0455\n"
    },
    {
     "data": {
      "text/plain": "<Figure size 432x288 with 0 Axes>"
     },
     "metadata": {},
     "output_type": "display_data"
    },
    {
     "name": "stdout",
     "output_type": "stream",
     "text": "Epoch:  5 | train loss: 0.0374\n"
    },
    {
     "data": {
      "text/plain": "<Figure size 432x288 with 0 Axes>"
     },
     "metadata": {},
     "output_type": "display_data"
    },
    {
     "name": "stdout",
     "output_type": "stream",
     "text": "Epoch:  5 | train loss: 0.0357\n"
    },
    {
     "data": {
      "text/plain": "<Figure size 432x288 with 0 Axes>"
     },
     "metadata": {},
     "output_type": "display_data"
    },
    {
     "name": "stdout",
     "output_type": "stream",
     "text": "Epoch:  5 | train loss: 0.0403\n"
    },
    {
     "data": {
      "text/plain": "<Figure size 432x288 with 0 Axes>"
     },
     "metadata": {},
     "output_type": "display_data"
    },
    {
     "name": "stdout",
     "output_type": "stream",
     "text": "Epoch:  5 | train loss: 0.0367\n"
    },
    {
     "data": {
      "text/plain": "<Figure size 432x288 with 0 Axes>"
     },
     "metadata": {},
     "output_type": "display_data"
    },
    {
     "name": "stdout",
     "output_type": "stream",
     "text": "Epoch:  5 | train loss: 0.0368\n"
    },
    {
     "data": {
      "text/plain": "<Figure size 432x288 with 0 Axes>"
     },
     "metadata": {},
     "output_type": "display_data"
    },
    {
     "name": "stdout",
     "output_type": "stream",
     "text": "Epoch:  5 | train loss: 0.0393\n"
    },
    {
     "data": {
      "text/plain": "<Figure size 432x288 with 0 Axes>"
     },
     "metadata": {},
     "output_type": "display_data"
    },
    {
     "name": "stdout",
     "output_type": "stream",
     "text": "Epoch:  5 | train loss: 0.0390\n"
    },
    {
     "data": {
      "text/plain": "<Figure size 432x288 with 0 Axes>"
     },
     "metadata": {},
     "output_type": "display_data"
    },
    {
     "name": "stdout",
     "output_type": "stream",
     "text": "Epoch:  5 | train loss: 0.0359\n"
    },
    {
     "data": {
      "text/plain": "<Figure size 432x288 with 0 Axes>"
     },
     "metadata": {},
     "output_type": "display_data"
    },
    {
     "name": "stdout",
     "output_type": "stream",
     "text": "Epoch:  6 | train loss: 0.0376\n"
    },
    {
     "data": {
      "text/plain": "<Figure size 432x288 with 0 Axes>"
     },
     "metadata": {},
     "output_type": "display_data"
    },
    {
     "name": "stdout",
     "output_type": "stream",
     "text": "Epoch:  6 | train loss: 0.0386\n"
    },
    {
     "data": {
      "text/plain": "<Figure size 432x288 with 0 Axes>"
     },
     "metadata": {},
     "output_type": "display_data"
    },
    {
     "name": "stdout",
     "output_type": "stream",
     "text": "Epoch:  6 | train loss: 0.0359\n"
    },
    {
     "data": {
      "text/plain": "<Figure size 432x288 with 0 Axes>"
     },
     "metadata": {},
     "output_type": "display_data"
    },
    {
     "name": "stdout",
     "output_type": "stream",
     "text": "Epoch:  6 | train loss: 0.0361\n"
    },
    {
     "data": {
      "text/plain": "<Figure size 432x288 with 0 Axes>"
     },
     "metadata": {},
     "output_type": "display_data"
    },
    {
     "name": "stdout",
     "output_type": "stream",
     "text": "Epoch:  6 | train loss: 0.0407\n"
    },
    {
     "data": {
      "text/plain": "<Figure size 432x288 with 0 Axes>"
     },
     "metadata": {},
     "output_type": "display_data"
    },
    {
     "name": "stdout",
     "output_type": "stream",
     "text": "Epoch:  6 | train loss: 0.0364\n"
    },
    {
     "data": {
      "text/plain": "<Figure size 432x288 with 0 Axes>"
     },
     "metadata": {},
     "output_type": "display_data"
    },
    {
     "name": "stdout",
     "output_type": "stream",
     "text": "Epoch:  6 | train loss: 0.0335\n"
    },
    {
     "data": {
      "text/plain": "<Figure size 432x288 with 0 Axes>"
     },
     "metadata": {},
     "output_type": "display_data"
    },
    {
     "name": "stdout",
     "output_type": "stream",
     "text": "Epoch:  6 | train loss: 0.0407\n"
    },
    {
     "data": {
      "text/plain": "<Figure size 432x288 with 0 Axes>"
     },
     "metadata": {},
     "output_type": "display_data"
    },
    {
     "name": "stdout",
     "output_type": "stream",
     "text": "Epoch:  6 | train loss: 0.0374\n"
    },
    {
     "data": {
      "text/plain": "<Figure size 432x288 with 0 Axes>"
     },
     "metadata": {},
     "output_type": "display_data"
    },
    {
     "name": "stdout",
     "output_type": "stream",
     "text": "Epoch:  6 | train loss: 0.0400\n"
    },
    {
     "data": {
      "text/plain": "<Figure size 432x288 with 0 Axes>"
     },
     "metadata": {},
     "output_type": "display_data"
    },
    {
     "name": "stdout",
     "output_type": "stream",
     "text": "Epoch:  7 | train loss: 0.0386\n"
    },
    {
     "data": {
      "text/plain": "<Figure size 432x288 with 0 Axes>"
     },
     "metadata": {},
     "output_type": "display_data"
    },
    {
     "name": "stdout",
     "output_type": "stream",
     "text": "Epoch:  7 | train loss: 0.0388\n"
    },
    {
     "data": {
      "text/plain": "<Figure size 432x288 with 0 Axes>"
     },
     "metadata": {},
     "output_type": "display_data"
    },
    {
     "name": "stdout",
     "output_type": "stream",
     "text": "Epoch:  7 | train loss: 0.0326\n"
    },
    {
     "data": {
      "text/plain": "<Figure size 432x288 with 0 Axes>"
     },
     "metadata": {},
     "output_type": "display_data"
    },
    {
     "name": "stdout",
     "output_type": "stream",
     "text": "Epoch:  7 | train loss: 0.0400\n"
    },
    {
     "data": {
      "text/plain": "<Figure size 432x288 with 0 Axes>"
     },
     "metadata": {},
     "output_type": "display_data"
    },
    {
     "name": "stdout",
     "output_type": "stream",
     "text": "Epoch:  7 | train loss: 0.0395\n"
    },
    {
     "data": {
      "text/plain": "<Figure size 432x288 with 0 Axes>"
     },
     "metadata": {},
     "output_type": "display_data"
    },
    {
     "name": "stdout",
     "output_type": "stream",
     "text": "Epoch:  7 | train loss: 0.0355\n"
    },
    {
     "data": {
      "text/plain": "<Figure size 432x288 with 0 Axes>"
     },
     "metadata": {},
     "output_type": "display_data"
    },
    {
     "name": "stdout",
     "output_type": "stream",
     "text": "Epoch:  7 | train loss: 0.0378\n"
    },
    {
     "data": {
      "text/plain": "<Figure size 432x288 with 0 Axes>"
     },
     "metadata": {},
     "output_type": "display_data"
    },
    {
     "name": "stdout",
     "output_type": "stream",
     "text": "Epoch:  7 | train loss: 0.0386\n"
    },
    {
     "data": {
      "text/plain": "<Figure size 432x288 with 0 Axes>"
     },
     "metadata": {},
     "output_type": "display_data"
    },
    {
     "name": "stdout",
     "output_type": "stream",
     "text": "Epoch:  7 | train loss: 0.0344\n"
    },
    {
     "data": {
      "text/plain": "<Figure size 432x288 with 0 Axes>"
     },
     "metadata": {},
     "output_type": "display_data"
    },
    {
     "name": "stdout",
     "output_type": "stream",
     "text": "Epoch:  7 | train loss: 0.0397\n"
    },
    {
     "data": {
      "text/plain": "<Figure size 432x288 with 0 Axes>"
     },
     "metadata": {},
     "output_type": "display_data"
    },
    {
     "name": "stdout",
     "output_type": "stream",
     "text": "Epoch:  8 | train loss: 0.0411\n"
    },
    {
     "data": {
      "text/plain": "<Figure size 432x288 with 0 Axes>"
     },
     "metadata": {},
     "output_type": "display_data"
    },
    {
     "name": "stdout",
     "output_type": "stream",
     "text": "Epoch:  8 | train loss: 0.0359\n"
    },
    {
     "data": {
      "text/plain": "<Figure size 432x288 with 0 Axes>"
     },
     "metadata": {},
     "output_type": "display_data"
    },
    {
     "name": "stdout",
     "output_type": "stream",
     "text": "Epoch:  8 | train loss: 0.0384\n"
    },
    {
     "data": {
      "text/plain": "<Figure size 432x288 with 0 Axes>"
     },
     "metadata": {},
     "output_type": "display_data"
    },
    {
     "name": "stdout",
     "output_type": "stream",
     "text": "Epoch:  8 | train loss: 0.0388\n"
    },
    {
     "data": {
      "text/plain": "<Figure size 432x288 with 0 Axes>"
     },
     "metadata": {},
     "output_type": "display_data"
    },
    {
     "name": "stdout",
     "output_type": "stream",
     "text": "Epoch:  8 | train loss: 0.0362\n"
    },
    {
     "data": {
      "text/plain": "<Figure size 432x288 with 0 Axes>"
     },
     "metadata": {},
     "output_type": "display_data"
    },
    {
     "name": "stdout",
     "output_type": "stream",
     "text": "Epoch:  8 | train loss: 0.0387\n"
    },
    {
     "data": {
      "text/plain": "<Figure size 432x288 with 0 Axes>"
     },
     "metadata": {},
     "output_type": "display_data"
    },
    {
     "name": "stdout",
     "output_type": "stream",
     "text": "Epoch:  8 | train loss: 0.0371\n"
    },
    {
     "data": {
      "text/plain": "<Figure size 432x288 with 0 Axes>"
     },
     "metadata": {},
     "output_type": "display_data"
    },
    {
     "name": "stdout",
     "output_type": "stream",
     "text": "Epoch:  8 | train loss: 0.0361\n"
    },
    {
     "data": {
      "text/plain": "<Figure size 432x288 with 0 Axes>"
     },
     "metadata": {},
     "output_type": "display_data"
    },
    {
     "name": "stdout",
     "output_type": "stream",
     "text": "Epoch:  8 | train loss: 0.0367\n"
    },
    {
     "data": {
      "text/plain": "<Figure size 432x288 with 0 Axes>"
     },
     "metadata": {},
     "output_type": "display_data"
    },
    {
     "name": "stdout",
     "output_type": "stream",
     "text": "Epoch:  8 | train loss: 0.0324\n"
    },
    {
     "data": {
      "text/plain": "<Figure size 432x288 with 0 Axes>"
     },
     "metadata": {},
     "output_type": "display_data"
    },
    {
     "name": "stdout",
     "output_type": "stream",
     "text": "Epoch:  9 | train loss: 0.0329\n"
    },
    {
     "data": {
      "text/plain": "<Figure size 432x288 with 0 Axes>"
     },
     "metadata": {},
     "output_type": "display_data"
    },
    {
     "name": "stdout",
     "output_type": "stream",
     "text": "Epoch:  9 | train loss: 0.0352\n"
    },
    {
     "data": {
      "text/plain": "<Figure size 432x288 with 0 Axes>"
     },
     "metadata": {},
     "output_type": "display_data"
    },
    {
     "name": "stdout",
     "output_type": "stream",
     "text": "Epoch:  9 | train loss: 0.0409\n"
    },
    {
     "data": {
      "text/plain": "<Figure size 432x288 with 0 Axes>"
     },
     "metadata": {},
     "output_type": "display_data"
    },
    {
     "name": "stdout",
     "output_type": "stream",
     "text": "Epoch:  9 | train loss: 0.0343\n"
    },
    {
     "data": {
      "text/plain": "<Figure size 432x288 with 0 Axes>"
     },
     "metadata": {},
     "output_type": "display_data"
    },
    {
     "name": "stdout",
     "output_type": "stream",
     "text": "Epoch:  9 | train loss: 0.0400\n"
    },
    {
     "data": {
      "text/plain": "<Figure size 432x288 with 0 Axes>"
     },
     "metadata": {},
     "output_type": "display_data"
    },
    {
     "name": "stdout",
     "output_type": "stream",
     "text": "Epoch:  9 | train loss: 0.0353\n"
    },
    {
     "data": {
      "text/plain": "<Figure size 432x288 with 0 Axes>"
     },
     "metadata": {},
     "output_type": "display_data"
    },
    {
     "name": "stdout",
     "output_type": "stream",
     "text": "Epoch:  9 | train loss: 0.0365\n"
    },
    {
     "data": {
      "text/plain": "<Figure size 432x288 with 0 Axes>"
     },
     "metadata": {},
     "output_type": "display_data"
    },
    {
     "name": "stdout",
     "output_type": "stream",
     "text": "Epoch:  9 | train loss: 0.0392\n"
    },
    {
     "data": {
      "text/plain": "<Figure size 432x288 with 0 Axes>"
     },
     "metadata": {},
     "output_type": "display_data"
    },
    {
     "name": "stdout",
     "output_type": "stream",
     "text": "Epoch:  9 | train loss: 0.0368\n"
    },
    {
     "data": {
      "text/plain": "<Figure size 432x288 with 0 Axes>"
     },
     "metadata": {},
     "output_type": "display_data"
    },
    {
     "name": "stdout",
     "output_type": "stream",
     "text": "Epoch:  9 | train loss: 0.0361\n"
    },
    {
     "data": {
      "text/plain": "<Figure size 432x288 with 0 Axes>"
     },
     "metadata": {},
     "output_type": "display_data"
    }
   ],
   "source": [
    "for epoch in range(EPOCH):\n",
    "    for step, (x, b_label) in enumerate(train_loader):\n",
    "        b_x = x.view(-1, 28*28).cuda()   # batch x, shape (batch, 28*28)\n",
    "        b_y = x.view(-1, 28*28).cuda()   # batch y, shape (batch, 28*28)\n",
    "\n",
    "\n",
    "        encoded, decoded = autoencoder(b_x)\n",
    "\n",
    "        loss = loss_func(decoded, b_y)      # mean square error\n",
    "        loss = loss.cuda()\n",
    "        optimizer.zero_grad()               # clear gradients for this training step\n",
    "        loss.backward()                     # backpropagation, compute gradients\n",
    "        optimizer.step()                    # apply gradients\n",
    "        if step % 100 == 0:\n",
    "            print('Epoch: ', epoch, '| train loss: %.4f' % loss.cuda().data.cpu().numpy())\n",
    "\n",
    "            # plotting decoded image (second row)\n",
    "            _, decoded_data = autoencoder(view_data)\n",
    "            for i in range(N_TEST_IMG):\n",
    "                a[1][i].clear()\n",
    "                a[1][i].imshow(np.reshape(decoded_data.cuda().data.cpu().numpy()[i], (28, 28)), cmap='gray')\n",
    "                a[1][i].set_xticks(()); a[1][i].set_yticks(())\n",
    "            plt.draw(); plt.pause(0.05)\n",
    "\n",
    "plt.ioff()\n",
    "plt.show()\n"
   ]
  },
  {
   "cell_type": "code",
   "execution_count": 12,
   "metadata": {},
   "outputs": [
    {
     "data": {
      "image/png": "[encoded data removed]",
      "image/svg+xml": "<?xml version=\"1.0\" encoding=\"utf-8\" standalone=\"no\"?>\r\n<!DOCTYPE svg PUBLIC \"-//W3C//DTD SVG 1.1//EN\"\r\n  \"http://www.w3.org/Graphics/SVG/1.1/DTD/svg11.dtd\">\r\n<!-- Created with matplotlib (http://matplotlib.org/) -->\r\n<svg height=\"309.4pt\" version=\"1.1\" viewBox=\"0 0 453.4 309.4\" width=\"453.4pt\" xmlns=\"http://www.w3.org/2000/svg\" xmlns:xlink=\"http://www.w3.org/1999/xlink\">\r\n <defs>\r\n  <style type=\"text/css\">\r\n*{stroke-linecap:butt;stroke-linejoin:round;}\r\n  </style>\r\n </defs>\r\n <g id=\"figure_1\">\r\n  <g id=\"patch_1\">\r\n   <path d=\"M 0 309.4 \r\nL 453.4 309.4 \r\nL 453.4 0 \r\nL 0 0 \r\nz\r\n\" style=\"fill:none;\"/>\r\n  </g>\r\n  <g id=\"patch_2\">\r\n   <path d=\"M 10.7 298.7 \r\nL 442.7 298.7 \r\nL 442.7 10.7 \r\nL 10.7 10.7 \r\nz\r\n\" style=\"fill:#ffffff;\"/>\r\n  </g>\r\n  <g id=\"pane3d_1\">\r\n   <g id=\"patch_3\">\r\n    <path d=\"M 67.968276 235.06215 \r\nL 191.608936 164.451075 \r\nL 189.55045 29.524902 \r\nL 59.016013 92.9675 \r\n\" style=\"fill:#f2f2f2;opacity:0.5;stroke:#f2f2f2;stroke-linejoin:miter;\"/>\r\n   </g>\r\n  </g>\r\n  <g id=\"pane3d_2\">\r\n   <g id=\"patch_4\">\r\n    <path d=\"M 191.608936 164.451075 \r\nL 391.895181 203.927223 \r\nL 400.274918 64.932405 \r\nL 189.55045 29.524902 \r\n\" style=\"fill:#e6e6e6;opacity:0.5;stroke:#e6e6e6;stroke-linejoin:miter;\"/>\r\n   </g>\r\n  </g>\r\n  <g id=\"pane3d_3\">\r\n   <g id=\"patch_5\">\r\n    <path d=\"M 67.968276 235.06215 \r\nL 278.696469 281.038555 \r\nL 391.895181 203.927223 \r\nL 191.608936 164.451075 \r\n\" style=\"fill:#ececec;opacity:0.5;stroke:#ececec;stroke-linejoin:miter;\"/>\r\n   </g>\r\n  </g>\r\n  <g id=\"axis3d_1\">\r\n   <g id=\"line2d_1\">\r\n    <path d=\"M 67.968276 235.06215 \r\nL 278.696469 281.038555 \r\n\" style=\"fill:none;stroke:#000000;stroke-linecap:square;stroke-width:0.8;\"/>\r\n   </g>\r\n   <g id=\"Line3DCollection_1\">\r\n    <path d=\"M 85.782108 238.948749 \r\nL 208.592117 167.798437 \r\nL 207.383145 32.521284 \r\n\" style=\"fill:none;stroke:#b0b0b0;stroke-width:0.8;\"/>\r\n    <path d=\"M 129.338813 248.451894 \r\nL 250.077204 175.975092 \r\nL 250.971041 39.845249 \r\n\" style=\"fill:none;stroke:#b0b0b0;stroke-width:0.8;\"/>\r\n    <path d=\"M 173.742484 258.13983 \r\nL 292.309772 184.299073 \r\nL 295.384709 47.307966 \r\n\" style=\"fill:none;stroke:#b0b0b0;stroke-width:0.8;\"/>\r\n    <path d=\"M 219.018067 268.017999 \r\nL 335.310205 192.7744 \r\nL 340.647839 54.913416 \r\n\" style=\"fill:none;stroke:#b0b0b0;stroke-width:0.8;\"/>\r\n    <path d=\"M 265.1915 278.092059 \r\nL 379.099637 201.405238 \r\nL 386.785037 62.665734 \r\n\" style=\"fill:none;stroke:#b0b0b0;stroke-width:0.8;\"/>\r\n   </g>\r\n   <g id=\"xtick_1\">\r\n    <g id=\"line2d_2\">\r\n     <path d=\"M 86.840262 238.335704 \r\nL 83.661848 240.177127 \r\n\" style=\"fill:none;stroke:#000000;stroke-linecap:square;stroke-width:0.8;\"/>\r\n    </g>\r\n    <g id=\"text_1\">\r\n     <!-- −2 -->\r\n     <defs>\r\n      <path d=\"M 10.59375 35.5 \r\nL 73.1875 35.5 \r\nL 73.1875 27.203125 \r\nL 10.59375 27.203125 \r\nz\r\n\" id=\"DejaVuSans-2212\"/>\r\n      <path d=\"M 19.1875 8.296875 \r\nL 53.609375 8.296875 \r\nL 53.609375 0 \r\nL 7.328125 0 \r\nL 7.328125 8.296875 \r\nQ 12.9375 14.109375 22.625 23.890625 \r\nQ 32.328125 33.6875 34.8125 36.53125 \r\nQ 39.546875 41.84375 41.421875 45.53125 \r\nQ 43.3125 49.21875 43.3125 52.78125 \r\nQ 43.3125 58.59375 39.234375 62.25 \r\nQ 35.15625 65.921875 28.609375 65.921875 \r\nQ 23.96875 65.921875 18.8125 64.3125 \r\nQ 13.671875 62.703125 7.8125 59.421875 \r\nL 7.8125 69.390625 \r\nQ 13.765625 71.78125 18.9375 73 \r\nQ 24.125 74.21875 28.421875 74.21875 \r\nQ 39.75 74.21875 46.484375 68.546875 \r\nQ 53.21875 62.890625 53.21875 53.421875 \r\nQ 53.21875 48.921875 51.53125 44.890625 \r\nQ 49.859375 40.875 45.40625 35.40625 \r\nQ 44.1875 33.984375 37.640625 27.21875 \r\nQ 31.109375 20.453125 19.1875 8.296875 \r\nz\r\n\" id=\"DejaVuSans-32\"/>\r\n     </defs>\r\n     <g transform=\"translate(70.747494 259.556624)scale(0.1 -0.1)\">\r\n      <use xlink:href=\"#DejaVuSans-2212\"/>\r\n      <use x=\"83.789062\" xlink:href=\"#DejaVuSans-32\"/>\r\n     </g>\r\n    </g>\r\n   </g>\r\n   <g id=\"xtick_2\">\r\n    <g id=\"line2d_3\">\r\n     <path d=\"M 130.379834 247.826991 \r\nL 127.252846 249.704058 \r\n\" style=\"fill:none;stroke:#000000;stroke-linecap:square;stroke-width:0.8;\"/>\r\n    </g>\r\n    <g id=\"text_2\">\r\n     <!-- −1 -->\r\n     <defs>\r\n      <path d=\"M 12.40625 8.296875 \r\nL 28.515625 8.296875 \r\nL 28.515625 63.921875 \r\nL 10.984375 60.40625 \r\nL 10.984375 69.390625 \r\nL 28.421875 72.90625 \r\nL 38.28125 72.90625 \r\nL 38.28125 8.296875 \r\nL 54.390625 8.296875 \r\nL 54.390625 0 \r\nL 12.40625 0 \r\nz\r\n\" id=\"DejaVuSans-31\"/>\r\n     </defs>\r\n     <g transform=\"translate(114.300252 269.200502)scale(0.1 -0.1)\">\r\n      <use xlink:href=\"#DejaVuSans-2212\"/>\r\n      <use x=\"83.789062\" xlink:href=\"#DejaVuSans-31\"/>\r\n     </g>\r\n    </g>\r\n   </g>\r\n   <g id=\"xtick_3\">\r\n    <g id=\"line2d_4\">\r\n     <path d=\"M 174.765502 257.50272 \r\nL 171.692553 259.416476 \r\n\" style=\"fill:none;stroke:#000000;stroke-linecap:square;stroke-width:0.8;\"/>\r\n    </g>\r\n    <g id=\"text_3\">\r\n     <!-- 0 -->\r\n     <defs>\r\n      <path d=\"M 31.78125 66.40625 \r\nQ 24.171875 66.40625 20.328125 58.90625 \r\nQ 16.5 51.421875 16.5 36.375 \r\nQ 16.5 21.390625 20.328125 13.890625 \r\nQ 24.171875 6.390625 31.78125 6.390625 \r\nQ 39.453125 6.390625 43.28125 13.890625 \r\nQ 47.125 21.390625 47.125 36.375 \r\nQ 47.125 51.421875 43.28125 58.90625 \r\nQ 39.453125 66.40625 31.78125 66.40625 \r\nz\r\nM 31.78125 74.21875 \r\nQ 44.046875 74.21875 50.515625 64.515625 \r\nQ 56.984375 54.828125 56.984375 36.375 \r\nQ 56.984375 17.96875 50.515625 8.265625 \r\nQ 44.046875 -1.421875 31.78125 -1.421875 \r\nQ 19.53125 -1.421875 13.0625 8.265625 \r\nQ 6.59375 17.96875 6.59375 36.375 \r\nQ 6.59375 54.828125 13.0625 64.515625 \r\nQ 19.53125 74.21875 31.78125 74.21875 \r\nz\r\n\" id=\"DejaVuSans-30\"/>\r\n     </defs>\r\n     <g transform=\"translate(162.891117 279.032212)scale(0.1 -0.1)\">\r\n      <use xlink:href=\"#DejaVuSans-30\"/>\r\n     </g>\r\n    </g>\r\n   </g>\r\n   <g id=\"xtick_4\">\r\n    <g id=\"line2d_5\">\r\n     <path d=\"M 220.022172 267.368321 \r\nL 217.005998 269.319852 \r\n\" style=\"fill:none;stroke:#000000;stroke-linecap:square;stroke-width:0.8;\"/>\r\n    </g>\r\n    <g id=\"text_4\">\r\n     <!-- 1 -->\r\n     <g transform=\"translate(208.165427 289.057293)scale(0.1 -0.1)\">\r\n      <use xlink:href=\"#DejaVuSans-31\"/>\r\n     </g>\r\n    </g>\r\n   </g>\r\n   <g id=\"xtick_5\">\r\n    <g id=\"line2d_6\">\r\n     <path d=\"M 266.175736 277.429437 \r\nL 263.219207 279.419874 \r\n\" style=\"fill:none;stroke:#000000;stroke-linecap:square;stroke-width:0.8;\"/>\r\n    </g>\r\n    <g id=\"text_5\">\r\n     <!-- 2 -->\r\n     <g transform=\"translate(254.339046 299.281509)scale(0.1 -0.1)\">\r\n      <use xlink:href=\"#DejaVuSans-32\"/>\r\n     </g>\r\n    </g>\r\n   </g>\r\n  </g>\r\n  <g id=\"axis3d_2\">\r\n   <g id=\"line2d_7\">\r\n    <path d=\"M 391.895181 203.927223 \r\nL 278.696469 281.038555 \r\n\" style=\"fill:none;stroke:#000000;stroke-linecap:square;stroke-width:0.8;\"/>\r\n   </g>\r\n   <g id=\"Line3DCollection_2\">\r\n    <path d=\"M 78.391973 83.550358 \r\nL 86.260091 224.61571 \r\nL 295.491379 269.597807 \r\n\" style=\"fill:none;stroke:#b0b0b0;stroke-width:0.8;\"/>\r\n    <path d=\"M 101.623474 72.25934 \r\nL 108.219614 212.074645 \r\nL 315.631826 255.878069 \r\n\" style=\"fill:none;stroke:#b0b0b0;stroke-width:0.8;\"/>\r\n    <path d=\"M 124.232528 61.270844 \r\nL 129.620039 199.852881 \r\nL 335.236404 242.523367 \r\n\" style=\"fill:none;stroke:#b0b0b0;stroke-width:0.8;\"/>\r\n    <path d=\"M 146.243821 50.572872 \r\nL 150.48245 187.938376 \r\nL 354.326219 229.519322 \r\n\" style=\"fill:none;stroke:#b0b0b0;stroke-width:0.8;\"/>\r\n    <path d=\"M 167.680751 40.154055 \r\nL 170.826883 176.319688 \r\nL 372.921282 216.852304 \r\n\" style=\"fill:none;stroke:#b0b0b0;stroke-width:0.8;\"/>\r\n   </g>\r\n   <g id=\"xtick_6\">\r\n    <g id=\"line2d_8\">\r\n     <path d=\"M 293.740762 269.221447 \r\nL 298.996502 270.351365 \r\n\" style=\"fill:none;stroke:#000000;stroke-linecap:square;stroke-width:0.8;\"/>\r\n    </g>\r\n    <g id=\"text_6\">\r\n     <!-- −2 -->\r\n     <g transform=\"translate(301.334648 288.520543)scale(0.1 -0.1)\">\r\n      <use xlink:href=\"#DejaVuSans-2212\"/>\r\n      <use x=\"83.789062\" xlink:href=\"#DejaVuSans-32\"/>\r\n     </g>\r\n    </g>\r\n   </g>\r\n   <g id=\"xtick_7\">\r\n    <g id=\"line2d_9\">\r\n     <path d=\"M 313.897455 255.511787 \r\nL 319.10437 256.611436 \r\n\" style=\"fill:none;stroke:#000000;stroke-linecap:square;stroke-width:0.8;\"/>\r\n    </g>\r\n    <g id=\"text_7\">\r\n     <!-- −1 -->\r\n     <g transform=\"translate(321.288292 274.654126)scale(0.1 -0.1)\">\r\n      <use xlink:href=\"#DejaVuSans-2212\"/>\r\n      <use x=\"83.789062\" xlink:href=\"#DejaVuSans-31\"/>\r\n     </g>\r\n    </g>\r\n   </g>\r\n   <g id=\"xtick_8\">\r\n    <g id=\"line2d_10\">\r\n     <path d=\"M 333.518039 242.166763 \r\nL 338.676849 243.237344 \r\n\" style=\"fill:none;stroke:#000000;stroke-linecap:square;stroke-width:0.8;\"/>\r\n    </g>\r\n    <g id=\"text_8\">\r\n     <!-- 0 -->\r\n     <g transform=\"translate(344.901107 261.15649)scale(0.1 -0.1)\">\r\n      <use xlink:href=\"#DejaVuSans-30\"/>\r\n     </g>\r\n    </g>\r\n   </g>\r\n   <g id=\"xtick_9\">\r\n    <g id=\"line2d_11\">\r\n     <path d=\"M 352.623623 229.172019 \r\nL 357.735043 230.214669 \r\n\" style=\"fill:none;stroke:#000000;stroke-linecap:square;stroke-width:0.8;\"/>\r\n    </g>\r\n    <g id=\"text_9\">\r\n     <!-- 1 -->\r\n     <g transform=\"translate(363.8143 248.013116)scale(0.1 -0.1)\">\r\n      <use xlink:href=\"#DejaVuSans-31\"/>\r\n     </g>\r\n    </g>\r\n   </g>\r\n   <g id=\"xtick_10\">\r\n    <g id=\"line2d_12\">\r\n     <path d=\"M 371.234221 216.513943 \r\nL 376.298958 217.529741 \r\n\" style=\"fill:none;stroke:#000000;stroke-linecap:square;stroke-width:0.8;\"/>\r\n    </g>\r\n    <g id=\"text_10\">\r\n     <!-- 2 -->\r\n     <g transform=\"translate(382.237522 235.210237)scale(0.1 -0.1)\">\r\n      <use xlink:href=\"#DejaVuSans-32\"/>\r\n     </g>\r\n    </g>\r\n   </g>\r\n  </g>\r\n  <g id=\"axis3d_3\">\r\n   <g id=\"line2d_13\">\r\n    <path d=\"M 391.895181 203.927223 \r\nL 400.274918 64.932405 \r\n\" style=\"fill:none;stroke:#000000;stroke-linecap:square;stroke-width:0.8;\"/>\r\n   </g>\r\n   <g id=\"Line3DCollection_3\">\r\n    <path d=\"M 392.699733 190.582111 \r\nL 191.410908 151.471068 \r\nL 67.110091 221.440633 \r\n\" style=\"fill:none;stroke:#b0b0b0;stroke-width:0.8;\"/>\r\n    <path d=\"M 394.037434 168.393636 \r\nL 191.081837 129.901666 \r\nL 65.682589 198.782627 \r\n\" style=\"fill:none;stroke:#b0b0b0;stroke-width:0.8;\"/>\r\n    <path d=\"M 395.397669 145.831396 \r\nL 190.747457 107.984311 \r\nL 64.230236 175.730179 \r\n\" style=\"fill:none;stroke:#b0b0b0;stroke-width:0.8;\"/>\r\n    <path d=\"M 396.781012 122.885865 \r\nL 190.407639 85.710515 \r\nL 62.752378 152.272897 \r\n\" style=\"fill:none;stroke:#b0b0b0;stroke-width:0.8;\"/>\r\n    <path d=\"M 398.188057 99.547192 \r\nL 190.06225 63.071511 \r\nL 61.248336 128.400023 \r\n\" style=\"fill:none;stroke:#b0b0b0;stroke-width:0.8;\"/>\r\n    <path d=\"M 399.619418 75.805187 \r\nL 189.711151 40.058244 \r\nL 59.71741 104.100415 \r\n\" style=\"fill:none;stroke:#b0b0b0;stroke-width:0.8;\"/>\r\n   </g>\r\n   <g id=\"xtick_11\">\r\n    <g id=\"line2d_14\">\r\n     <path d=\"M 391.019985 190.255731 \r\nL 396.062736 191.235553 \r\n\" style=\"fill:none;stroke:#000000;stroke-linecap:square;stroke-width:0.8;\"/>\r\n    </g>\r\n    <g id=\"text_11\">\r\n     <!-- −3 -->\r\n     <defs>\r\n      <path d=\"M 40.578125 39.3125 \r\nQ 47.65625 37.796875 51.625 33 \r\nQ 55.609375 28.21875 55.609375 21.1875 \r\nQ 55.609375 10.40625 48.1875 4.484375 \r\nQ 40.765625 -1.421875 27.09375 -1.421875 \r\nQ 22.515625 -1.421875 17.65625 -0.515625 \r\nQ 12.796875 0.390625 7.625 2.203125 \r\nL 7.625 11.71875 \r\nQ 11.71875 9.328125 16.59375 8.109375 \r\nQ 21.484375 6.890625 26.8125 6.890625 \r\nQ 36.078125 6.890625 40.9375 10.546875 \r\nQ 45.796875 14.203125 45.796875 21.1875 \r\nQ 45.796875 27.640625 41.28125 31.265625 \r\nQ 36.765625 34.90625 28.71875 34.90625 \r\nL 20.21875 34.90625 \r\nL 20.21875 43.015625 \r\nL 29.109375 43.015625 \r\nQ 36.375 43.015625 40.234375 45.921875 \r\nQ 44.09375 48.828125 44.09375 54.296875 \r\nQ 44.09375 59.90625 40.109375 62.90625 \r\nQ 36.140625 65.921875 28.71875 65.921875 \r\nQ 24.65625 65.921875 20.015625 65.03125 \r\nQ 15.375 64.15625 9.8125 62.3125 \r\nL 9.8125 71.09375 \r\nQ 15.4375 72.65625 20.34375 73.4375 \r\nQ 25.25 74.21875 29.59375 74.21875 \r\nQ 40.828125 74.21875 47.359375 69.109375 \r\nQ 53.90625 64.015625 53.90625 55.328125 \r\nQ 53.90625 49.265625 50.4375 45.09375 \r\nQ 46.96875 40.921875 40.578125 39.3125 \r\nz\r\n\" id=\"DejaVuSans-33\"/>\r\n     </defs>\r\n     <g transform=\"translate(404.624801 196.351709)scale(0.1 -0.1)\">\r\n      <use xlink:href=\"#DejaVuSans-2212\"/>\r\n      <use x=\"83.789062\" xlink:href=\"#DejaVuSans-33\"/>\r\n     </g>\r\n    </g>\r\n   </g>\r\n   <g id=\"xtick_12\">\r\n    <g id=\"line2d_15\">\r\n     <path d=\"M 392.343193 168.072312 \r\nL 397.429485 169.036963 \r\n\" style=\"fill:none;stroke:#000000;stroke-linecap:square;stroke-width:0.8;\"/>\r\n    </g>\r\n    <g id=\"text_12\">\r\n     <!-- −2 -->\r\n     <g transform=\"translate(406.120722 174.191586)scale(0.1 -0.1)\">\r\n      <use xlink:href=\"#DejaVuSans-2212\"/>\r\n      <use x=\"83.789062\" xlink:href=\"#DejaVuSans-32\"/>\r\n     </g>\r\n    </g>\r\n   </g>\r\n   <g id=\"xtick_13\">\r\n    <g id=\"line2d_16\">\r\n     <path d=\"M 393.688683 145.515344 \r\nL 398.819273 146.464172 \r\n\" style=\"fill:none;stroke:#000000;stroke-linecap:square;stroke-width:0.8;\"/>\r\n    </g>\r\n    <g id=\"text_13\">\r\n     <!-- −1 -->\r\n     <g transform=\"translate(407.641793 151.658913)scale(0.1 -0.1)\">\r\n      <use xlink:href=\"#DejaVuSans-2212\"/>\r\n      <use x=\"83.789062\" xlink:href=\"#DejaVuSans-31\"/>\r\n     </g>\r\n    </g>\r\n   </g>\r\n   <g id=\"xtick_14\">\r\n    <g id=\"line2d_17\">\r\n     <path d=\"M 395.057021 122.575311 \r\nL 400.232687 123.507637 \r\n\" style=\"fill:none;stroke:#000000;stroke-linecap:square;stroke-width:0.8;\"/>\r\n    </g>\r\n    <g id=\"text_14\">\r\n     <!-- 0 -->\r\n     <g transform=\"translate(413.378496 128.744217)scale(0.1 -0.1)\">\r\n      <use xlink:href=\"#DejaVuSans-30\"/>\r\n     </g>\r\n    </g>\r\n   </g>\r\n   <g id=\"xtick_15\">\r\n    <g id=\"line2d_18\">\r\n     <path d=\"M 396.448796 99.242373 \r\nL 401.670336 100.157489 \r\n\" style=\"fill:none;stroke:#000000;stroke-linecap:square;stroke-width:0.8;\"/>\r\n    </g>\r\n    <g id=\"text_15\">\r\n     <!-- 1 -->\r\n     <g transform=\"translate(414.951805 105.437699)scale(0.1 -0.1)\">\r\n      <use xlink:href=\"#DejaVuSans-31\"/>\r\n     </g>\r\n    </g>\r\n   </g>\r\n   <g id=\"xtick_16\">\r\n    <g id=\"line2d_19\">\r\n     <path d=\"M 397.864614 75.506348 \r\nL 403.132849 76.403517 \r\n\" style=\"fill:none;stroke:#000000;stroke-linecap:square;stroke-width:0.8;\"/>\r\n    </g>\r\n    <g id=\"text_16\">\r\n     <!-- 2 -->\r\n     <g transform=\"translate(416.552248 81.729223)scale(0.1 -0.1)\">\r\n      <use xlink:href=\"#DejaVuSans-32\"/>\r\n     </g>\r\n    </g>\r\n   </g>\r\n  </g>\r\n  <g id=\"axes_1\">\r\n   <g id=\"text_17\">\r\n    <g id=\"patch_6\">\r\n     <path d=\"M 214.30537 175.502142 \r\nL 228.66787 175.502142 \r\nL 228.66787 157.824017 \r\nL 214.30537 157.824017 \r\nz\r\n\" style=\"fill:#9bfba5;stroke:#9bfba5;stroke-linejoin:miter;\"/>\r\n    </g>\r\n    <!-- 5 -->\r\n    <defs>\r\n     <path d=\"M 10.796875 72.90625 \r\nL 49.515625 72.90625 \r\nL 49.515625 64.59375 \r\nL 19.828125 64.59375 \r\nL 19.828125 46.734375 \r\nQ 21.96875 47.46875 24.109375 47.828125 \r\nQ 26.265625 48.1875 28.421875 48.1875 \r\nQ 40.625 48.1875 47.75 41.5 \r\nQ 54.890625 34.8125 54.890625 23.390625 \r\nQ 54.890625 11.625 47.5625 5.09375 \r\nQ 40.234375 -1.421875 26.90625 -1.421875 \r\nQ 22.3125 -1.421875 17.546875 -0.640625 \r\nQ 12.796875 0.140625 7.71875 1.703125 \r\nL 7.71875 11.625 \r\nQ 12.109375 9.234375 16.796875 8.0625 \r\nQ 21.484375 6.890625 26.703125 6.890625 \r\nQ 35.15625 6.890625 40.078125 11.328125 \r\nQ 45.015625 15.765625 45.015625 23.390625 \r\nQ 45.015625 31 40.078125 35.4375 \r\nQ 35.15625 39.890625 26.703125 39.890625 \r\nQ 22.75 39.890625 18.8125 39.015625 \r\nQ 14.890625 38.140625 10.796875 36.28125 \r\nz\r\n\" id=\"DejaVuSans-35\"/>\r\n    </defs>\r\n    <g transform=\"translate(218.30537 169.422454)scale(0.1 -0.1)\">\r\n     <use xlink:href=\"#DejaVuSans-35\"/>\r\n    </g>\r\n   </g>\r\n   <g id=\"text_18\">\r\n    <g id=\"patch_7\">\r\n     <path d=\"M 212.468057 143.889316 \r\nL 226.830557 143.889316 \r\nL 226.830557 126.211191 \r\nL 212.468057 126.211191 \r\nz\r\n\" style=\"fill:#8000ff;stroke:#8000ff;stroke-linejoin:miter;\"/>\r\n    </g>\r\n    <!-- 0 -->\r\n    <g transform=\"translate(216.468057 137.809629)scale(0.1 -0.1)\">\r\n     <use xlink:href=\"#DejaVuSans-30\"/>\r\n    </g>\r\n   </g>\r\n   <g id=\"text_19\">\r\n    <g id=\"patch_8\">\r\n     <path d=\"M 197.131142 105.902983 \r\nL 211.493642 105.902983 \r\nL 211.493642 88.224858 \r\nL 197.131142 88.224858 \r\nz\r\n\" style=\"fill:#62fbc4;stroke:#62fbc4;stroke-linejoin:miter;\"/>\r\n    </g>\r\n    <!-- 4 -->\r\n    <defs>\r\n     <path d=\"M 37.796875 64.3125 \r\nL 12.890625 25.390625 \r\nL 37.796875 25.390625 \r\nz\r\nM 35.203125 72.90625 \r\nL 47.609375 72.90625 \r\nL 47.609375 25.390625 \r\nL 58.015625 25.390625 \r\nL 58.015625 17.1875 \r\nL 47.609375 17.1875 \r\nL 47.609375 0 \r\nL 37.796875 0 \r\nL 37.796875 17.1875 \r\nL 4.890625 17.1875 \r\nL 4.890625 26.703125 \r\nz\r\n\" id=\"DejaVuSans-34\"/>\r\n    </defs>\r\n    <g transform=\"translate(201.131142 99.823296)scale(0.1 -0.1)\">\r\n     <use xlink:href=\"#DejaVuSans-34\"/>\r\n    </g>\r\n   </g>\r\n   <g id=\"text_20\">\r\n    <g id=\"patch_9\">\r\n     <path d=\"M 307.837059 168.854566 \r\nL 322.199559 168.854566 \r\nL 322.199559 151.176441 \r\nL 307.837059 151.176441 \r\nz\r\n\" style=\"fill:#4856fb;stroke:#4856fb;stroke-linejoin:miter;\"/>\r\n    </g>\r\n    <!-- 1 -->\r\n    <g transform=\"translate(311.837059 162.774878)scale(0.1 -0.1)\">\r\n     <use xlink:href=\"#DejaVuSans-31\"/>\r\n    </g>\r\n   </g>\r\n   <g id=\"text_21\">\r\n    <g id=\"patch_10\">\r\n     <path d=\"M 170.522762 144.012805 \r\nL 184.885262 144.012805 \r\nL 184.885262 126.33468 \r\nL 170.522762 126.33468 \r\nz\r\n\" style=\"fill:#ff0000;stroke:#ff0000;stroke-linejoin:miter;\"/>\r\n    </g>\r\n    <!-- 9 -->\r\n    <defs>\r\n     <path d=\"M 10.984375 1.515625 \r\nL 10.984375 10.5 \r\nQ 14.703125 8.734375 18.5 7.8125 \r\nQ 22.3125 6.890625 25.984375 6.890625 \r\nQ 35.75 6.890625 40.890625 13.453125 \r\nQ 46.046875 20.015625 46.78125 33.40625 \r\nQ 43.953125 29.203125 39.59375 26.953125 \r\nQ 35.25 24.703125 29.984375 24.703125 \r\nQ 19.046875 24.703125 12.671875 31.3125 \r\nQ 6.296875 37.9375 6.296875 49.421875 \r\nQ 6.296875 60.640625 12.9375 67.421875 \r\nQ 19.578125 74.21875 30.609375 74.21875 \r\nQ 43.265625 74.21875 49.921875 64.515625 \r\nQ 56.59375 54.828125 56.59375 36.375 \r\nQ 56.59375 19.140625 48.40625 8.859375 \r\nQ 40.234375 -1.421875 26.421875 -1.421875 \r\nQ 22.703125 -1.421875 18.890625 -0.6875 \r\nQ 15.09375 0.046875 10.984375 1.515625 \r\nz\r\nM 30.609375 32.421875 \r\nQ 37.25 32.421875 41.125 36.953125 \r\nQ 45.015625 41.5 45.015625 49.421875 \r\nQ 45.015625 57.28125 41.125 61.84375 \r\nQ 37.25 66.40625 30.609375 66.40625 \r\nQ 23.96875 66.40625 20.09375 61.84375 \r\nQ 16.21875 57.28125 16.21875 49.421875 \r\nQ 16.21875 41.5 20.09375 36.953125 \r\nQ 23.96875 32.421875 30.609375 32.421875 \r\nz\r\n\" id=\"DejaVuSans-39\"/>\r\n    </defs>\r\n    <g transform=\"translate(174.522762 137.933117)scale(0.1 -0.1)\">\r\n     <use xlink:href=\"#DejaVuSans-39\"/>\r\n    </g>\r\n   </g>\r\n   <g id=\"text_22\">\r\n    <g id=\"patch_11\">\r\n     <path d=\"M 256.13358 114.883721 \r\nL 270.49608 114.883721 \r\nL 270.49608 97.205596 \r\nL 256.13358 97.205596 \r\nz\r\n\" style=\"fill:#10a2f0;stroke:#10a2f0;stroke-linejoin:miter;\"/>\r\n    </g>\r\n    <!-- 2 -->\r\n    <g transform=\"translate(260.13358 108.804034)scale(0.1 -0.1)\">\r\n     <use xlink:href=\"#DejaVuSans-32\"/>\r\n    </g>\r\n   </g>\r\n   <g id=\"text_23\">\r\n    <g id=\"patch_12\">\r\n     <path d=\"M 145.943439 192.553542 \r\nL 160.305939 192.553542 \r\nL 160.305939 174.875417 \r\nL 145.943439 174.875417 \r\nz\r\n\" style=\"fill:#4856fb;stroke:#4856fb;stroke-linejoin:miter;\"/>\r\n    </g>\r\n    <!-- 1 -->\r\n    <g transform=\"translate(149.943439 186.473854)scale(0.1 -0.1)\">\r\n     <use xlink:href=\"#DejaVuSans-31\"/>\r\n    </g>\r\n   </g>\r\n   <g id=\"text_24\">\r\n    <g id=\"patch_13\">\r\n     <path d=\"M 243.063959 161.451279 \r\nL 257.426459 161.451279 \r\nL 257.426459 143.773154 \r\nL 243.063959 143.773154 \r\nz\r\n\" style=\"fill:#2adddd;stroke:#2adddd;stroke-linejoin:miter;\"/>\r\n    </g>\r\n    <!-- 3 -->\r\n    <g transform=\"translate(247.063959 155.371592)scale(0.1 -0.1)\">\r\n     <use xlink:href=\"#DejaVuSans-33\"/>\r\n    </g>\r\n   </g>\r\n   <g id=\"text_25\">\r\n    <g id=\"patch_14\">\r\n     <path d=\"M 168.034549 190.125701 \r\nL 182.397049 190.125701 \r\nL 182.397049 172.447576 \r\nL 168.034549 172.447576 \r\nz\r\n\" style=\"fill:#4856fb;stroke:#4856fb;stroke-linejoin:miter;\"/>\r\n    </g>\r\n    <!-- 1 -->\r\n    <g transform=\"translate(172.034549 184.046013)scale(0.1 -0.1)\">\r\n     <use xlink:href=\"#DejaVuSans-31\"/>\r\n    </g>\r\n   </g>\r\n   <g id=\"text_26\">\r\n    <g id=\"patch_15\">\r\n     <path d=\"M 170.092883 115.544947 \r\nL 184.455383 115.544947 \r\nL 184.455383 97.866822 \r\nL 170.092883 97.866822 \r\nz\r\n\" style=\"fill:#62fbc4;stroke:#62fbc4;stroke-linejoin:miter;\"/>\r\n    </g>\r\n    <!-- 4 -->\r\n    <g transform=\"translate(174.092883 109.465259)scale(0.1 -0.1)\">\r\n     <use xlink:href=\"#DejaVuSans-34\"/>\r\n    </g>\r\n   </g>\r\n   <g id=\"text_27\">\r\n    <g id=\"patch_16\">\r\n     <path d=\"M 213.568128 194.202796 \r\nL 227.930628 194.202796 \r\nL 227.930628 176.524671 \r\nL 213.568128 176.524671 \r\nz\r\n\" style=\"fill:#2adddd;stroke:#2adddd;stroke-linejoin:miter;\"/>\r\n    </g>\r\n    <!-- 3 -->\r\n    <g transform=\"translate(217.568128 188.123108)scale(0.1 -0.1)\">\r\n     <use xlink:href=\"#DejaVuSans-33\"/>\r\n    </g>\r\n   </g>\r\n   <g id=\"text_28\">\r\n    <g id=\"patch_17\">\r\n     <path d=\"M 233.531722 119.720998 \r\nL 247.894222 119.720998 \r\nL 247.894222 102.042873 \r\nL 233.531722 102.042873 \r\nz\r\n\" style=\"fill:#9bfba5;stroke:#9bfba5;stroke-linejoin:miter;\"/>\r\n    </g>\r\n    <!-- 5 -->\r\n    <g transform=\"translate(237.531722 113.641311)scale(0.1 -0.1)\">\r\n     <use xlink:href=\"#DejaVuSans-35\"/>\r\n    </g>\r\n   </g>\r\n   <g id=\"text_29\">\r\n    <g id=\"patch_18\">\r\n     <path d=\"M 240.787504 180.175869 \r\nL 255.150004 180.175869 \r\nL 255.150004 162.497744 \r\nL 240.787504 162.497744 \r\nz\r\n\" style=\"fill:#2adddd;stroke:#2adddd;stroke-linejoin:miter;\"/>\r\n    </g>\r\n    <!-- 3 -->\r\n    <g transform=\"translate(244.787504 174.096182)scale(0.1 -0.1)\">\r\n     <use xlink:href=\"#DejaVuSans-33\"/>\r\n    </g>\r\n   </g>\r\n   <g id=\"text_30\">\r\n    <g id=\"patch_19\">\r\n     <path d=\"M 167.015242 102.166362 \r\nL 181.377742 102.166362 \r\nL 181.377742 84.488237 \r\nL 167.015242 84.488237 \r\nz\r\n\" style=\"fill:#d4dd80;stroke:#d4dd80;stroke-linejoin:miter;\"/>\r\n    </g>\r\n    <!-- 6 -->\r\n    <defs>\r\n     <path d=\"M 33.015625 40.375 \r\nQ 26.375 40.375 22.484375 35.828125 \r\nQ 18.609375 31.296875 18.609375 23.390625 \r\nQ 18.609375 15.53125 22.484375 10.953125 \r\nQ 26.375 6.390625 33.015625 6.390625 \r\nQ 39.65625 6.390625 43.53125 10.953125 \r\nQ 47.40625 15.53125 47.40625 23.390625 \r\nQ 47.40625 31.296875 43.53125 35.828125 \r\nQ 39.65625 40.375 33.015625 40.375 \r\nz\r\nM 52.59375 71.296875 \r\nL 52.59375 62.3125 \r\nQ 48.875 64.0625 45.09375 64.984375 \r\nQ 41.3125 65.921875 37.59375 65.921875 \r\nQ 27.828125 65.921875 22.671875 59.328125 \r\nQ 17.53125 52.734375 16.796875 39.40625 \r\nQ 19.671875 43.65625 24.015625 45.921875 \r\nQ 28.375 48.1875 33.59375 48.1875 \r\nQ 44.578125 48.1875 50.953125 41.515625 \r\nQ 57.328125 34.859375 57.328125 23.390625 \r\nQ 57.328125 12.15625 50.6875 5.359375 \r\nQ 44.046875 -1.421875 33.015625 -1.421875 \r\nQ 20.359375 -1.421875 13.671875 8.265625 \r\nQ 6.984375 17.96875 6.984375 36.375 \r\nQ 6.984375 53.65625 15.1875 63.9375 \r\nQ 23.390625 74.21875 37.203125 74.21875 \r\nQ 40.921875 74.21875 44.703125 73.484375 \r\nQ 48.484375 72.75 52.59375 71.296875 \r\nz\r\n\" id=\"DejaVuSans-36\"/>\r\n    </defs>\r\n    <g transform=\"translate(171.015242 96.086675)scale(0.1 -0.1)\">\r\n     <use xlink:href=\"#DejaVuSans-36\"/>\r\n    </g>\r\n   </g>\r\n   <g id=\"text_31\">\r\n    <g id=\"patch_20\">\r\n     <path d=\"M 174.30566 190.189988 \r\nL 188.66816 190.189988 \r\nL 188.66816 172.511863 \r\nL 174.30566 172.511863 \r\nz\r\n\" style=\"fill:#4856fb;stroke:#4856fb;stroke-linejoin:miter;\"/>\r\n    </g>\r\n    <!-- 1 -->\r\n    <g transform=\"translate(178.30566 184.1103)scale(0.1 -0.1)\">\r\n     <use xlink:href=\"#DejaVuSans-31\"/>\r\n    </g>\r\n   </g>\r\n   <g id=\"text_32\">\r\n    <g id=\"patch_21\">\r\n     <path d=\"M 216.092952 123.291852 \r\nL 230.455452 123.291852 \r\nL 230.455452 105.613727 \r\nL 216.092952 105.613727 \r\nz\r\n\" style=\"fill:#ffa558;stroke:#ffa558;stroke-linejoin:miter;\"/>\r\n    </g>\r\n    <!-- 7 -->\r\n    <defs>\r\n     <path d=\"M 8.203125 72.90625 \r\nL 55.078125 72.90625 \r\nL 55.078125 68.703125 \r\nL 28.609375 0 \r\nL 18.3125 0 \r\nL 43.21875 64.59375 \r\nL 8.203125 64.59375 \r\nz\r\n\" id=\"DejaVuSans-37\"/>\r\n    </defs>\r\n    <g transform=\"translate(220.092952 117.212164)scale(0.1 -0.1)\">\r\n     <use xlink:href=\"#DejaVuSans-37\"/>\r\n    </g>\r\n   </g>\r\n   <g id=\"text_33\">\r\n    <g id=\"patch_22\">\r\n     <path d=\"M 283.60476 131.944583 \r\nL 297.96726 131.944583 \r\nL 297.96726 114.266458 \r\nL 283.60476 114.266458 \r\nz\r\n\" style=\"fill:#10a2f0;stroke:#10a2f0;stroke-linejoin:miter;\"/>\r\n    </g>\r\n    <!-- 2 -->\r\n    <g transform=\"translate(287.60476 125.864895)scale(0.1 -0.1)\">\r\n     <use xlink:href=\"#DejaVuSans-32\"/>\r\n    </g>\r\n   </g>\r\n   <g id=\"text_34\">\r\n    <g id=\"patch_23\">\r\n     <path d=\"M 242.932888 139.619559 \r\nL 257.295388 139.619559 \r\nL 257.295388 121.941434 \r\nL 242.932888 121.941434 \r\nz\r\n\" style=\"fill:#ff592d;stroke:#ff592d;stroke-linejoin:miter;\"/>\r\n    </g>\r\n    <!-- 8 -->\r\n    <defs>\r\n     <path d=\"M 31.78125 34.625 \r\nQ 24.75 34.625 20.71875 30.859375 \r\nQ 16.703125 27.09375 16.703125 20.515625 \r\nQ 16.703125 13.921875 20.71875 10.15625 \r\nQ 24.75 6.390625 31.78125 6.390625 \r\nQ 38.8125 6.390625 42.859375 10.171875 \r\nQ 46.921875 13.96875 46.921875 20.515625 \r\nQ 46.921875 27.09375 42.890625 30.859375 \r\nQ 38.875 34.625 31.78125 34.625 \r\nz\r\nM 21.921875 38.8125 \r\nQ 15.578125 40.375 12.03125 44.71875 \r\nQ 8.5 49.078125 8.5 55.328125 \r\nQ 8.5 64.0625 14.71875 69.140625 \r\nQ 20.953125 74.21875 31.78125 74.21875 \r\nQ 42.671875 74.21875 48.875 69.140625 \r\nQ 55.078125 64.0625 55.078125 55.328125 \r\nQ 55.078125 49.078125 51.53125 44.71875 \r\nQ 48 40.375 41.703125 38.8125 \r\nQ 48.828125 37.15625 52.796875 32.3125 \r\nQ 56.78125 27.484375 56.78125 20.515625 \r\nQ 56.78125 9.90625 50.3125 4.234375 \r\nQ 43.84375 -1.421875 31.78125 -1.421875 \r\nQ 19.734375 -1.421875 13.25 4.234375 \r\nQ 6.78125 9.90625 6.78125 20.515625 \r\nQ 6.78125 27.484375 10.78125 32.3125 \r\nQ 14.796875 37.15625 21.921875 38.8125 \r\nz\r\nM 18.3125 54.390625 \r\nQ 18.3125 48.734375 21.84375 45.5625 \r\nQ 25.390625 42.390625 31.78125 42.390625 \r\nQ 38.140625 42.390625 41.71875 45.5625 \r\nQ 45.3125 48.734375 45.3125 54.390625 \r\nQ 45.3125 60.0625 41.71875 63.234375 \r\nQ 38.140625 66.40625 31.78125 66.40625 \r\nQ 25.390625 66.40625 21.84375 63.234375 \r\nQ 18.3125 60.0625 18.3125 54.390625 \r\nz\r\n\" id=\"DejaVuSans-38\"/>\r\n    </defs>\r\n    <g transform=\"translate(246.932888 133.539872)scale(0.1 -0.1)\">\r\n     <use xlink:href=\"#DejaVuSans-38\"/>\r\n    </g>\r\n   </g>\r\n   <g id=\"text_35\">\r\n    <g id=\"patch_24\">\r\n     <path d=\"M 139.496148 133.39812 \r\nL 153.858648 133.39812 \r\nL 153.858648 115.719995 \r\nL 139.496148 115.719995 \r\nz\r\n\" style=\"fill:#d4dd80;stroke:#d4dd80;stroke-linejoin:miter;\"/>\r\n    </g>\r\n    <!-- 6 -->\r\n    <g transform=\"translate(143.496148 127.318433)scale(0.1 -0.1)\">\r\n     <use xlink:href=\"#DejaVuSans-36\"/>\r\n    </g>\r\n   </g>\r\n   <g id=\"text_36\">\r\n    <g id=\"patch_25\">\r\n     <path d=\"M 218.659691 142.876589 \r\nL 233.022191 142.876589 \r\nL 233.022191 125.198464 \r\nL 218.659691 125.198464 \r\nz\r\n\" style=\"fill:#ff0000;stroke:#ff0000;stroke-linejoin:miter;\"/>\r\n    </g>\r\n    <!-- 9 -->\r\n    <g transform=\"translate(222.659691 136.796902)scale(0.1 -0.1)\">\r\n     <use xlink:href=\"#DejaVuSans-39\"/>\r\n    </g>\r\n   </g>\r\n   <g id=\"text_37\">\r\n    <g id=\"patch_26\">\r\n     <path d=\"M 199.078579 109.892257 \r\nL 213.441079 109.892257 \r\nL 213.441079 92.214132 \r\nL 199.078579 92.214132 \r\nz\r\n\" style=\"fill:#62fbc4;stroke:#62fbc4;stroke-linejoin:miter;\"/>\r\n    </g>\r\n    <!-- 4 -->\r\n    <g transform=\"translate(203.078579 103.812569)scale(0.1 -0.1)\">\r\n     <use xlink:href=\"#DejaVuSans-34\"/>\r\n    </g>\r\n   </g>\r\n   <g id=\"text_38\">\r\n    <g id=\"patch_27\">\r\n     <path d=\"M 217.576738 136.053075 \r\nL 231.939238 136.053075 \r\nL 231.939238 118.37495 \r\nL 217.576738 118.37495 \r\nz\r\n\" style=\"fill:#8000ff;stroke:#8000ff;stroke-linejoin:miter;\"/>\r\n    </g>\r\n    <!-- 0 -->\r\n    <g transform=\"translate(221.576738 129.973387)scale(0.1 -0.1)\">\r\n     <use xlink:href=\"#DejaVuSans-30\"/>\r\n    </g>\r\n   </g>\r\n   <g id=\"text_39\">\r\n    <g id=\"patch_28\">\r\n     <path d=\"M 185.058553 133.861078 \r\nL 199.421053 133.861078 \r\nL 199.421053 116.182953 \r\nL 185.058553 116.182953 \r\nz\r\n\" style=\"fill:#ff0000;stroke:#ff0000;stroke-linejoin:miter;\"/>\r\n    </g>\r\n    <!-- 9 -->\r\n    <g transform=\"translate(189.058553 127.78139)scale(0.1 -0.1)\">\r\n     <use xlink:href=\"#DejaVuSans-39\"/>\r\n    </g>\r\n   </g>\r\n   <g id=\"text_40\">\r\n    <g id=\"patch_29\">\r\n     <path d=\"M 309.231004 167.55833 \r\nL 323.593504 167.55833 \r\nL 323.593504 149.880205 \r\nL 309.231004 149.880205 \r\nz\r\n\" style=\"fill:#4856fb;stroke:#4856fb;stroke-linejoin:miter;\"/>\r\n    </g>\r\n    <!-- 1 -->\r\n    <g transform=\"translate(313.231004 161.478643)scale(0.1 -0.1)\">\r\n     <use xlink:href=\"#DejaVuSans-31\"/>\r\n    </g>\r\n   </g>\r\n   <g id=\"text_41\">\r\n    <g id=\"patch_30\">\r\n     <path d=\"M 221.484323 134.272485 \r\nL 235.846823 134.272485 \r\nL 235.846823 116.59436 \r\nL 221.484323 116.59436 \r\nz\r\n\" style=\"fill:#4856fb;stroke:#4856fb;stroke-linejoin:miter;\"/>\r\n    </g>\r\n    <!-- 1 -->\r\n    <g transform=\"translate(225.484323 128.192798)scale(0.1 -0.1)\">\r\n     <use xlink:href=\"#DejaVuSans-31\"/>\r\n    </g>\r\n   </g>\r\n   <g id=\"text_42\">\r\n    <g id=\"patch_31\">\r\n     <path d=\"M 308.558304 156.344643 \r\nL 322.920804 156.344643 \r\nL 322.920804 138.666518 \r\nL 308.558304 138.666518 \r\nz\r\n\" style=\"fill:#10a2f0;stroke:#10a2f0;stroke-linejoin:miter;\"/>\r\n    </g>\r\n    <!-- 2 -->\r\n    <g transform=\"translate(312.558304 150.264955)scale(0.1 -0.1)\">\r\n     <use xlink:href=\"#DejaVuSans-32\"/>\r\n    </g>\r\n   </g>\r\n   <g id=\"text_43\">\r\n    <g id=\"patch_32\">\r\n     <path d=\"M 194.703885 154.033387 \r\nL 209.066385 154.033387 \r\nL 209.066385 136.355262 \r\nL 194.703885 136.355262 \r\nz\r\n\" style=\"fill:#62fbc4;stroke:#62fbc4;stroke-linejoin:miter;\"/>\r\n    </g>\r\n    <!-- 4 -->\r\n    <g transform=\"translate(198.703885 147.953699)scale(0.1 -0.1)\">\r\n     <use xlink:href=\"#DejaVuSans-34\"/>\r\n    </g>\r\n   </g>\r\n   <g id=\"text_44\">\r\n    <g id=\"patch_33\">\r\n     <path d=\"M 234.955552 170.874742 \r\nL 249.318052 170.874742 \r\nL 249.318052 153.196617 \r\nL 234.955552 153.196617 \r\nz\r\n\" style=\"fill:#2adddd;stroke:#2adddd;stroke-linejoin:miter;\"/>\r\n    </g>\r\n    <!-- 3 -->\r\n    <g transform=\"translate(238.955552 164.795054)scale(0.1 -0.1)\">\r\n     <use xlink:href=\"#DejaVuSans-33\"/>\r\n    </g>\r\n   </g>\r\n   <g id=\"text_45\">\r\n    <g id=\"patch_34\">\r\n     <path d=\"M 252.394541 143.147933 \r\nL 266.757041 143.147933 \r\nL 266.757041 125.469808 \r\nL 252.394541 125.469808 \r\nz\r\n\" style=\"fill:#10a2f0;stroke:#10a2f0;stroke-linejoin:miter;\"/>\r\n    </g>\r\n    <!-- 2 -->\r\n    <g transform=\"translate(256.394541 137.068245)scale(0.1 -0.1)\">\r\n     <use xlink:href=\"#DejaVuSans-32\"/>\r\n    </g>\r\n   </g>\r\n   <g id=\"text_46\">\r\n    <g id=\"patch_35\">\r\n     <path d=\"M 205.129063 124.619047 \r\nL 219.491563 124.619047 \r\nL 219.491563 106.940922 \r\nL 205.129063 106.940922 \r\nz\r\n\" style=\"fill:#ffa558;stroke:#ffa558;stroke-linejoin:miter;\"/>\r\n    </g>\r\n    <!-- 7 -->\r\n    <g transform=\"translate(209.129063 118.53936)scale(0.1 -0.1)\">\r\n     <use xlink:href=\"#DejaVuSans-37\"/>\r\n    </g>\r\n   </g>\r\n   <g id=\"text_47\">\r\n    <g id=\"patch_36\">\r\n     <path d=\"M 241.504214 159.935188 \r\nL 255.866714 159.935188 \r\nL 255.866714 142.257063 \r\nL 241.504214 142.257063 \r\nz\r\n\" style=\"fill:#2adddd;stroke:#2adddd;stroke-linejoin:miter;\"/>\r\n    </g>\r\n    <!-- 3 -->\r\n    <g transform=\"translate(245.504214 153.8555)scale(0.1 -0.1)\">\r\n     <use xlink:href=\"#DejaVuSans-33\"/>\r\n    </g>\r\n   </g>\r\n   <g id=\"text_48\">\r\n    <g id=\"patch_37\">\r\n     <path d=\"M 248.359551 139.205222 \r\nL 262.722051 139.205222 \r\nL 262.722051 121.527097 \r\nL 248.359551 121.527097 \r\nz\r\n\" style=\"fill:#ff592d;stroke:#ff592d;stroke-linejoin:miter;\"/>\r\n    </g>\r\n    <!-- 8 -->\r\n    <g transform=\"translate(252.359551 133.125535)scale(0.1 -0.1)\">\r\n     <use xlink:href=\"#DejaVuSans-38\"/>\r\n    </g>\r\n   </g>\r\n   <g id=\"text_49\">\r\n    <g id=\"patch_38\">\r\n     <path d=\"M 161.063406 121.573645 \r\nL 175.425906 121.573645 \r\nL 175.425906 103.89552 \r\nL 161.063406 103.89552 \r\nz\r\n\" style=\"fill:#d4dd80;stroke:#d4dd80;stroke-linejoin:miter;\"/>\r\n    </g>\r\n    <!-- 6 -->\r\n    <g transform=\"translate(165.063406 115.493958)scale(0.1 -0.1)\">\r\n     <use xlink:href=\"#DejaVuSans-36\"/>\r\n    </g>\r\n   </g>\r\n   <g id=\"text_50\">\r\n    <g id=\"patch_39\">\r\n     <path d=\"M 231.056262 135.425116 \r\nL 245.418762 135.425116 \r\nL 245.418762 117.746991 \r\nL 231.056262 117.746991 \r\nz\r\n\" style=\"fill:#ff0000;stroke:#ff0000;stroke-linejoin:miter;\"/>\r\n    </g>\r\n    <!-- 9 -->\r\n    <g transform=\"translate(235.056262 129.345428)scale(0.1 -0.1)\">\r\n     <use xlink:href=\"#DejaVuSans-39\"/>\r\n    </g>\r\n   </g>\r\n   <g id=\"text_51\">\r\n    <g id=\"patch_40\">\r\n     <path d=\"M 199.766103 150.511164 \r\nL 214.128603 150.511164 \r\nL 214.128603 132.833039 \r\nL 199.766103 132.833039 \r\nz\r\n\" style=\"fill:#8000ff;stroke:#8000ff;stroke-linejoin:miter;\"/>\r\n    </g>\r\n    <!-- 0 -->\r\n    <g transform=\"translate(203.766103 144.431476)scale(0.1 -0.1)\">\r\n     <use xlink:href=\"#DejaVuSans-30\"/>\r\n    </g>\r\n   </g>\r\n   <g id=\"text_52\">\r\n    <g id=\"patch_41\">\r\n     <path d=\"M 221.720943 122.402917 \r\nL 236.083443 122.402917 \r\nL 236.083443 104.724792 \r\nL 221.720943 104.724792 \r\nz\r\n\" style=\"fill:#9bfba5;stroke:#9bfba5;stroke-linejoin:miter;\"/>\r\n    </g>\r\n    <!-- 5 -->\r\n    <g transform=\"translate(225.720943 116.32323)scale(0.1 -0.1)\">\r\n     <use xlink:href=\"#DejaVuSans-35\"/>\r\n    </g>\r\n   </g>\r\n   <g id=\"text_53\">\r\n    <g id=\"patch_42\">\r\n     <path d=\"M 144.380131 139.640703 \r\nL 158.742631 139.640703 \r\nL 158.742631 121.962578 \r\nL 144.380131 121.962578 \r\nz\r\n\" style=\"fill:#d4dd80;stroke:#d4dd80;stroke-linejoin:miter;\"/>\r\n    </g>\r\n    <!-- 6 -->\r\n    <g transform=\"translate(148.380131 133.561015)scale(0.1 -0.1)\">\r\n     <use xlink:href=\"#DejaVuSans-36\"/>\r\n    </g>\r\n   </g>\r\n   <g id=\"text_54\">\r\n    <g id=\"patch_43\">\r\n     <path d=\"M 191.882341 146.709102 \r\nL 206.244841 146.709102 \r\nL 206.244841 129.030977 \r\nL 191.882341 129.030977 \r\nz\r\n\" style=\"fill:#8000ff;stroke:#8000ff;stroke-linejoin:miter;\"/>\r\n    </g>\r\n    <!-- 0 -->\r\n    <g transform=\"translate(195.882341 140.629414)scale(0.1 -0.1)\">\r\n     <use xlink:href=\"#DejaVuSans-30\"/>\r\n    </g>\r\n   </g>\r\n   <g id=\"text_55\">\r\n    <g id=\"patch_44\">\r\n     <path d=\"M 253.948295 144.958623 \r\nL 268.310795 144.958623 \r\nL 268.310795 127.280498 \r\nL 253.948295 127.280498 \r\nz\r\n\" style=\"fill:#ffa558;stroke:#ffa558;stroke-linejoin:miter;\"/>\r\n    </g>\r\n    <!-- 7 -->\r\n    <g transform=\"translate(257.948295 138.878936)scale(0.1 -0.1)\">\r\n     <use xlink:href=\"#DejaVuSans-37\"/>\r\n    </g>\r\n   </g>\r\n   <g id=\"text_56\">\r\n    <g id=\"patch_45\">\r\n     <path d=\"M 166.32762 105.488074 \r\nL 180.69012 105.488074 \r\nL 180.69012 87.809949 \r\nL 166.32762 87.809949 \r\nz\r\n\" style=\"fill:#d4dd80;stroke:#d4dd80;stroke-linejoin:miter;\"/>\r\n    </g>\r\n    <!-- 6 -->\r\n    <g transform=\"translate(170.32762 99.408386)scale(0.1 -0.1)\">\r\n     <use xlink:href=\"#DejaVuSans-36\"/>\r\n    </g>\r\n   </g>\r\n   <g id=\"text_57\">\r\n    <g id=\"patch_46\">\r\n     <path d=\"M 223.903767 194.897725 \r\nL 238.266267 194.897725 \r\nL 238.266267 177.2196 \r\nL 223.903767 177.2196 \r\nz\r\n\" style=\"fill:#4856fb;stroke:#4856fb;stroke-linejoin:miter;\"/>\r\n    </g>\r\n    <!-- 1 -->\r\n    <g transform=\"translate(227.903767 188.818037)scale(0.1 -0.1)\">\r\n     <use xlink:href=\"#DejaVuSans-31\"/>\r\n    </g>\r\n   </g>\r\n   <g id=\"text_58\">\r\n    <g id=\"patch_47\">\r\n     <path d=\"M 239.726542 154.387537 \r\nL 254.089042 154.387537 \r\nL 254.089042 136.709412 \r\nL 239.726542 136.709412 \r\nz\r\n\" style=\"fill:#ff592d;stroke:#ff592d;stroke-linejoin:miter;\"/>\r\n    </g>\r\n    <!-- 8 -->\r\n    <g transform=\"translate(243.726542 148.30785)scale(0.1 -0.1)\">\r\n     <use xlink:href=\"#DejaVuSans-38\"/>\r\n    </g>\r\n   </g>\r\n   <g id=\"text_59\">\r\n    <g id=\"patch_48\">\r\n     <path d=\"M 211.548457 153.47503 \r\nL 225.910957 153.47503 \r\nL 225.910957 135.796905 \r\nL 211.548457 135.796905 \r\nz\r\n\" style=\"fill:#ffa558;stroke:#ffa558;stroke-linejoin:miter;\"/>\r\n    </g>\r\n    <!-- 7 -->\r\n    <g transform=\"translate(215.548457 147.395343)scale(0.1 -0.1)\">\r\n     <use xlink:href=\"#DejaVuSans-37\"/>\r\n    </g>\r\n   </g>\r\n   <g id=\"text_60\">\r\n    <g id=\"patch_49\">\r\n     <path d=\"M 212.362263 147.722096 \r\nL 226.724763 147.722096 \r\nL 226.724763 130.043971 \r\nL 212.362263 130.043971 \r\nz\r\n\" style=\"fill:#ff0000;stroke:#ff0000;stroke-linejoin:miter;\"/>\r\n    </g>\r\n    <!-- 9 -->\r\n    <g transform=\"translate(216.362263 141.642409)scale(0.1 -0.1)\">\r\n     <use xlink:href=\"#DejaVuSans-39\"/>\r\n    </g>\r\n   </g>\r\n   <g id=\"text_61\">\r\n    <g id=\"patch_50\">\r\n     <path d=\"M 207.736363 173.657663 \r\nL 222.098863 173.657663 \r\nL 222.098863 155.979538 \r\nL 207.736363 155.979538 \r\nz\r\n\" style=\"fill:#2adddd;stroke:#2adddd;stroke-linejoin:miter;\"/>\r\n    </g>\r\n    <!-- 3 -->\r\n    <g transform=\"translate(211.736363 167.577976)scale(0.1 -0.1)\">\r\n     <use xlink:href=\"#DejaVuSans-33\"/>\r\n    </g>\r\n   </g>\r\n   <g id=\"text_62\">\r\n    <g id=\"patch_51\">\r\n     <path d=\"M 186.181908 142.388291 \r\nL 200.544408 142.388291 \r\nL 200.544408 124.710166 \r\nL 186.181908 124.710166 \r\nz\r\n\" style=\"fill:#ff0000;stroke:#ff0000;stroke-linejoin:miter;\"/>\r\n    </g>\r\n    <!-- 9 -->\r\n    <g transform=\"translate(190.181908 136.308603)scale(0.1 -0.1)\">\r\n     <use xlink:href=\"#DejaVuSans-39\"/>\r\n    </g>\r\n   </g>\r\n   <g id=\"text_63\">\r\n    <g id=\"patch_52\">\r\n     <path d=\"M 215.385946 156.104855 \r\nL 229.748446 156.104855 \r\nL 229.748446 138.42673 \r\nL 215.385946 138.42673 \r\nz\r\n\" style=\"fill:#ff592d;stroke:#ff592d;stroke-linejoin:miter;\"/>\r\n    </g>\r\n    <!-- 8 -->\r\n    <g transform=\"translate(219.385946 150.025167)scale(0.1 -0.1)\">\r\n     <use xlink:href=\"#DejaVuSans-38\"/>\r\n    </g>\r\n   </g>\r\n   <g id=\"text_64\">\r\n    <g id=\"patch_53\">\r\n     <path d=\"M 221.499428 135.136701 \r\nL 235.861928 135.136701 \r\nL 235.861928 117.458576 \r\nL 221.499428 117.458576 \r\nz\r\n\" style=\"fill:#9bfba5;stroke:#9bfba5;stroke-linejoin:miter;\"/>\r\n    </g>\r\n    <!-- 5 -->\r\n    <g transform=\"translate(225.499428 129.057014)scale(0.1 -0.1)\">\r\n     <use xlink:href=\"#DejaVuSans-35\"/>\r\n    </g>\r\n   </g>\r\n   <g id=\"text_65\">\r\n    <g id=\"patch_54\">\r\n     <path d=\"M 184.232112 177.725446 \r\nL 198.594612 177.725446 \r\nL 198.594612 160.047321 \r\nL 184.232112 160.047321 \r\nz\r\n\" style=\"fill:#ff0000;stroke:#ff0000;stroke-linejoin:miter;\"/>\r\n    </g>\r\n    <!-- 9 -->\r\n    <g transform=\"translate(188.232112 171.645759)scale(0.1 -0.1)\">\r\n     <use xlink:href=\"#DejaVuSans-39\"/>\r\n    </g>\r\n   </g>\r\n   <g id=\"text_66\">\r\n    <g id=\"patch_55\">\r\n     <path d=\"M 223.241892 169.547776 \r\nL 237.604392 169.547776 \r\nL 237.604392 151.869651 \r\nL 223.241892 151.869651 \r\nz\r\n\" style=\"fill:#2adddd;stroke:#2adddd;stroke-linejoin:miter;\"/>\r\n    </g>\r\n    <!-- 3 -->\r\n    <g transform=\"translate(227.241892 163.468088)scale(0.1 -0.1)\">\r\n     <use xlink:href=\"#DejaVuSans-33\"/>\r\n    </g>\r\n   </g>\r\n   <g id=\"text_67\">\r\n    <g id=\"patch_56\">\r\n     <path d=\"M 235.743327 199.611535 \r\nL 250.105827 199.611535 \r\nL 250.105827 181.93341 \r\nL 235.743327 181.93341 \r\nz\r\n\" style=\"fill:#2adddd;stroke:#2adddd;stroke-linejoin:miter;\"/>\r\n    </g>\r\n    <!-- 3 -->\r\n    <g transform=\"translate(239.743327 193.531848)scale(0.1 -0.1)\">\r\n     <use xlink:href=\"#DejaVuSans-33\"/>\r\n    </g>\r\n   </g>\r\n   <g id=\"text_68\">\r\n    <g id=\"patch_57\">\r\n     <path d=\"M 243.339366 137.480447 \r\nL 257.701866 137.480447 \r\nL 257.701866 119.802322 \r\nL 243.339366 119.802322 \r\nz\r\n\" style=\"fill:#8000ff;stroke:#8000ff;stroke-linejoin:miter;\"/>\r\n    </g>\r\n    <!-- 0 -->\r\n    <g transform=\"translate(247.339366 131.400759)scale(0.1 -0.1)\">\r\n     <use xlink:href=\"#DejaVuSans-30\"/>\r\n    </g>\r\n   </g>\r\n   <g id=\"text_69\">\r\n    <g id=\"patch_58\">\r\n     <path d=\"M 231.009422 132.62922 \r\nL 245.371922 132.62922 \r\nL 245.371922 114.951095 \r\nL 231.009422 114.951095 \r\nz\r\n\" style=\"fill:#ffa558;stroke:#ffa558;stroke-linejoin:miter;\"/>\r\n    </g>\r\n    <!-- 7 -->\r\n    <g transform=\"translate(235.009422 126.549533)scale(0.1 -0.1)\">\r\n     <use xlink:href=\"#DejaVuSans-37\"/>\r\n    </g>\r\n   </g>\r\n   <g id=\"text_70\">\r\n    <g id=\"patch_59\">\r\n     <path d=\"M 202.031973 142.567824 \r\nL 216.394473 142.567824 \r\nL 216.394473 124.889699 \r\nL 202.031973 124.889699 \r\nz\r\n\" style=\"fill:#62fbc4;stroke:#62fbc4;stroke-linejoin:miter;\"/>\r\n    </g>\r\n    <!-- 4 -->\r\n    <g transform=\"translate(206.031973 136.488137)scale(0.1 -0.1)\">\r\n     <use xlink:href=\"#DejaVuSans-34\"/>\r\n    </g>\r\n   </g>\r\n   <g id=\"text_71\">\r\n    <g id=\"patch_60\">\r\n     <path d=\"M 204.888198 127.554822 \r\nL 219.250698 127.554822 \r\nL 219.250698 109.876697 \r\nL 204.888198 109.876697 \r\nz\r\n\" style=\"fill:#ff0000;stroke:#ff0000;stroke-linejoin:miter;\"/>\r\n    </g>\r\n    <!-- 9 -->\r\n    <g transform=\"translate(208.888198 121.475134)scale(0.1 -0.1)\">\r\n     <use xlink:href=\"#DejaVuSans-39\"/>\r\n    </g>\r\n   </g>\r\n   <g id=\"text_72\">\r\n    <g id=\"patch_61\">\r\n     <path d=\"M 231.36395 136.110417 \r\nL 245.72645 136.110417 \r\nL 245.72645 118.432292 \r\nL 231.36395 118.432292 \r\nz\r\n\" style=\"fill:#ff592d;stroke:#ff592d;stroke-linejoin:miter;\"/>\r\n    </g>\r\n    <!-- 8 -->\r\n    <g transform=\"translate(235.36395 130.030729)scale(0.1 -0.1)\">\r\n     <use xlink:href=\"#DejaVuSans-38\"/>\r\n    </g>\r\n   </g>\r\n   <g id=\"text_73\">\r\n    <g id=\"patch_62\">\r\n     <path d=\"M 268.004554 144.813716 \r\nL 282.367054 144.813716 \r\nL 282.367054 127.135591 \r\nL 268.004554 127.135591 \r\nz\r\n\" style=\"fill:#8000ff;stroke:#8000ff;stroke-linejoin:miter;\"/>\r\n    </g>\r\n    <!-- 0 -->\r\n    <g transform=\"translate(272.004554 138.734028)scale(0.1 -0.1)\">\r\n     <use xlink:href=\"#DejaVuSans-30\"/>\r\n    </g>\r\n   </g>\r\n   <g id=\"text_74\">\r\n    <g id=\"patch_63\">\r\n     <path d=\"M 201.415296 132.677226 \r\nL 215.777796 132.677226 \r\nL 215.777796 114.999101 \r\nL 201.415296 114.999101 \r\nz\r\n\" style=\"fill:#ff0000;stroke:#ff0000;stroke-linejoin:miter;\"/>\r\n    </g>\r\n    <!-- 9 -->\r\n    <g transform=\"translate(205.415296 126.597539)scale(0.1 -0.1)\">\r\n     <use xlink:href=\"#DejaVuSans-39\"/>\r\n    </g>\r\n   </g>\r\n   <g id=\"text_75\">\r\n    <g id=\"patch_64\">\r\n     <path d=\"M 194.481739 127.513883 \r\nL 208.844239 127.513883 \r\nL 208.844239 109.835758 \r\nL 194.481739 109.835758 \r\nz\r\n\" style=\"fill:#62fbc4;stroke:#62fbc4;stroke-linejoin:miter;\"/>\r\n    </g>\r\n    <!-- 4 -->\r\n    <g transform=\"translate(198.481739 121.434196)scale(0.1 -0.1)\">\r\n     <use xlink:href=\"#DejaVuSans-34\"/>\r\n    </g>\r\n   </g>\r\n   <g id=\"text_76\">\r\n    <g id=\"patch_65\">\r\n     <path d=\"M 305.520917 175.138646 \r\nL 319.883417 175.138646 \r\nL 319.883417 157.460521 \r\nL 305.520917 157.460521 \r\nz\r\n\" style=\"fill:#4856fb;stroke:#4856fb;stroke-linejoin:miter;\"/>\r\n    </g>\r\n    <!-- 1 -->\r\n    <g transform=\"translate(309.520917 169.058958)scale(0.1 -0.1)\">\r\n     <use xlink:href=\"#DejaVuSans-31\"/>\r\n    </g>\r\n   </g>\r\n   <g id=\"text_77\">\r\n    <g id=\"patch_66\">\r\n     <path d=\"M 219.980899 101.317618 \r\nL 234.343399 101.317618 \r\nL 234.343399 83.639493 \r\nL 219.980899 83.639493 \r\nz\r\n\" style=\"fill:#62fbc4;stroke:#62fbc4;stroke-linejoin:miter;\"/>\r\n    </g>\r\n    <!-- 4 -->\r\n    <g transform=\"translate(223.980899 95.23793)scale(0.1 -0.1)\">\r\n     <use xlink:href=\"#DejaVuSans-34\"/>\r\n    </g>\r\n   </g>\r\n   <g id=\"text_78\">\r\n    <g id=\"patch_67\">\r\n     <path d=\"M 175.79504 122.684514 \r\nL 190.15754 122.684514 \r\nL 190.15754 105.006389 \r\nL 175.79504 105.006389 \r\nz\r\n\" style=\"fill:#62fbc4;stroke:#62fbc4;stroke-linejoin:miter;\"/>\r\n    </g>\r\n    <!-- 4 -->\r\n    <g transform=\"translate(179.79504 116.604827)scale(0.1 -0.1)\">\r\n     <use xlink:href=\"#DejaVuSans-34\"/>\r\n    </g>\r\n   </g>\r\n   <g id=\"text_79\">\r\n    <g id=\"patch_68\">\r\n     <path d=\"M 137.022885 127.762848 \r\nL 151.385385 127.762848 \r\nL 151.385385 110.084723 \r\nL 137.022885 110.084723 \r\nz\r\n\" style=\"fill:#d4dd80;stroke:#d4dd80;stroke-linejoin:miter;\"/>\r\n    </g>\r\n    <!-- 6 -->\r\n    <g transform=\"translate(141.022885 121.683161)scale(0.1 -0.1)\">\r\n     <use xlink:href=\"#DejaVuSans-36\"/>\r\n    </g>\r\n   </g>\r\n   <g id=\"text_80\">\r\n    <g id=\"patch_69\">\r\n     <path d=\"M 235.500111 147.272599 \r\nL 249.862611 147.272599 \r\nL 249.862611 129.594474 \r\nL 235.500111 129.594474 \r\nz\r\n\" style=\"fill:#8000ff;stroke:#8000ff;stroke-linejoin:miter;\"/>\r\n    </g>\r\n    <!-- 0 -->\r\n    <g transform=\"translate(239.500111 141.192911)scale(0.1 -0.1)\">\r\n     <use xlink:href=\"#DejaVuSans-30\"/>\r\n    </g>\r\n   </g>\r\n   <g id=\"text_81\">\r\n    <g id=\"patch_70\">\r\n     <path d=\"M 175.708231 100.379756 \r\nL 190.070731 100.379756 \r\nL 190.070731 82.701631 \r\nL 175.708231 82.701631 \r\nz\r\n\" style=\"fill:#62fbc4;stroke:#62fbc4;stroke-linejoin:miter;\"/>\r\n    </g>\r\n    <!-- 4 -->\r\n    <g transform=\"translate(179.708231 94.300068)scale(0.1 -0.1)\">\r\n     <use xlink:href=\"#DejaVuSans-34\"/>\r\n    </g>\r\n   </g>\r\n   <g id=\"text_82\">\r\n    <g id=\"patch_71\">\r\n     <path d=\"M 222.402175 121.597533 \r\nL 236.764675 121.597533 \r\nL 236.764675 103.919408 \r\nL 222.402175 103.919408 \r\nz\r\n\" style=\"fill:#9bfba5;stroke:#9bfba5;stroke-linejoin:miter;\"/>\r\n    </g>\r\n    <!-- 5 -->\r\n    <g transform=\"translate(226.402175 115.517846)scale(0.1 -0.1)\">\r\n     <use xlink:href=\"#DejaVuSans-35\"/>\r\n    </g>\r\n   </g>\r\n   <g id=\"text_83\">\r\n    <g id=\"patch_72\">\r\n     <path d=\"M 142.732619 122.770638 \r\nL 157.095119 122.770638 \r\nL 157.095119 105.092513 \r\nL 142.732619 105.092513 \r\nz\r\n\" style=\"fill:#d4dd80;stroke:#d4dd80;stroke-linejoin:miter;\"/>\r\n    </g>\r\n    <!-- 6 -->\r\n    <g transform=\"translate(146.732619 116.69095)scale(0.1 -0.1)\">\r\n     <use xlink:href=\"#DejaVuSans-36\"/>\r\n    </g>\r\n   </g>\r\n   <g id=\"text_84\">\r\n    <g id=\"patch_73\">\r\n     <path d=\"M 272.151732 178.981265 \r\nL 286.514232 178.981265 \r\nL 286.514232 161.30314 \r\nL 272.151732 161.30314 \r\nz\r\n\" style=\"fill:#4856fb;stroke:#4856fb;stroke-linejoin:miter;\"/>\r\n    </g>\r\n    <!-- 1 -->\r\n    <g transform=\"translate(276.151732 172.901578)scale(0.1 -0.1)\">\r\n     <use xlink:href=\"#DejaVuSans-31\"/>\r\n    </g>\r\n   </g>\r\n   <g id=\"text_85\">\r\n    <g id=\"patch_74\">\r\n     <path d=\"M 307.332556 138.66181 \r\nL 321.695056 138.66181 \r\nL 321.695056 120.983685 \r\nL 307.332556 120.983685 \r\nz\r\n\" style=\"fill:#8000ff;stroke:#8000ff;stroke-linejoin:miter;\"/>\r\n    </g>\r\n    <!-- 0 -->\r\n    <g transform=\"translate(311.332556 132.582123)scale(0.1 -0.1)\">\r\n     <use xlink:href=\"#DejaVuSans-30\"/>\r\n    </g>\r\n   </g>\r\n   <g id=\"text_86\">\r\n    <g id=\"patch_75\">\r\n     <path d=\"M 216.374949 161.104253 \r\nL 230.737449 161.104253 \r\nL 230.737449 143.426128 \r\nL 216.374949 143.426128 \r\nz\r\n\" style=\"fill:#8000ff;stroke:#8000ff;stroke-linejoin:miter;\"/>\r\n    </g>\r\n    <!-- 0 -->\r\n    <g transform=\"translate(220.374949 155.024565)scale(0.1 -0.1)\">\r\n     <use xlink:href=\"#DejaVuSans-30\"/>\r\n    </g>\r\n   </g>\r\n   <g id=\"text_87\">\r\n    <g id=\"patch_76\">\r\n     <path d=\"M 197.668533 190.236471 \r\nL 212.031033 190.236471 \r\nL 212.031033 172.558346 \r\nL 197.668533 172.558346 \r\nz\r\n\" style=\"fill:#4856fb;stroke:#4856fb;stroke-linejoin:miter;\"/>\r\n    </g>\r\n    <!-- 1 -->\r\n    <g transform=\"translate(201.668533 184.156784)scale(0.1 -0.1)\">\r\n     <use xlink:href=\"#DejaVuSans-31\"/>\r\n    </g>\r\n   </g>\r\n   <g id=\"text_88\">\r\n    <g id=\"patch_77\">\r\n     <path d=\"M 233.577792 131.25308 \r\nL 247.940292 131.25308 \r\nL 247.940292 113.574955 \r\nL 233.577792 113.574955 \r\nz\r\n\" style=\"fill:#ffa558;stroke:#ffa558;stroke-linejoin:miter;\"/>\r\n    </g>\r\n    <!-- 7 -->\r\n    <g transform=\"translate(237.577792 125.173393)scale(0.1 -0.1)\">\r\n     <use xlink:href=\"#DejaVuSans-37\"/>\r\n    </g>\r\n   </g>\r\n   <g id=\"text_89\">\r\n    <g id=\"patch_78\">\r\n     <path d=\"M 217.794823 194.175323 \r\nL 232.157323 194.175323 \r\nL 232.157323 176.497198 \r\nL 217.794823 176.497198 \r\nz\r\n\" style=\"fill:#4856fb;stroke:#4856fb;stroke-linejoin:miter;\"/>\r\n    </g>\r\n    <!-- 1 -->\r\n    <g transform=\"translate(221.794823 188.095635)scale(0.1 -0.1)\">\r\n     <use xlink:href=\"#DejaVuSans-31\"/>\r\n    </g>\r\n   </g>\r\n   <g id=\"text_90\">\r\n    <g id=\"patch_79\">\r\n     <path d=\"M 158.985927 122.831861 \r\nL 173.348427 122.831861 \r\nL 173.348427 105.153736 \r\nL 158.985927 105.153736 \r\nz\r\n\" style=\"fill:#d4dd80;stroke:#d4dd80;stroke-linejoin:miter;\"/>\r\n    </g>\r\n    <!-- 6 -->\r\n    <g transform=\"translate(162.985927 116.752174)scale(0.1 -0.1)\">\r\n     <use xlink:href=\"#DejaVuSans-36\"/>\r\n    </g>\r\n   </g>\r\n   <g id=\"text_91\">\r\n    <g id=\"patch_80\">\r\n     <path d=\"M 208.410619 188.047074 \r\nL 222.773119 188.047074 \r\nL 222.773119 170.368949 \r\nL 208.410619 170.368949 \r\nz\r\n\" style=\"fill:#2adddd;stroke:#2adddd;stroke-linejoin:miter;\"/>\r\n    </g>\r\n    <!-- 3 -->\r\n    <g transform=\"translate(212.410619 181.967387)scale(0.1 -0.1)\">\r\n     <use xlink:href=\"#DejaVuSans-33\"/>\r\n    </g>\r\n   </g>\r\n   <g id=\"text_92\">\r\n    <g id=\"patch_81\">\r\n     <path d=\"M 204.083596 156.619828 \r\nL 218.446096 156.619828 \r\nL 218.446096 138.941703 \r\nL 204.083596 138.941703 \r\nz\r\n\" style=\"fill:#8000ff;stroke:#8000ff;stroke-linejoin:miter;\"/>\r\n    </g>\r\n    <!-- 0 -->\r\n    <g transform=\"translate(208.083596 150.540141)scale(0.1 -0.1)\">\r\n     <use xlink:href=\"#DejaVuSans-30\"/>\r\n    </g>\r\n   </g>\r\n   <g id=\"text_93\">\r\n    <g id=\"patch_82\">\r\n     <path d=\"M 276.52035 151.762867 \r\nL 290.88285 151.762867 \r\nL 290.88285 134.084742 \r\nL 276.52035 134.084742 \r\nz\r\n\" style=\"fill:#10a2f0;stroke:#10a2f0;stroke-linejoin:miter;\"/>\r\n    </g>\r\n    <!-- 2 -->\r\n    <g transform=\"translate(280.52035 145.683179)scale(0.1 -0.1)\">\r\n     <use xlink:href=\"#DejaVuSans-32\"/>\r\n    </g>\r\n   </g>\r\n   <g id=\"text_94\">\r\n    <g id=\"patch_83\">\r\n     <path d=\"M 281.993007 179.890479 \r\nL 296.355507 179.890479 \r\nL 296.355507 162.212354 \r\nL 281.993007 162.212354 \r\nz\r\n\" style=\"fill:#4856fb;stroke:#4856fb;stroke-linejoin:miter;\"/>\r\n    </g>\r\n    <!-- 1 -->\r\n    <g transform=\"translate(285.993007 173.810792)scale(0.1 -0.1)\">\r\n     <use xlink:href=\"#DejaVuSans-31\"/>\r\n    </g>\r\n   </g>\r\n   <g id=\"text_95\">\r\n    <g id=\"patch_84\">\r\n     <path d=\"M 274.814355 164.164044 \r\nL 289.176855 164.164044 \r\nL 289.176855 146.485919 \r\nL 274.814355 146.485919 \r\nz\r\n\" style=\"fill:#4856fb;stroke:#4856fb;stroke-linejoin:miter;\"/>\r\n    </g>\r\n    <!-- 1 -->\r\n    <g transform=\"translate(278.814355 158.084357)scale(0.1 -0.1)\">\r\n     <use xlink:href=\"#DejaVuSans-31\"/>\r\n    </g>\r\n   </g>\r\n   <g id=\"text_96\">\r\n    <g id=\"patch_85\">\r\n     <path d=\"M 231.894871 130.501806 \r\nL 246.257371 130.501806 \r\nL 246.257371 112.823681 \r\nL 231.894871 112.823681 \r\nz\r\n\" style=\"fill:#ffa558;stroke:#ffa558;stroke-linejoin:miter;\"/>\r\n    </g>\r\n    <!-- 7 -->\r\n    <g transform=\"translate(235.894871 124.422118)scale(0.1 -0.1)\">\r\n     <use xlink:href=\"#DejaVuSans-37\"/>\r\n    </g>\r\n   </g>\r\n   <g id=\"text_97\">\r\n    <g id=\"patch_86\">\r\n     <path d=\"M 242.997769 172.601783 \r\nL 257.360269 172.601783 \r\nL 257.360269 154.923658 \r\nL 242.997769 154.923658 \r\nz\r\n\" style=\"fill:#ff0000;stroke:#ff0000;stroke-linejoin:miter;\"/>\r\n    </g>\r\n    <!-- 9 -->\r\n    <g transform=\"translate(246.997769 166.522096)scale(0.1 -0.1)\">\r\n     <use xlink:href=\"#DejaVuSans-39\"/>\r\n    </g>\r\n   </g>\r\n   <g id=\"text_98\">\r\n    <g id=\"patch_87\">\r\n     <path d=\"M 211.622946 157.773752 \r\nL 225.985446 157.773752 \r\nL 225.985446 140.095627 \r\nL 211.622946 140.095627 \r\nz\r\n\" style=\"fill:#8000ff;stroke:#8000ff;stroke-linejoin:miter;\"/>\r\n    </g>\r\n    <!-- 0 -->\r\n    <g transform=\"translate(215.622946 151.694064)scale(0.1 -0.1)\">\r\n     <use xlink:href=\"#DejaVuSans-30\"/>\r\n    </g>\r\n   </g>\r\n   <g id=\"text_99\">\r\n    <g id=\"patch_88\">\r\n     <path d=\"M 320.897333 127.70339 \r\nL 335.259833 127.70339 \r\nL 335.259833 110.025265 \r\nL 320.897333 110.025265 \r\nz\r\n\" style=\"fill:#10a2f0;stroke:#10a2f0;stroke-linejoin:miter;\"/>\r\n    </g>\r\n    <!-- 2 -->\r\n    <g transform=\"translate(324.897333 121.623703)scale(0.1 -0.1)\">\r\n     <use xlink:href=\"#DejaVuSans-32\"/>\r\n    </g>\r\n   </g>\r\n   <g id=\"text_100\">\r\n    <g id=\"patch_89\">\r\n     <path d=\"M 177.366821 97.710808 \r\nL 191.729321 97.710808 \r\nL 191.729321 80.032683 \r\nL 177.366821 80.032683 \r\nz\r\n\" style=\"fill:#d4dd80;stroke:#d4dd80;stroke-linejoin:miter;\"/>\r\n    </g>\r\n    <!-- 6 -->\r\n    <g transform=\"translate(181.366821 91.631121)scale(0.1 -0.1)\">\r\n     <use xlink:href=\"#DejaVuSans-36\"/>\r\n    </g>\r\n   </g>\r\n   <g id=\"text_101\">\r\n    <g id=\"patch_90\">\r\n     <path d=\"M 253.254114 140.27509 \r\nL 267.616614 140.27509 \r\nL 267.616614 122.596965 \r\nL 253.254114 122.596965 \r\nz\r\n\" style=\"fill:#ffa558;stroke:#ffa558;stroke-linejoin:miter;\"/>\r\n    </g>\r\n    <!-- 7 -->\r\n    <g transform=\"translate(257.254114 134.195403)scale(0.1 -0.1)\">\r\n     <use xlink:href=\"#DejaVuSans-37\"/>\r\n    </g>\r\n   </g>\r\n   <g id=\"text_102\">\r\n    <g id=\"patch_91\">\r\n     <path d=\"M 242.338448 160.614851 \r\nL 256.700948 160.614851 \r\nL 256.700948 142.936726 \r\nL 242.338448 142.936726 \r\nz\r\n\" style=\"fill:#ff592d;stroke:#ff592d;stroke-linejoin:miter;\"/>\r\n    </g>\r\n    <!-- 8 -->\r\n    <g transform=\"translate(246.338448 154.535163)scale(0.1 -0.1)\">\r\n     <use xlink:href=\"#DejaVuSans-38\"/>\r\n    </g>\r\n   </g>\r\n   <g id=\"text_103\">\r\n    <g id=\"patch_92\">\r\n     <path d=\"M 241.452174 168.74468 \r\nL 255.814674 168.74468 \r\nL 255.814674 151.066555 \r\nL 241.452174 151.066555 \r\nz\r\n\" style=\"fill:#2adddd;stroke:#2adddd;stroke-linejoin:miter;\"/>\r\n    </g>\r\n    <!-- 3 -->\r\n    <g transform=\"translate(245.452174 162.664993)scale(0.1 -0.1)\">\r\n     <use xlink:href=\"#DejaVuSans-33\"/>\r\n    </g>\r\n   </g>\r\n   <g id=\"text_104\">\r\n    <g id=\"patch_93\">\r\n     <path d=\"M 202.916449 130.636003 \r\nL 217.278949 130.636003 \r\nL 217.278949 112.957878 \r\nL 202.916449 112.957878 \r\nz\r\n\" style=\"fill:#ff0000;stroke:#ff0000;stroke-linejoin:miter;\"/>\r\n    </g>\r\n    <!-- 9 -->\r\n    <g transform=\"translate(206.916449 124.556316)scale(0.1 -0.1)\">\r\n     <use xlink:href=\"#DejaVuSans-39\"/>\r\n    </g>\r\n   </g>\r\n   <g id=\"text_105\">\r\n    <g id=\"patch_94\">\r\n     <path d=\"M 269.327149 151.425397 \r\nL 283.689649 151.425397 \r\nL 283.689649 133.747272 \r\nL 269.327149 133.747272 \r\nz\r\n\" style=\"fill:#8000ff;stroke:#8000ff;stroke-linejoin:miter;\"/>\r\n    </g>\r\n    <!-- 0 -->\r\n    <g transform=\"translate(273.327149 145.34571)scale(0.1 -0.1)\">\r\n     <use xlink:href=\"#DejaVuSans-30\"/>\r\n    </g>\r\n   </g>\r\n   <g id=\"text_106\">\r\n    <g id=\"patch_95\">\r\n     <path d=\"M 185.234729 109.545882 \r\nL 199.597229 109.545882 \r\nL 199.597229 91.867757 \r\nL 185.234729 91.867757 \r\nz\r\n\" style=\"fill:#62fbc4;stroke:#62fbc4;stroke-linejoin:miter;\"/>\r\n    </g>\r\n    <!-- 4 -->\r\n    <g transform=\"translate(189.234729 103.466194)scale(0.1 -0.1)\">\r\n     <use xlink:href=\"#DejaVuSans-34\"/>\r\n    </g>\r\n   </g>\r\n   <g id=\"text_107\">\r\n    <g id=\"patch_96\">\r\n     <path d=\"M 158.133591 106.018142 \r\nL 172.496091 106.018142 \r\nL 172.496091 88.340017 \r\nL 158.133591 88.340017 \r\nz\r\n\" style=\"fill:#d4dd80;stroke:#d4dd80;stroke-linejoin:miter;\"/>\r\n    </g>\r\n    <!-- 6 -->\r\n    <g transform=\"translate(162.133591 99.938455)scale(0.1 -0.1)\">\r\n     <use xlink:href=\"#DejaVuSans-36\"/>\r\n    </g>\r\n   </g>\r\n   <g id=\"text_108\">\r\n    <g id=\"patch_97\">\r\n     <path d=\"M 228.911699 121.279274 \r\nL 243.274199 121.279274 \r\nL 243.274199 103.601149 \r\nL 228.911699 103.601149 \r\nz\r\n\" style=\"fill:#ffa558;stroke:#ffa558;stroke-linejoin:miter;\"/>\r\n    </g>\r\n    <!-- 7 -->\r\n    <g transform=\"translate(232.911699 115.199587)scale(0.1 -0.1)\">\r\n     <use xlink:href=\"#DejaVuSans-37\"/>\r\n    </g>\r\n   </g>\r\n   <g id=\"text_109\">\r\n    <g id=\"patch_98\">\r\n     <path d=\"M 168.552649 126.954434 \r\nL 182.915149 126.954434 \r\nL 182.915149 109.276309 \r\nL 168.552649 109.276309 \r\nz\r\n\" style=\"fill:#62fbc4;stroke:#62fbc4;stroke-linejoin:miter;\"/>\r\n    </g>\r\n    <!-- 4 -->\r\n    <g transform=\"translate(172.552649 120.874746)scale(0.1 -0.1)\">\r\n     <use xlink:href=\"#DejaVuSans-34\"/>\r\n    </g>\r\n   </g>\r\n   <g id=\"text_110\">\r\n    <g id=\"patch_99\">\r\n     <path d=\"M 159.112256 112.415484 \r\nL 173.474756 112.415484 \r\nL 173.474756 94.737359 \r\nL 159.112256 94.737359 \r\nz\r\n\" style=\"fill:#d4dd80;stroke:#d4dd80;stroke-linejoin:miter;\"/>\r\n    </g>\r\n    <!-- 6 -->\r\n    <g transform=\"translate(163.112256 106.335796)scale(0.1 -0.1)\">\r\n     <use xlink:href=\"#DejaVuSans-36\"/>\r\n    </g>\r\n   </g>\r\n   <g id=\"text_111\">\r\n    <g id=\"patch_100\">\r\n     <path d=\"M 228.612444 148.755794 \r\nL 242.974944 148.755794 \r\nL 242.974944 131.077669 \r\nL 228.612444 131.077669 \r\nz\r\n\" style=\"fill:#ff592d;stroke:#ff592d;stroke-linejoin:miter;\"/>\r\n    </g>\r\n    <!-- 8 -->\r\n    <g transform=\"translate(232.612444 142.676107)scale(0.1 -0.1)\">\r\n     <use xlink:href=\"#DejaVuSans-38\"/>\r\n    </g>\r\n   </g>\r\n   <g id=\"text_112\">\r\n    <g id=\"patch_101\">\r\n     <path d=\"M 213.33766 160.405589 \r\nL 227.70016 160.405589 \r\nL 227.70016 142.727464 \r\nL 213.33766 142.727464 \r\nz\r\n\" style=\"fill:#8000ff;stroke:#8000ff;stroke-linejoin:miter;\"/>\r\n    </g>\r\n    <!-- 0 -->\r\n    <g transform=\"translate(217.33766 154.325901)scale(0.1 -0.1)\">\r\n     <use xlink:href=\"#DejaVuSans-30\"/>\r\n    </g>\r\n   </g>\r\n   <g id=\"text_113\">\r\n    <g id=\"patch_102\">\r\n     <path d=\"M 221.781612 143.763034 \r\nL 236.144112 143.763034 \r\nL 236.144112 126.084909 \r\nL 221.781612 126.084909 \r\nz\r\n\" style=\"fill:#ffa558;stroke:#ffa558;stroke-linejoin:miter;\"/>\r\n    </g>\r\n    <!-- 7 -->\r\n    <g transform=\"translate(225.781612 137.683347)scale(0.1 -0.1)\">\r\n     <use xlink:href=\"#DejaVuSans-37\"/>\r\n    </g>\r\n   </g>\r\n   <g id=\"text_114\">\r\n    <g id=\"patch_103\">\r\n     <path d=\"M 241.302156 148.50038 \r\nL 255.664656 148.50038 \r\nL 255.664656 130.822255 \r\nL 241.302156 130.822255 \r\nz\r\n\" style=\"fill:#ff592d;stroke:#ff592d;stroke-linejoin:miter;\"/>\r\n    </g>\r\n    <!-- 8 -->\r\n    <g transform=\"translate(245.302156 142.420693)scale(0.1 -0.1)\">\r\n     <use xlink:href=\"#DejaVuSans-38\"/>\r\n    </g>\r\n   </g>\r\n   <g id=\"text_115\">\r\n    <g id=\"patch_104\">\r\n     <path d=\"M 211.694626 188.732897 \r\nL 226.057126 188.732897 \r\nL 226.057126 171.054772 \r\nL 211.694626 171.054772 \r\nz\r\n\" style=\"fill:#2adddd;stroke:#2adddd;stroke-linejoin:miter;\"/>\r\n    </g>\r\n    <!-- 3 -->\r\n    <g transform=\"translate(215.694626 182.65321)scale(0.1 -0.1)\">\r\n     <use xlink:href=\"#DejaVuSans-33\"/>\r\n    </g>\r\n   </g>\r\n   <g id=\"text_116\">\r\n    <g id=\"patch_105\">\r\n     <path d=\"M 274.949886 169.207042 \r\nL 289.312386 169.207042 \r\nL 289.312386 151.528917 \r\nL 274.949886 151.528917 \r\nz\r\n\" style=\"fill:#4856fb;stroke:#4856fb;stroke-linejoin:miter;\"/>\r\n    </g>\r\n    <!-- 1 -->\r\n    <g transform=\"translate(278.949886 163.127355)scale(0.1 -0.1)\">\r\n     <use xlink:href=\"#DejaVuSans-31\"/>\r\n    </g>\r\n   </g>\r\n   <g id=\"text_117\">\r\n    <g id=\"patch_106\">\r\n     <path d=\"M 156.395743 153.184608 \r\nL 170.758243 153.184608 \r\nL 170.758243 135.506483 \r\nL 156.395743 135.506483 \r\nz\r\n\" style=\"fill:#9bfba5;stroke:#9bfba5;stroke-linejoin:miter;\"/>\r\n    </g>\r\n    <!-- 5 -->\r\n    <g transform=\"translate(160.395743 147.104921)scale(0.1 -0.1)\">\r\n     <use xlink:href=\"#DejaVuSans-35\"/>\r\n    </g>\r\n   </g>\r\n   <g id=\"text_118\">\r\n    <g id=\"patch_107\">\r\n     <path d=\"M 209.151047 123.631864 \r\nL 223.513547 123.631864 \r\nL 223.513547 105.953739 \r\nL 209.151047 105.953739 \r\nz\r\n\" style=\"fill:#ffa558;stroke:#ffa558;stroke-linejoin:miter;\"/>\r\n    </g>\r\n    <!-- 7 -->\r\n    <g transform=\"translate(213.151047 117.552176)scale(0.1 -0.1)\">\r\n     <use xlink:href=\"#DejaVuSans-37\"/>\r\n    </g>\r\n   </g>\r\n   <g id=\"text_119\">\r\n    <g id=\"patch_108\">\r\n     <path d=\"M 206.026571 197.11564 \r\nL 220.389071 197.11564 \r\nL 220.389071 179.437515 \r\nL 206.026571 179.437515 \r\nz\r\n\" style=\"fill:#4856fb;stroke:#4856fb;stroke-linejoin:miter;\"/>\r\n    </g>\r\n    <!-- 1 -->\r\n    <g transform=\"translate(210.026571 191.035952)scale(0.1 -0.1)\">\r\n     <use xlink:href=\"#DejaVuSans-31\"/>\r\n    </g>\r\n   </g>\r\n   <g id=\"text_120\">\r\n    <g id=\"patch_109\">\r\n     <path d=\"M 225.536064 137.26425 \r\nL 239.898564 137.26425 \r\nL 239.898564 119.586125 \r\nL 225.536064 119.586125 \r\nz\r\n\" style=\"fill:#ffa558;stroke:#ffa558;stroke-linejoin:miter;\"/>\r\n    </g>\r\n    <!-- 7 -->\r\n    <g transform=\"translate(229.536064 131.184562)scale(0.1 -0.1)\">\r\n     <use xlink:href=\"#DejaVuSans-37\"/>\r\n    </g>\r\n   </g>\r\n   <g id=\"text_121\">\r\n    <g id=\"patch_110\">\r\n     <path d=\"M 132.998593 189.17923 \r\nL 147.361093 189.17923 \r\nL 147.361093 171.501105 \r\nL 132.998593 171.501105 \r\nz\r\n\" style=\"fill:#4856fb;stroke:#4856fb;stroke-linejoin:miter;\"/>\r\n    </g>\r\n    <!-- 1 -->\r\n    <g transform=\"translate(136.998593 183.099542)scale(0.1 -0.1)\">\r\n     <use xlink:href=\"#DejaVuSans-31\"/>\r\n    </g>\r\n   </g>\r\n   <g id=\"text_122\">\r\n    <g id=\"patch_111\">\r\n     <path d=\"M 273.878181 178.684177 \r\nL 288.240681 178.684177 \r\nL 288.240681 161.006052 \r\nL 273.878181 161.006052 \r\nz\r\n\" style=\"fill:#4856fb;stroke:#4856fb;stroke-linejoin:miter;\"/>\r\n    </g>\r\n    <!-- 1 -->\r\n    <g transform=\"translate(277.878181 172.60449)scale(0.1 -0.1)\">\r\n     <use xlink:href=\"#DejaVuSans-31\"/>\r\n    </g>\r\n   </g>\r\n   <g id=\"text_123\">\r\n    <g id=\"patch_112\">\r\n     <path d=\"M 138.575464 124.535439 \r\nL 152.937964 124.535439 \r\nL 152.937964 106.857314 \r\nL 138.575464 106.857314 \r\nz\r\n\" style=\"fill:#d4dd80;stroke:#d4dd80;stroke-linejoin:miter;\"/>\r\n    </g>\r\n    <!-- 6 -->\r\n    <g transform=\"translate(142.575464 118.455752)scale(0.1 -0.1)\">\r\n     <use xlink:href=\"#DejaVuSans-36\"/>\r\n    </g>\r\n   </g>\r\n   <g id=\"text_124\">\r\n    <g id=\"patch_113\">\r\n     <path d=\"M 253.032628 166.79385 \r\nL 267.395128 166.79385 \r\nL 267.395128 149.115725 \r\nL 253.032628 149.115725 \r\nz\r\n\" style=\"fill:#2adddd;stroke:#2adddd;stroke-linejoin:miter;\"/>\r\n    </g>\r\n    <!-- 3 -->\r\n    <g transform=\"translate(257.032628 160.714162)scale(0.1 -0.1)\">\r\n     <use xlink:href=\"#DejaVuSans-33\"/>\r\n    </g>\r\n   </g>\r\n   <g id=\"text_125\">\r\n    <g id=\"patch_114\">\r\n     <path d=\"M 299.435864 123.946885 \r\nL 313.798364 123.946885 \r\nL 313.798364 106.26876 \r\nL 299.435864 106.26876 \r\nz\r\n\" style=\"fill:#8000ff;stroke:#8000ff;stroke-linejoin:miter;\"/>\r\n    </g>\r\n    <!-- 0 -->\r\n    <g transform=\"translate(303.435864 117.867197)scale(0.1 -0.1)\">\r\n     <use xlink:href=\"#DejaVuSans-30\"/>\r\n    </g>\r\n   </g>\r\n   <g id=\"text_126\">\r\n    <g id=\"patch_115\">\r\n     <path d=\"M 245.086294 120.655012 \r\nL 259.448794 120.655012 \r\nL 259.448794 102.976887 \r\nL 245.086294 102.976887 \r\nz\r\n\" style=\"fill:#10a2f0;stroke:#10a2f0;stroke-linejoin:miter;\"/>\r\n    </g>\r\n    <!-- 2 -->\r\n    <g transform=\"translate(249.086294 114.575325)scale(0.1 -0.1)\">\r\n     <use xlink:href=\"#DejaVuSans-32\"/>\r\n    </g>\r\n   </g>\r\n   <g id=\"text_127\">\r\n    <g id=\"patch_116\">\r\n     <path d=\"M 191.8676 133.654753 \r\nL 206.2301 133.654753 \r\nL 206.2301 115.976628 \r\nL 191.8676 115.976628 \r\nz\r\n\" style=\"fill:#ff0000;stroke:#ff0000;stroke-linejoin:miter;\"/>\r\n    </g>\r\n    <!-- 9 -->\r\n    <g transform=\"translate(195.8676 127.575065)scale(0.1 -0.1)\">\r\n     <use xlink:href=\"#DejaVuSans-39\"/>\r\n    </g>\r\n   </g>\r\n   <g id=\"text_128\">\r\n    <g id=\"patch_117\">\r\n     <path d=\"M 219.583514 161.835181 \r\nL 233.946014 161.835181 \r\nL 233.946014 144.157056 \r\nL 219.583514 144.157056 \r\nz\r\n\" style=\"fill:#2adddd;stroke:#2adddd;stroke-linejoin:miter;\"/>\r\n    </g>\r\n    <!-- 3 -->\r\n    <g transform=\"translate(223.583514 155.755494)scale(0.1 -0.1)\">\r\n     <use xlink:href=\"#DejaVuSans-33\"/>\r\n    </g>\r\n   </g>\r\n   <g id=\"text_129\">\r\n    <g id=\"patch_118\">\r\n     <path d=\"M 220.441752 194.063879 \r\nL 234.804252 194.063879 \r\nL 234.804252 176.385754 \r\nL 220.441752 176.385754 \r\nz\r\n\" style=\"fill:#4856fb;stroke:#4856fb;stroke-linejoin:miter;\"/>\r\n    </g>\r\n    <!-- 1 -->\r\n    <g transform=\"translate(224.441752 187.984192)scale(0.1 -0.1)\">\r\n     <use xlink:href=\"#DejaVuSans-31\"/>\r\n    </g>\r\n   </g>\r\n   <g id=\"text_130\">\r\n    <g id=\"patch_119\">\r\n     <path d=\"M 285.919383 173.632711 \r\nL 300.281883 173.632711 \r\nL 300.281883 155.954586 \r\nL 285.919383 155.954586 \r\nz\r\n\" style=\"fill:#4856fb;stroke:#4856fb;stroke-linejoin:miter;\"/>\r\n    </g>\r\n    <!-- 1 -->\r\n    <g transform=\"translate(289.919383 167.553024)scale(0.1 -0.1)\">\r\n     <use xlink:href=\"#DejaVuSans-31\"/>\r\n    </g>\r\n   </g>\r\n   <g id=\"text_131\">\r\n    <g id=\"patch_120\">\r\n     <path d=\"M 255.60922 117.746115 \r\nL 269.97172 117.746115 \r\nL 269.97172 100.06799 \r\nL 255.60922 100.06799 \r\nz\r\n\" style=\"fill:#8000ff;stroke:#8000ff;stroke-linejoin:miter;\"/>\r\n    </g>\r\n    <!-- 0 -->\r\n    <g transform=\"translate(259.60922 111.666427)scale(0.1 -0.1)\">\r\n     <use xlink:href=\"#DejaVuSans-30\"/>\r\n    </g>\r\n   </g>\r\n   <g id=\"text_132\">\r\n    <g id=\"patch_121\">\r\n     <path d=\"M 175.7735 113.974126 \r\nL 190.136 113.974126 \r\nL 190.136 96.296001 \r\nL 175.7735 96.296001 \r\nz\r\n\" style=\"fill:#62fbc4;stroke:#62fbc4;stroke-linejoin:miter;\"/>\r\n    </g>\r\n    <!-- 4 -->\r\n    <g transform=\"translate(179.7735 107.894439)scale(0.1 -0.1)\">\r\n     <use xlink:href=\"#DejaVuSans-34\"/>\r\n    </g>\r\n   </g>\r\n   <g id=\"text_133\">\r\n    <g id=\"patch_122\">\r\n     <path d=\"M 169.662572 132.987621 \r\nL 184.025072 132.987621 \r\nL 184.025072 115.309496 \r\nL 169.662572 115.309496 \r\nz\r\n\" style=\"fill:#ff0000;stroke:#ff0000;stroke-linejoin:miter;\"/>\r\n    </g>\r\n    <!-- 9 -->\r\n    <g transform=\"translate(173.662572 126.907934)scale(0.1 -0.1)\">\r\n     <use xlink:href=\"#DejaVuSans-39\"/>\r\n    </g>\r\n   </g>\r\n   <g id=\"text_134\">\r\n    <g id=\"patch_123\">\r\n     <path d=\"M 277.360146 121.098971 \r\nL 291.722646 121.098971 \r\nL 291.722646 103.420846 \r\nL 277.360146 103.420846 \r\nz\r\n\" style=\"fill:#10a2f0;stroke:#10a2f0;stroke-linejoin:miter;\"/>\r\n    </g>\r\n    <!-- 2 -->\r\n    <g transform=\"translate(281.360146 115.019283)scale(0.1 -0.1)\">\r\n     <use xlink:href=\"#DejaVuSans-32\"/>\r\n    </g>\r\n   </g>\r\n   <g id=\"text_135\">\r\n    <g id=\"patch_124\">\r\n     <path d=\"M 222.446224 151.194298 \r\nL 236.808724 151.194298 \r\nL 236.808724 133.516173 \r\nL 222.446224 133.516173 \r\nz\r\n\" style=\"fill:#8000ff;stroke:#8000ff;stroke-linejoin:miter;\"/>\r\n    </g>\r\n    <!-- 0 -->\r\n    <g transform=\"translate(226.446224 145.11461)scale(0.1 -0.1)\">\r\n     <use xlink:href=\"#DejaVuSans-30\"/>\r\n    </g>\r\n   </g>\r\n   <g id=\"text_136\">\r\n    <g id=\"patch_125\">\r\n     <path d=\"M 215.697598 129.716517 \r\nL 230.060098 129.716517 \r\nL 230.060098 112.038392 \r\nL 215.697598 112.038392 \r\nz\r\n\" style=\"fill:#8000ff;stroke:#8000ff;stroke-linejoin:miter;\"/>\r\n    </g>\r\n    <!-- 0 -->\r\n    <g transform=\"translate(219.697598 123.63683)scale(0.1 -0.1)\">\r\n     <use xlink:href=\"#DejaVuSans-30\"/>\r\n    </g>\r\n   </g>\r\n   <g id=\"text_137\">\r\n    <g id=\"patch_126\">\r\n     <path d=\"M 256.732527 133.553107 \r\nL 271.095027 133.553107 \r\nL 271.095027 115.874982 \r\nL 256.732527 115.874982 \r\nz\r\n\" style=\"fill:#10a2f0;stroke:#10a2f0;stroke-linejoin:miter;\"/>\r\n    </g>\r\n    <!-- 2 -->\r\n    <g transform=\"translate(260.732527 127.473419)scale(0.1 -0.1)\">\r\n     <use xlink:href=\"#DejaVuSans-32\"/>\r\n    </g>\r\n   </g>\r\n   <g id=\"text_138\">\r\n    <g id=\"patch_127\">\r\n     <path d=\"M 262.454299 130.531193 \r\nL 276.816799 130.531193 \r\nL 276.816799 112.853068 \r\nL 262.454299 112.853068 \r\nz\r\n\" style=\"fill:#8000ff;stroke:#8000ff;stroke-linejoin:miter;\"/>\r\n    </g>\r\n    <!-- 0 -->\r\n    <g transform=\"translate(266.454299 124.451505)scale(0.1 -0.1)\">\r\n     <use xlink:href=\"#DejaVuSans-30\"/>\r\n    </g>\r\n   </g>\r\n   <g id=\"text_139\">\r\n    <g id=\"patch_128\">\r\n     <path d=\"M 279.884203 129.283071 \r\nL 294.246703 129.283071 \r\nL 294.246703 111.604946 \r\nL 279.884203 111.604946 \r\nz\r\n\" style=\"fill:#10a2f0;stroke:#10a2f0;stroke-linejoin:miter;\"/>\r\n    </g>\r\n    <!-- 2 -->\r\n    <g transform=\"translate(283.884203 123.203383)scale(0.1 -0.1)\">\r\n     <use xlink:href=\"#DejaVuSans-32\"/>\r\n    </g>\r\n   </g>\r\n   <g id=\"text_140\">\r\n    <g id=\"patch_129\">\r\n     <path d=\"M 245.636548 118.348905 \r\nL 259.999048 118.348905 \r\nL 259.999048 100.67078 \r\nL 245.636548 100.67078 \r\nz\r\n\" style=\"fill:#ffa558;stroke:#ffa558;stroke-linejoin:miter;\"/>\r\n    </g>\r\n    <!-- 7 -->\r\n    <g transform=\"translate(249.636548 112.269217)scale(0.1 -0.1)\">\r\n     <use xlink:href=\"#DejaVuSans-37\"/>\r\n    </g>\r\n   </g>\r\n   <g id=\"text_141\">\r\n    <g id=\"patch_130\">\r\n     <path d=\"M 237.160992 192.004533 \r\nL 251.523492 192.004533 \r\nL 251.523492 174.326408 \r\nL 237.160992 174.326408 \r\nz\r\n\" style=\"fill:#4856fb;stroke:#4856fb;stroke-linejoin:miter;\"/>\r\n    </g>\r\n    <!-- 1 -->\r\n    <g transform=\"translate(241.160992 185.924846)scale(0.1 -0.1)\">\r\n     <use xlink:href=\"#DejaVuSans-31\"/>\r\n    </g>\r\n   </g>\r\n   <g id=\"text_142\">\r\n    <g id=\"patch_131\">\r\n     <path d=\"M 223.796345 153.414473 \r\nL 238.158845 153.414473 \r\nL 238.158845 135.736348 \r\nL 223.796345 135.736348 \r\nz\r\n\" style=\"fill:#ff592d;stroke:#ff592d;stroke-linejoin:miter;\"/>\r\n    </g>\r\n    <!-- 8 -->\r\n    <g transform=\"translate(227.796345 147.334785)scale(0.1 -0.1)\">\r\n     <use xlink:href=\"#DejaVuSans-38\"/>\r\n    </g>\r\n   </g>\r\n   <g id=\"text_143\">\r\n    <g id=\"patch_132\">\r\n     <path d=\"M 143.19687 133.157798 \r\nL 157.55937 133.157798 \r\nL 157.55937 115.479673 \r\nL 143.19687 115.479673 \r\nz\r\n\" style=\"fill:#d4dd80;stroke:#d4dd80;stroke-linejoin:miter;\"/>\r\n    </g>\r\n    <!-- 6 -->\r\n    <g transform=\"translate(147.19687 127.07811)scale(0.1 -0.1)\">\r\n     <use xlink:href=\"#DejaVuSans-36\"/>\r\n    </g>\r\n   </g>\r\n   <g id=\"text_144\">\r\n    <g id=\"patch_133\">\r\n     <path d=\"M 185.781451 107.921414 \r\nL 200.143951 107.921414 \r\nL 200.143951 90.243289 \r\nL 185.781451 90.243289 \r\nz\r\n\" style=\"fill:#62fbc4;stroke:#62fbc4;stroke-linejoin:miter;\"/>\r\n    </g>\r\n    <!-- 4 -->\r\n    <g transform=\"translate(189.781451 101.841727)scale(0.1 -0.1)\">\r\n     <use xlink:href=\"#DejaVuSans-34\"/>\r\n    </g>\r\n   </g>\r\n   <g id=\"text_145\">\r\n    <g id=\"patch_134\">\r\n     <path d=\"M 213.420657 206.404904 \r\nL 227.783157 206.404904 \r\nL 227.783157 188.726779 \r\nL 213.420657 188.726779 \r\nz\r\n\" style=\"fill:#4856fb;stroke:#4856fb;stroke-linejoin:miter;\"/>\r\n    </g>\r\n    <!-- 1 -->\r\n    <g transform=\"translate(217.420657 200.325217)scale(0.1 -0.1)\">\r\n     <use xlink:href=\"#DejaVuSans-31\"/>\r\n    </g>\r\n   </g>\r\n   <g id=\"text_146\">\r\n    <g id=\"patch_135\">\r\n     <path d=\"M 150.743197 132.822215 \r\nL 165.105697 132.822215 \r\nL 165.105697 115.14409 \r\nL 150.743197 115.14409 \r\nz\r\n\" style=\"fill:#d4dd80;stroke:#d4dd80;stroke-linejoin:miter;\"/>\r\n    </g>\r\n    <!-- 6 -->\r\n    <g transform=\"translate(154.743197 126.742527)scale(0.1 -0.1)\">\r\n     <use xlink:href=\"#DejaVuSans-36\"/>\r\n    </g>\r\n   </g>\r\n   <g id=\"text_147\">\r\n    <g id=\"patch_136\">\r\n     <path d=\"M 217.168489 172.642372 \r\nL 231.530989 172.642372 \r\nL 231.530989 154.964247 \r\nL 217.168489 154.964247 \r\nz\r\n\" style=\"fill:#2adddd;stroke:#2adddd;stroke-linejoin:miter;\"/>\r\n    </g>\r\n    <!-- 3 -->\r\n    <g transform=\"translate(221.168489 166.562685)scale(0.1 -0.1)\">\r\n     <use xlink:href=\"#DejaVuSans-33\"/>\r\n    </g>\r\n   </g>\r\n   <g id=\"text_148\">\r\n    <g id=\"patch_137\">\r\n     <path d=\"M 183.321009 112.420895 \r\nL 197.683509 112.420895 \r\nL 197.683509 94.74277 \r\nL 183.321009 94.74277 \r\nz\r\n\" style=\"fill:#62fbc4;stroke:#62fbc4;stroke-linejoin:miter;\"/>\r\n    </g>\r\n    <!-- 4 -->\r\n    <g transform=\"translate(187.321009 106.341208)scale(0.1 -0.1)\">\r\n     <use xlink:href=\"#DejaVuSans-34\"/>\r\n    </g>\r\n   </g>\r\n   <g id=\"text_149\">\r\n    <g id=\"patch_138\">\r\n     <path d=\"M 181.393676 203.254572 \r\nL 195.756176 203.254572 \r\nL 195.756176 185.576447 \r\nL 181.393676 185.576447 \r\nz\r\n\" style=\"fill:#9bfba5;stroke:#9bfba5;stroke-linejoin:miter;\"/>\r\n    </g>\r\n    <!-- 5 -->\r\n    <g transform=\"translate(185.393676 197.174885)scale(0.1 -0.1)\">\r\n     <use xlink:href=\"#DejaVuSans-35\"/>\r\n    </g>\r\n   </g>\r\n   <g id=\"text_150\">\r\n    <g id=\"patch_139\">\r\n     <path d=\"M 209.678388 149.013086 \r\nL 224.040888 149.013086 \r\nL 224.040888 131.334961 \r\nL 209.678388 131.334961 \r\nz\r\n\" style=\"fill:#ff0000;stroke:#ff0000;stroke-linejoin:miter;\"/>\r\n    </g>\r\n    <!-- 9 -->\r\n    <g transform=\"translate(213.678388 142.933398)scale(0.1 -0.1)\">\r\n     <use xlink:href=\"#DejaVuSans-39\"/>\r\n    </g>\r\n   </g>\r\n   <g id=\"text_151\">\r\n    <g id=\"patch_140\">\r\n     <path d=\"M 221.716514 150.455932 \r\nL 236.079014 150.455932 \r\nL 236.079014 132.777807 \r\nL 221.716514 132.777807 \r\nz\r\n\" style=\"fill:#4856fb;stroke:#4856fb;stroke-linejoin:miter;\"/>\r\n    </g>\r\n    <!-- 1 -->\r\n    <g transform=\"translate(225.716514 144.376245)scale(0.1 -0.1)\">\r\n     <use xlink:href=\"#DejaVuSans-31\"/>\r\n    </g>\r\n   </g>\r\n   <g id=\"text_152\">\r\n    <g id=\"patch_141\">\r\n     <path d=\"M 251.120625 164.079447 \r\nL 265.483125 164.079447 \r\nL 265.483125 146.401322 \r\nL 251.120625 146.401322 \r\nz\r\n\" style=\"fill:#2adddd;stroke:#2adddd;stroke-linejoin:miter;\"/>\r\n    </g>\r\n    <!-- 3 -->\r\n    <g transform=\"translate(255.120625 157.999759)scale(0.1 -0.1)\">\r\n     <use xlink:href=\"#DejaVuSans-33\"/>\r\n    </g>\r\n   </g>\r\n   <g id=\"text_153\">\r\n    <g id=\"patch_142\">\r\n     <path d=\"M 214.651969 185.893167 \r\nL 229.014469 185.893167 \r\nL 229.014469 168.215042 \r\nL 214.651969 168.215042 \r\nz\r\n\" style=\"fill:#2adddd;stroke:#2adddd;stroke-linejoin:miter;\"/>\r\n    </g>\r\n    <!-- 3 -->\r\n    <g transform=\"translate(218.651969 179.81348)scale(0.1 -0.1)\">\r\n     <use xlink:href=\"#DejaVuSans-33\"/>\r\n    </g>\r\n   </g>\r\n   <g id=\"text_154\">\r\n    <g id=\"patch_143\">\r\n     <path d=\"M 265.038315 150.164473 \r\nL 279.400815 150.164473 \r\nL 279.400815 132.486348 \r\nL 265.038315 132.486348 \r\nz\r\n\" style=\"fill:#ff592d;stroke:#ff592d;stroke-linejoin:miter;\"/>\r\n    </g>\r\n    <!-- 8 -->\r\n    <g transform=\"translate(269.038315 144.084786)scale(0.1 -0.1)\">\r\n     <use xlink:href=\"#DejaVuSans-38\"/>\r\n    </g>\r\n   </g>\r\n   <g id=\"text_155\">\r\n    <g id=\"patch_144\">\r\n     <path d=\"M 232.570978 182.394003 \r\nL 246.933478 182.394003 \r\nL 246.933478 164.715878 \r\nL 232.570978 164.715878 \r\nz\r\n\" style=\"fill:#9bfba5;stroke:#9bfba5;stroke-linejoin:miter;\"/>\r\n    </g>\r\n    <!-- 5 -->\r\n    <g transform=\"translate(236.570978 176.314316)scale(0.1 -0.1)\">\r\n     <use xlink:href=\"#DejaVuSans-35\"/>\r\n    </g>\r\n   </g>\r\n   <g id=\"text_156\">\r\n    <g id=\"patch_145\">\r\n     <path d=\"M 151.167422 126.604231 \r\nL 165.529922 126.604231 \r\nL 165.529922 108.926106 \r\nL 151.167422 108.926106 \r\nz\r\n\" style=\"fill:#62fbc4;stroke:#62fbc4;stroke-linejoin:miter;\"/>\r\n    </g>\r\n    <!-- 4 -->\r\n    <g transform=\"translate(155.167422 120.524543)scale(0.1 -0.1)\">\r\n     <use xlink:href=\"#DejaVuSans-34\"/>\r\n    </g>\r\n   </g>\r\n   <g id=\"text_157\">\r\n    <g id=\"patch_146\">\r\n     <path d=\"M 241.373066 149.898954 \r\nL 255.735566 149.898954 \r\nL 255.735566 132.220829 \r\nL 241.373066 132.220829 \r\nz\r\n\" style=\"fill:#ffa558;stroke:#ffa558;stroke-linejoin:miter;\"/>\r\n    </g>\r\n    <!-- 7 -->\r\n    <g transform=\"translate(245.373066 143.819267)scale(0.1 -0.1)\">\r\n     <use xlink:href=\"#DejaVuSans-37\"/>\r\n    </g>\r\n   </g>\r\n   <g id=\"text_158\">\r\n    <g id=\"patch_147\">\r\n     <path d=\"M 231.118728 130.963453 \r\nL 245.481228 130.963453 \r\nL 245.481228 113.285328 \r\nL 231.118728 113.285328 \r\nz\r\n\" style=\"fill:#ffa558;stroke:#ffa558;stroke-linejoin:miter;\"/>\r\n    </g>\r\n    <!-- 7 -->\r\n    <g transform=\"translate(235.118728 124.883766)scale(0.1 -0.1)\">\r\n     <use xlink:href=\"#DejaVuSans-37\"/>\r\n    </g>\r\n   </g>\r\n   <g id=\"text_159\">\r\n    <g id=\"patch_148\">\r\n     <path d=\"M 169.775365 136.643693 \r\nL 184.137865 136.643693 \r\nL 184.137865 118.965568 \r\nL 169.775365 118.965568 \r\nz\r\n\" style=\"fill:#62fbc4;stroke:#62fbc4;stroke-linejoin:miter;\"/>\r\n    </g>\r\n    <!-- 4 -->\r\n    <g transform=\"translate(173.775365 130.564006)scale(0.1 -0.1)\">\r\n     <use xlink:href=\"#DejaVuSans-34\"/>\r\n    </g>\r\n   </g>\r\n   <g id=\"text_160\">\r\n    <g id=\"patch_149\">\r\n     <path d=\"M 249.813526 123.047404 \r\nL 264.176026 123.047404 \r\nL 264.176026 105.369279 \r\nL 249.813526 105.369279 \r\nz\r\n\" style=\"fill:#10a2f0;stroke:#10a2f0;stroke-linejoin:miter;\"/>\r\n    </g>\r\n    <!-- 2 -->\r\n    <g transform=\"translate(253.813526 116.967717)scale(0.1 -0.1)\">\r\n     <use xlink:href=\"#DejaVuSans-32\"/>\r\n    </g>\r\n   </g>\r\n   <g id=\"text_161\">\r\n    <g id=\"patch_150\">\r\n     <path d=\"M 210.41474 167.102107 \r\nL 224.77724 167.102107 \r\nL 224.77724 149.423982 \r\nL 210.41474 149.423982 \r\nz\r\n\" style=\"fill:#ff592d;stroke:#ff592d;stroke-linejoin:miter;\"/>\r\n    </g>\r\n    <!-- 8 -->\r\n    <g transform=\"translate(214.41474 161.02242)scale(0.1 -0.1)\">\r\n     <use xlink:href=\"#DejaVuSans-38\"/>\r\n    </g>\r\n   </g>\r\n   <g id=\"text_162\">\r\n    <g id=\"patch_151\">\r\n     <path d=\"M 217.155283 121.265093 \r\nL 231.517783 121.265093 \r\nL 231.517783 103.586968 \r\nL 217.155283 103.586968 \r\nz\r\n\" style=\"fill:#9bfba5;stroke:#9bfba5;stroke-linejoin:miter;\"/>\r\n    </g>\r\n    <!-- 5 -->\r\n    <g transform=\"translate(221.155283 115.185406)scale(0.1 -0.1)\">\r\n     <use xlink:href=\"#DejaVuSans-35\"/>\r\n    </g>\r\n   </g>\r\n   <g id=\"text_163\">\r\n    <g id=\"patch_152\">\r\n     <path d=\"M 281.69484 145.481302 \r\nL 296.05734 145.481302 \r\nL 296.05734 127.803177 \r\nL 281.69484 127.803177 \r\nz\r\n\" style=\"fill:#ff592d;stroke:#ff592d;stroke-linejoin:miter;\"/>\r\n    </g>\r\n    <!-- 8 -->\r\n    <g transform=\"translate(285.69484 139.401614)scale(0.1 -0.1)\">\r\n     <use xlink:href=\"#DejaVuSans-38\"/>\r\n    </g>\r\n   </g>\r\n   <g id=\"text_164\">\r\n    <g id=\"patch_153\">\r\n     <path d=\"M 150.75633 120.66498 \r\nL 165.11883 120.66498 \r\nL 165.11883 102.986855 \r\nL 150.75633 102.986855 \r\nz\r\n\" style=\"fill:#d4dd80;stroke:#d4dd80;stroke-linejoin:miter;\"/>\r\n    </g>\r\n    <!-- 6 -->\r\n    <g transform=\"translate(154.75633 114.585293)scale(0.1 -0.1)\">\r\n     <use xlink:href=\"#DejaVuSans-36\"/>\r\n    </g>\r\n   </g>\r\n   <g id=\"text_165\">\r\n    <g id=\"patch_154\">\r\n     <path d=\"M 234.114672 148.399628 \r\nL 248.477172 148.399628 \r\nL 248.477172 130.721503 \r\nL 234.114672 130.721503 \r\nz\r\n\" style=\"fill:#ffa558;stroke:#ffa558;stroke-linejoin:miter;\"/>\r\n    </g>\r\n    <!-- 7 -->\r\n    <g transform=\"translate(238.114672 142.319941)scale(0.1 -0.1)\">\r\n     <use xlink:href=\"#DejaVuSans-37\"/>\r\n    </g>\r\n   </g>\r\n   <g id=\"text_166\">\r\n    <g id=\"patch_155\">\r\n     <path d=\"M 218.594084 172.837609 \r\nL 232.956584 172.837609 \r\nL 232.956584 155.159484 \r\nL 218.594084 155.159484 \r\nz\r\n\" style=\"fill:#2adddd;stroke:#2adddd;stroke-linejoin:miter;\"/>\r\n    </g>\r\n    <!-- 3 -->\r\n    <g transform=\"translate(222.594084 166.757921)scale(0.1 -0.1)\">\r\n     <use xlink:href=\"#DejaVuSans-33\"/>\r\n    </g>\r\n   </g>\r\n   <g id=\"text_167\">\r\n    <g id=\"patch_156\">\r\n     <path d=\"M 148.485944 144.049811 \r\nL 162.848444 144.049811 \r\nL 162.848444 126.371686 \r\nL 148.485944 126.371686 \r\nz\r\n\" style=\"fill:#62fbc4;stroke:#62fbc4;stroke-linejoin:miter;\"/>\r\n    </g>\r\n    <!-- 4 -->\r\n    <g transform=\"translate(152.485944 137.970124)scale(0.1 -0.1)\">\r\n     <use xlink:href=\"#DejaVuSans-34\"/>\r\n    </g>\r\n   </g>\r\n   <g id=\"text_168\">\r\n    <g id=\"patch_157\">\r\n     <path d=\"M 147.545915 116.372119 \r\nL 161.908415 116.372119 \r\nL 161.908415 98.693994 \r\nL 147.545915 98.693994 \r\nz\r\n\" style=\"fill:#d4dd80;stroke:#d4dd80;stroke-linejoin:miter;\"/>\r\n    </g>\r\n    <!-- 6 -->\r\n    <g transform=\"translate(151.545915 110.292431)scale(0.1 -0.1)\">\r\n     <use xlink:href=\"#DejaVuSans-36\"/>\r\n    </g>\r\n   </g>\r\n   <g id=\"text_169\">\r\n    <g id=\"patch_158\">\r\n     <path d=\"M 240.649365 197.313931 \r\nL 255.011865 197.313931 \r\nL 255.011865 179.635806 \r\nL 240.649365 179.635806 \r\nz\r\n\" style=\"fill:#4856fb;stroke:#4856fb;stroke-linejoin:miter;\"/>\r\n    </g>\r\n    <!-- 1 -->\r\n    <g transform=\"translate(244.649365 191.234243)scale(0.1 -0.1)\">\r\n     <use xlink:href=\"#DejaVuSans-31\"/>\r\n    </g>\r\n   </g>\r\n   <g id=\"text_170\">\r\n    <g id=\"patch_159\">\r\n     <path d=\"M 202.446088 142.47728 \r\nL 216.808588 142.47728 \r\nL 216.808588 124.799155 \r\nL 202.446088 124.799155 \r\nz\r\n\" style=\"fill:#ff0000;stroke:#ff0000;stroke-linejoin:miter;\"/>\r\n    </g>\r\n    <!-- 9 -->\r\n    <g transform=\"translate(206.446088 136.397593)scale(0.1 -0.1)\">\r\n     <use xlink:href=\"#DejaVuSans-39\"/>\r\n    </g>\r\n   </g>\r\n   <g id=\"text_171\">\r\n    <g id=\"patch_160\">\r\n     <path d=\"M 211.661711 133.944329 \r\nL 226.024211 133.944329 \r\nL 226.024211 116.266204 \r\nL 211.661711 116.266204 \r\nz\r\n\" style=\"fill:#ff0000;stroke:#ff0000;stroke-linejoin:miter;\"/>\r\n    </g>\r\n    <!-- 9 -->\r\n    <g transform=\"translate(215.661711 127.864642)scale(0.1 -0.1)\">\r\n     <use xlink:href=\"#DejaVuSans-39\"/>\r\n    </g>\r\n   </g>\r\n   <g id=\"text_172\">\r\n    <g id=\"patch_161\">\r\n     <path d=\"M 144.047444 117.903411 \r\nL 158.409944 117.903411 \r\nL 158.409944 100.225286 \r\nL 144.047444 100.225286 \r\nz\r\n\" style=\"fill:#d4dd80;stroke:#d4dd80;stroke-linejoin:miter;\"/>\r\n    </g>\r\n    <!-- 6 -->\r\n    <g transform=\"translate(148.047444 111.823723)scale(0.1 -0.1)\">\r\n     <use xlink:href=\"#DejaVuSans-36\"/>\r\n    </g>\r\n   </g>\r\n   <g id=\"text_173\">\r\n    <g id=\"patch_162\">\r\n     <path d=\"M 251.257974 122.073259 \r\nL 265.620474 122.073259 \r\nL 265.620474 104.395134 \r\nL 251.257974 104.395134 \r\nz\r\n\" style=\"fill:#8000ff;stroke:#8000ff;stroke-linejoin:miter;\"/>\r\n    </g>\r\n    <!-- 0 -->\r\n    <g transform=\"translate(255.257974 115.993571)scale(0.1 -0.1)\">\r\n     <use xlink:href=\"#DejaVuSans-30\"/>\r\n    </g>\r\n   </g>\r\n   <g id=\"text_174\">\r\n    <g id=\"patch_163\">\r\n     <path d=\"M 251.157651 165.116794 \r\nL 265.520151 165.116794 \r\nL 265.520151 147.438669 \r\nL 251.157651 147.438669 \r\nz\r\n\" style=\"fill:#2adddd;stroke:#2adddd;stroke-linejoin:miter;\"/>\r\n    </g>\r\n    <!-- 3 -->\r\n    <g transform=\"translate(255.157651 159.037107)scale(0.1 -0.1)\">\r\n     <use xlink:href=\"#DejaVuSans-33\"/>\r\n    </g>\r\n   </g>\r\n   <g id=\"text_175\">\r\n    <g id=\"patch_164\">\r\n     <path d=\"M 215.442483 120.699052 \r\nL 229.804983 120.699052 \r\nL 229.804983 103.020927 \r\nL 215.442483 103.020927 \r\nz\r\n\" style=\"fill:#ffa558;stroke:#ffa558;stroke-linejoin:miter;\"/>\r\n    </g>\r\n    <!-- 7 -->\r\n    <g transform=\"translate(219.442483 114.619364)scale(0.1 -0.1)\">\r\n     <use xlink:href=\"#DejaVuSans-37\"/>\r\n    </g>\r\n   </g>\r\n   <g id=\"text_176\">\r\n    <g id=\"patch_165\">\r\n     <path d=\"M 267.676635 121.388546 \r\nL 282.039135 121.388546 \r\nL 282.039135 103.710421 \r\nL 267.676635 103.710421 \r\nz\r\n\" style=\"fill:#10a2f0;stroke:#10a2f0;stroke-linejoin:miter;\"/>\r\n    </g>\r\n    <!-- 2 -->\r\n    <g transform=\"translate(271.676635 115.308859)scale(0.1 -0.1)\">\r\n     <use xlink:href=\"#DejaVuSans-32\"/>\r\n    </g>\r\n   </g>\r\n   <g id=\"text_177\">\r\n    <g id=\"patch_166\">\r\n     <path d=\"M 208.447324 153.898896 \r\nL 222.809824 153.898896 \r\nL 222.809824 136.220771 \r\nL 208.447324 136.220771 \r\nz\r\n\" style=\"fill:#ff592d;stroke:#ff592d;stroke-linejoin:miter;\"/>\r\n    </g>\r\n    <!-- 8 -->\r\n    <g transform=\"translate(212.447324 147.819208)scale(0.1 -0.1)\">\r\n     <use xlink:href=\"#DejaVuSans-38\"/>\r\n    </g>\r\n   </g>\r\n   <g id=\"text_178\">\r\n    <g id=\"patch_167\">\r\n     <path d=\"M 283.150014 139.666334 \r\nL 297.512514 139.666334 \r\nL 297.512514 121.988209 \r\nL 283.150014 121.988209 \r\nz\r\n\" style=\"fill:#10a2f0;stroke:#10a2f0;stroke-linejoin:miter;\"/>\r\n    </g>\r\n    <!-- 2 -->\r\n    <g transform=\"translate(287.150014 133.586646)scale(0.1 -0.1)\">\r\n     <use xlink:href=\"#DejaVuSans-32\"/>\r\n    </g>\r\n   </g>\r\n   <g id=\"text_179\">\r\n    <g id=\"patch_168\">\r\n     <path d=\"M 188.740261 144.084298 \r\nL 203.102761 144.084298 \r\nL 203.102761 126.406173 \r\nL 188.740261 126.406173 \r\nz\r\n\" style=\"fill:#ff0000;stroke:#ff0000;stroke-linejoin:miter;\"/>\r\n    </g>\r\n    <!-- 9 -->\r\n    <g transform=\"translate(192.740261 138.004611)scale(0.1 -0.1)\">\r\n     <use xlink:href=\"#DejaVuSans-39\"/>\r\n    </g>\r\n   </g>\r\n   <g id=\"text_180\">\r\n    <g id=\"patch_169\">\r\n     <path d=\"M 176.889768 122.466369 \r\nL 191.252268 122.466369 \r\nL 191.252268 104.788244 \r\nL 176.889768 104.788244 \r\nz\r\n\" style=\"fill:#62fbc4;stroke:#62fbc4;stroke-linejoin:miter;\"/>\r\n    </g>\r\n    <!-- 4 -->\r\n    <g transform=\"translate(180.889768 116.386682)scale(0.1 -0.1)\">\r\n     <use xlink:href=\"#DejaVuSans-34\"/>\r\n    </g>\r\n   </g>\r\n   <g id=\"text_181\">\r\n    <g id=\"patch_170\">\r\n     <path d=\"M 192.456102 108.016889 \r\nL 206.818602 108.016889 \r\nL 206.818602 90.338764 \r\nL 192.456102 90.338764 \r\nz\r\n\" style=\"fill:#62fbc4;stroke:#62fbc4;stroke-linejoin:miter;\"/>\r\n    </g>\r\n    <!-- 4 -->\r\n    <g transform=\"translate(196.456102 101.937202)scale(0.1 -0.1)\">\r\n     <use xlink:href=\"#DejaVuSans-34\"/>\r\n    </g>\r\n   </g>\r\n   <g id=\"text_182\">\r\n    <g id=\"patch_171\">\r\n     <path d=\"M 141.443488 116.325452 \r\nL 155.805988 116.325452 \r\nL 155.805988 98.647327 \r\nL 141.443488 98.647327 \r\nz\r\n\" style=\"fill:#d4dd80;stroke:#d4dd80;stroke-linejoin:miter;\"/>\r\n    </g>\r\n    <!-- 6 -->\r\n    <g transform=\"translate(145.443488 110.245764)scale(0.1 -0.1)\">\r\n     <use xlink:href=\"#DejaVuSans-36\"/>\r\n    </g>\r\n   </g>\r\n   <g id=\"text_183\">\r\n    <g id=\"patch_172\">\r\n     <path d=\"M 156.116449 131.066613 \r\nL 170.478949 131.066613 \r\nL 170.478949 113.388488 \r\nL 156.116449 113.388488 \r\nz\r\n\" style=\"fill:#62fbc4;stroke:#62fbc4;stroke-linejoin:miter;\"/>\r\n    </g>\r\n    <!-- 4 -->\r\n    <g transform=\"translate(160.116449 124.986926)scale(0.1 -0.1)\">\r\n     <use xlink:href=\"#DejaVuSans-34\"/>\r\n    </g>\r\n   </g>\r\n   <g id=\"text_184\">\r\n    <g id=\"patch_173\">\r\n     <path d=\"M 203.453938 131.538591 \r\nL 217.816438 131.538591 \r\nL 217.816438 113.860466 \r\nL 203.453938 113.860466 \r\nz\r\n\" style=\"fill:#ff0000;stroke:#ff0000;stroke-linejoin:miter;\"/>\r\n    </g>\r\n    <!-- 9 -->\r\n    <g transform=\"translate(207.453938 125.458903)scale(0.1 -0.1)\">\r\n     <use xlink:href=\"#DejaVuSans-39\"/>\r\n    </g>\r\n   </g>\r\n   <g id=\"text_185\">\r\n    <g id=\"patch_174\">\r\n     <path d=\"M 241.024786 152.873209 \r\nL 255.387286 152.873209 \r\nL 255.387286 135.195084 \r\nL 241.024786 135.195084 \r\nz\r\n\" style=\"fill:#ffa558;stroke:#ffa558;stroke-linejoin:miter;\"/>\r\n    </g>\r\n    <!-- 7 -->\r\n    <g transform=\"translate(245.024786 146.793522)scale(0.1 -0.1)\">\r\n     <use xlink:href=\"#DejaVuSans-37\"/>\r\n    </g>\r\n   </g>\r\n   <g id=\"text_186\">\r\n    <g id=\"patch_175\">\r\n     <path d=\"M 211.437267 160.362797 \r\nL 225.799767 160.362797 \r\nL 225.799767 142.684672 \r\nL 211.437267 142.684672 \r\nz\r\n\" style=\"fill:#8000ff;stroke:#8000ff;stroke-linejoin:miter;\"/>\r\n    </g>\r\n    <!-- 0 -->\r\n    <g transform=\"translate(215.437267 154.283109)scale(0.1 -0.1)\">\r\n     <use xlink:href=\"#DejaVuSans-30\"/>\r\n    </g>\r\n   </g>\r\n   <g id=\"text_187\">\r\n    <g id=\"patch_176\">\r\n     <path d=\"M 191.039898 139.520235 \r\nL 205.402398 139.520235 \r\nL 205.402398 121.84211 \r\nL 191.039898 121.84211 \r\nz\r\n\" style=\"fill:#ff0000;stroke:#ff0000;stroke-linejoin:miter;\"/>\r\n    </g>\r\n    <!-- 9 -->\r\n    <g transform=\"translate(195.039898 133.440547)scale(0.1 -0.1)\">\r\n     <use xlink:href=\"#DejaVuSans-39\"/>\r\n    </g>\r\n   </g>\r\n   <g id=\"text_188\">\r\n    <g id=\"patch_177\">\r\n     <path d=\"M 263.07642 123.101993 \r\nL 277.43892 123.101993 \r\nL 277.43892 105.423868 \r\nL 263.07642 105.423868 \r\nz\r\n\" style=\"fill:#10a2f0;stroke:#10a2f0;stroke-linejoin:miter;\"/>\r\n    </g>\r\n    <!-- 2 -->\r\n    <g transform=\"translate(267.07642 117.022306)scale(0.1 -0.1)\">\r\n     <use xlink:href=\"#DejaVuSans-32\"/>\r\n    </g>\r\n   </g>\r\n   <g id=\"text_189\">\r\n    <g id=\"patch_178\">\r\n     <path d=\"M 209.847303 130.848169 \r\nL 224.209803 130.848169 \r\nL 224.209803 113.170044 \r\nL 209.847303 113.170044 \r\nz\r\n\" style=\"fill:#ff0000;stroke:#ff0000;stroke-linejoin:miter;\"/>\r\n    </g>\r\n    <!-- 9 -->\r\n    <g transform=\"translate(213.847303 124.768482)scale(0.1 -0.1)\">\r\n     <use xlink:href=\"#DejaVuSans-39\"/>\r\n    </g>\r\n   </g>\r\n   <g id=\"text_190\">\r\n    <g id=\"patch_179\">\r\n     <path d=\"M 236.731716 121.180002 \r\nL 251.094216 121.180002 \r\nL 251.094216 103.501877 \r\nL 236.731716 103.501877 \r\nz\r\n\" style=\"fill:#9bfba5;stroke:#9bfba5;stroke-linejoin:miter;\"/>\r\n    </g>\r\n    <!-- 5 -->\r\n    <g transform=\"translate(240.731716 115.100315)scale(0.1 -0.1)\">\r\n     <use xlink:href=\"#DejaVuSans-35\"/>\r\n    </g>\r\n   </g>\r\n   <g id=\"text_191\">\r\n    <g id=\"patch_180\">\r\n     <path d=\"M 240.01045 189.384 \r\nL 254.37295 189.384 \r\nL 254.37295 171.705875 \r\nL 240.01045 171.705875 \r\nz\r\n\" style=\"fill:#4856fb;stroke:#4856fb;stroke-linejoin:miter;\"/>\r\n    </g>\r\n    <!-- 1 -->\r\n    <g transform=\"translate(244.01045 183.304312)scale(0.1 -0.1)\">\r\n     <use xlink:href=\"#DejaVuSans-31\"/>\r\n    </g>\r\n   </g>\r\n   <g id=\"text_192\">\r\n    <g id=\"patch_181\">\r\n     <path d=\"M 224.744078 121.78378 \r\nL 239.106578 121.78378 \r\nL 239.106578 104.105655 \r\nL 224.744078 104.105655 \r\nz\r\n\" style=\"fill:#9bfba5;stroke:#9bfba5;stroke-linejoin:miter;\"/>\r\n    </g>\r\n    <!-- 5 -->\r\n    <g transform=\"translate(228.744078 115.704092)scale(0.1 -0.1)\">\r\n     <use xlink:href=\"#DejaVuSans-35\"/>\r\n    </g>\r\n   </g>\r\n   <g id=\"text_193\">\r\n    <g id=\"patch_182\">\r\n     <path d=\"M 184.402351 158.065874 \r\nL 198.764851 158.065874 \r\nL 198.764851 140.387749 \r\nL 184.402351 140.387749 \r\nz\r\n\" style=\"fill:#ff0000;stroke:#ff0000;stroke-linejoin:miter;\"/>\r\n    </g>\r\n    <!-- 9 -->\r\n    <g transform=\"translate(188.402351 151.986187)scale(0.1 -0.1)\">\r\n     <use xlink:href=\"#DejaVuSans-39\"/>\r\n    </g>\r\n   </g>\r\n   <g id=\"text_194\">\r\n    <g id=\"patch_183\">\r\n     <path d=\"M 277.367986 169.351993 \r\nL 291.730486 169.351993 \r\nL 291.730486 151.673868 \r\nL 277.367986 151.673868 \r\nz\r\n\" style=\"fill:#4856fb;stroke:#4856fb;stroke-linejoin:miter;\"/>\r\n    </g>\r\n    <!-- 1 -->\r\n    <g transform=\"translate(281.367986 163.272305)scale(0.1 -0.1)\">\r\n     <use xlink:href=\"#DejaVuSans-31\"/>\r\n    </g>\r\n   </g>\r\n   <g id=\"text_195\">\r\n    <g id=\"patch_184\">\r\n     <path d=\"M 255.443463 98.275896 \r\nL 269.805963 98.275896 \r\nL 269.805963 80.597771 \r\nL 255.443463 80.597771 \r\nz\r\n\" style=\"fill:#10a2f0;stroke:#10a2f0;stroke-linejoin:miter;\"/>\r\n    </g>\r\n    <!-- 2 -->\r\n    <g transform=\"translate(259.443463 92.196209)scale(0.1 -0.1)\">\r\n     <use xlink:href=\"#DejaVuSans-32\"/>\r\n    </g>\r\n   </g>\r\n   <g id=\"text_196\">\r\n    <g id=\"patch_185\">\r\n     <path d=\"M 230.651278 161.045874 \r\nL 245.013778 161.045874 \r\nL 245.013778 143.367749 \r\nL 230.651278 143.367749 \r\nz\r\n\" style=\"fill:#2adddd;stroke:#2adddd;stroke-linejoin:miter;\"/>\r\n    </g>\r\n    <!-- 3 -->\r\n    <g transform=\"translate(234.651278 154.966186)scale(0.1 -0.1)\">\r\n     <use xlink:href=\"#DejaVuSans-33\"/>\r\n    </g>\r\n   </g>\r\n   <g id=\"text_197\">\r\n    <g id=\"patch_186\">\r\n     <path d=\"M 253.734965 151.003154 \r\nL 268.097465 151.003154 \r\nL 268.097465 133.325029 \r\nL 253.734965 133.325029 \r\nz\r\n\" style=\"fill:#10a2f0;stroke:#10a2f0;stroke-linejoin:miter;\"/>\r\n    </g>\r\n    <!-- 2 -->\r\n    <g transform=\"translate(257.734965 144.923466)scale(0.1 -0.1)\">\r\n     <use xlink:href=\"#DejaVuSans-32\"/>\r\n    </g>\r\n   </g>\r\n   <g id=\"text_198\">\r\n    <g id=\"patch_187\">\r\n     <path d=\"M 229.085296 152.301223 \r\nL 243.447796 152.301223 \r\nL 243.447796 134.623098 \r\nL 229.085296 134.623098 \r\nz\r\n\" style=\"fill:#2adddd;stroke:#2adddd;stroke-linejoin:miter;\"/>\r\n    </g>\r\n    <!-- 3 -->\r\n    <g transform=\"translate(233.085296 146.221535)scale(0.1 -0.1)\">\r\n     <use xlink:href=\"#DejaVuSans-33\"/>\r\n    </g>\r\n   </g>\r\n   <g id=\"text_199\">\r\n    <g id=\"patch_188\">\r\n     <path d=\"M 245.376632 184.612032 \r\nL 259.739132 184.612032 \r\nL 259.739132 166.933907 \r\nL 245.376632 166.933907 \r\nz\r\n\" style=\"fill:#9bfba5;stroke:#9bfba5;stroke-linejoin:miter;\"/>\r\n    </g>\r\n    <!-- 5 -->\r\n    <g transform=\"translate(249.376632 178.532345)scale(0.1 -0.1)\">\r\n     <use xlink:href=\"#DejaVuSans-35\"/>\r\n    </g>\r\n   </g>\r\n   <g id=\"text_200\">\r\n    <g id=\"patch_189\">\r\n     <path d=\"M 194.528631 138.229771 \r\nL 208.891131 138.229771 \r\nL 208.891131 120.551646 \r\nL 194.528631 120.551646 \r\nz\r\n\" style=\"fill:#ff0000;stroke:#ff0000;stroke-linejoin:miter;\"/>\r\n    </g>\r\n    <!-- 9 -->\r\n    <g transform=\"translate(198.528631 132.150084)scale(0.1 -0.1)\">\r\n     <use xlink:href=\"#DejaVuSans-39\"/>\r\n    </g>\r\n   </g>\r\n   <g id=\"text_201\">\r\n    <g id=\"patch_190\">\r\n     <path d=\"M 165.98007 197.135222 \r\nL 180.34257 197.135222 \r\nL 180.34257 179.457097 \r\nL 165.98007 179.457097 \r\nz\r\n\" style=\"fill:#4856fb;stroke:#4856fb;stroke-linejoin:miter;\"/>\r\n    </g>\r\n    <!-- 1 -->\r\n    <g transform=\"translate(169.98007 191.055534)scale(0.1 -0.1)\">\r\n     <use xlink:href=\"#DejaVuSans-31\"/>\r\n    </g>\r\n   </g>\r\n   <g id=\"text_202\">\r\n    <g id=\"patch_191\">\r\n     <path d=\"M 221.973473 121.827858 \r\nL 236.335973 121.827858 \r\nL 236.335973 104.149733 \r\nL 221.973473 104.149733 \r\nz\r\n\" style=\"fill:#ffa558;stroke:#ffa558;stroke-linejoin:miter;\"/>\r\n    </g>\r\n    <!-- 7 -->\r\n    <g transform=\"translate(225.973473 115.74817)scale(0.1 -0.1)\">\r\n     <use xlink:href=\"#DejaVuSans-37\"/>\r\n    </g>\r\n   </g>\r\n   <g id=\"text_203\">\r\n    <g id=\"patch_192\">\r\n     <path d=\"M 191.226348 116.825494 \r\nL 205.588848 116.825494 \r\nL 205.588848 99.147369 \r\nL 191.226348 99.147369 \r\nz\r\n\" style=\"fill:#d4dd80;stroke:#d4dd80;stroke-linejoin:miter;\"/>\r\n    </g>\r\n    <!-- 6 -->\r\n    <g transform=\"translate(195.226348 110.745806)scale(0.1 -0.1)\">\r\n     <use xlink:href=\"#DejaVuSans-36\"/>\r\n    </g>\r\n   </g>\r\n   <g id=\"text_204\">\r\n    <g id=\"patch_193\">\r\n     <path d=\"M 313.871461 135.736002 \r\nL 328.233961 135.736002 \r\nL 328.233961 118.057877 \r\nL 313.871461 118.057877 \r\nz\r\n\" style=\"fill:#10a2f0;stroke:#10a2f0;stroke-linejoin:miter;\"/>\r\n    </g>\r\n    <!-- 2 -->\r\n    <g transform=\"translate(317.871461 129.656314)scale(0.1 -0.1)\">\r\n     <use xlink:href=\"#DejaVuSans-32\"/>\r\n    </g>\r\n   </g>\r\n   <g id=\"text_205\">\r\n    <g id=\"patch_194\">\r\n     <path d=\"M 205.210508 159.635373 \r\nL 219.573008 159.635373 \r\nL 219.573008 141.957248 \r\nL 205.210508 141.957248 \r\nz\r\n\" style=\"fill:#ff592d;stroke:#ff592d;stroke-linejoin:miter;\"/>\r\n    </g>\r\n    <!-- 8 -->\r\n    <g transform=\"translate(209.210508 153.555686)scale(0.1 -0.1)\">\r\n     <use xlink:href=\"#DejaVuSans-38\"/>\r\n    </g>\r\n   </g>\r\n   <g id=\"text_206\">\r\n    <g id=\"patch_195\">\r\n     <path d=\"M 250.868587 120.881294 \r\nL 265.231087 120.881294 \r\nL 265.231087 103.203169 \r\nL 250.868587 103.203169 \r\nz\r\n\" style=\"fill:#10a2f0;stroke:#10a2f0;stroke-linejoin:miter;\"/>\r\n    </g>\r\n    <!-- 2 -->\r\n    <g transform=\"translate(254.868587 114.801606)scale(0.1 -0.1)\">\r\n     <use xlink:href=\"#DejaVuSans-32\"/>\r\n    </g>\r\n   </g>\r\n   <g id=\"text_207\">\r\n    <g id=\"patch_196\">\r\n     <path d=\"M 286.516729 130.531656 \r\nL 300.879229 130.531656 \r\nL 300.879229 112.853531 \r\nL 286.516729 112.853531 \r\nz\r\n\" style=\"fill:#10a2f0;stroke:#10a2f0;stroke-linejoin:miter;\"/>\r\n    </g>\r\n    <!-- 2 -->\r\n    <g transform=\"translate(290.516729 124.451969)scale(0.1 -0.1)\">\r\n     <use xlink:href=\"#DejaVuSans-32\"/>\r\n    </g>\r\n   </g>\r\n   <g id=\"text_208\">\r\n    <g id=\"patch_197\">\r\n     <path d=\"M 218.052877 121.832658 \r\nL 232.415377 121.832658 \r\nL 232.415377 104.154533 \r\nL 218.052877 104.154533 \r\nz\r\n\" style=\"fill:#9bfba5;stroke:#9bfba5;stroke-linejoin:miter;\"/>\r\n    </g>\r\n    <!-- 5 -->\r\n    <g transform=\"translate(222.052877 115.752971)scale(0.1 -0.1)\">\r\n     <use xlink:href=\"#DejaVuSans-35\"/>\r\n    </g>\r\n   </g>\r\n   <g id=\"text_209\">\r\n    <g id=\"patch_198\">\r\n     <path d=\"M 204.548083 147.29974 \r\nL 218.910583 147.29974 \r\nL 218.910583 129.621615 \r\nL 204.548083 129.621615 \r\nz\r\n\" style=\"fill:#8000ff;stroke:#8000ff;stroke-linejoin:miter;\"/>\r\n    </g>\r\n    <!-- 0 -->\r\n    <g transform=\"translate(208.548083 141.220052)scale(0.1 -0.1)\">\r\n     <use xlink:href=\"#DejaVuSans-30\"/>\r\n    </g>\r\n   </g>\r\n   <g id=\"text_210\">\r\n    <g id=\"patch_199\">\r\n     <path d=\"M 231.849264 119.845654 \r\nL 246.211764 119.845654 \r\nL 246.211764 102.167529 \r\nL 231.849264 102.167529 \r\nz\r\n\" style=\"fill:#ffa558;stroke:#ffa558;stroke-linejoin:miter;\"/>\r\n    </g>\r\n    <!-- 7 -->\r\n    <g transform=\"translate(235.849264 113.765966)scale(0.1 -0.1)\">\r\n     <use xlink:href=\"#DejaVuSans-37\"/>\r\n    </g>\r\n   </g>\r\n   <g id=\"text_211\">\r\n    <g id=\"patch_200\">\r\n     <path d=\"M 174.536891 122.218943 \r\nL 188.899391 122.218943 \r\nL 188.899391 104.540818 \r\nL 174.536891 104.540818 \r\nz\r\n\" style=\"fill:#62fbc4;stroke:#62fbc4;stroke-linejoin:miter;\"/>\r\n    </g>\r\n    <!-- 4 -->\r\n    <g transform=\"translate(178.536891 116.139255)scale(0.1 -0.1)\">\r\n     <use xlink:href=\"#DejaVuSans-34\"/>\r\n    </g>\r\n   </g>\r\n   <g id=\"text_212\">\r\n    <g id=\"patch_201\">\r\n     <path d=\"M 208.255021 128.331613 \r\nL 222.617521 128.331613 \r\nL 222.617521 110.653488 \r\nL 208.255021 110.653488 \r\nz\r\n\" style=\"fill:#ff0000;stroke:#ff0000;stroke-linejoin:miter;\"/>\r\n    </g>\r\n    <!-- 9 -->\r\n    <g transform=\"translate(212.255021 122.251926)scale(0.1 -0.1)\">\r\n     <use xlink:href=\"#DejaVuSans-39\"/>\r\n    </g>\r\n   </g>\r\n   <g id=\"text_213\">\r\n    <g id=\"patch_202\">\r\n     <path d=\"M 213.040101 124.831938 \r\nL 227.402601 124.831938 \r\nL 227.402601 107.153813 \r\nL 213.040101 107.153813 \r\nz\r\n\" style=\"fill:#ffa558;stroke:#ffa558;stroke-linejoin:miter;\"/>\r\n    </g>\r\n    <!-- 7 -->\r\n    <g transform=\"translate(217.040101 118.752251)scale(0.1 -0.1)\">\r\n     <use xlink:href=\"#DejaVuSans-37\"/>\r\n    </g>\r\n   </g>\r\n   <g id=\"text_214\">\r\n    <g id=\"patch_203\">\r\n     <path d=\"M 253.992188 145.661039 \r\nL 268.354688 145.661039 \r\nL 268.354688 127.982914 \r\nL 253.992188 127.982914 \r\nz\r\n\" style=\"fill:#ff592d;stroke:#ff592d;stroke-linejoin:miter;\"/>\r\n    </g>\r\n    <!-- 8 -->\r\n    <g transform=\"translate(257.992188 139.581352)scale(0.1 -0.1)\">\r\n     <use xlink:href=\"#DejaVuSans-38\"/>\r\n    </g>\r\n   </g>\r\n   <g id=\"text_215\">\r\n    <g id=\"patch_204\">\r\n     <path d=\"M 236.640259 182.790524 \r\nL 251.002759 182.790524 \r\nL 251.002759 165.112399 \r\nL 236.640259 165.112399 \r\nz\r\n\" style=\"fill:#2adddd;stroke:#2adddd;stroke-linejoin:miter;\"/>\r\n    </g>\r\n    <!-- 3 -->\r\n    <g transform=\"translate(240.640259 176.710837)scale(0.1 -0.1)\">\r\n     <use xlink:href=\"#DejaVuSans-33\"/>\r\n    </g>\r\n   </g>\r\n   <g id=\"text_216\">\r\n    <g id=\"patch_205\">\r\n     <path d=\"M 253.388987 118.010922 \r\nL 267.751487 118.010922 \r\nL 267.751487 100.332797 \r\nL 253.388987 100.332797 \r\nz\r\n\" style=\"fill:#10a2f0;stroke:#10a2f0;stroke-linejoin:miter;\"/>\r\n    </g>\r\n    <!-- 2 -->\r\n    <g transform=\"translate(257.388987 111.931234)scale(0.1 -0.1)\">\r\n     <use xlink:href=\"#DejaVuSans-32\"/>\r\n    </g>\r\n   </g>\r\n  </g>\r\n </g>\r\n</svg>\r\n",
      "text/plain": "<Figure size 432x288 with 1 Axes>"
     },
     "metadata": {
      "needs_background": "light"
     },
     "output_type": "display_data"
    }
   ],
   "source": [
    "view_data = train_data.train_data[:200].view(-1, 28*28).type(torch.FloatTensor).cuda()/255.\n",
    "encoded_data, _ = autoencoder(view_data)\n",
    "fig = plt.figure(2); ax = Axes3D(fig)\n",
    "X, Y, Z = encoded_data.cuda().data[:, 0].cpu().numpy(), encoded_data.cuda().data[:, 1].cpu().numpy(), encoded_data.cuda().data[:, 2].cpu().numpy()\n",
    "values = train_data.train_labels[:200].numpy()\n",
    "for x, y, z, s in zip(X, Y, Z, values):\n",
    "    c = cm.rainbow(int(255*s/9)); ax.text(x, y, z, s, backgroundcolor=c)\n",
    "ax.set_xlim(X.min(), X.max()); ax.set_ylim(Y.min(), Y.max()); ax.set_zlim(Z.min(), Z.max())\n",
    "plt.show()"
   ]
  },
  {
   "cell_type": "code",
   "execution_count": null,
   "metadata": {},
   "outputs": [],
   "source": []
  }
 ]
}