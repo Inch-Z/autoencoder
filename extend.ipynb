{
 "nbformat": 4,
 "nbformat_minor": 2,
 "metadata": {
  "language_info": {
   "name": "python",
   "codemirror_mode": {
    "name": "ipython",
    "version": 3
   },
   "version": "3.7.0-final"
  },
  "orig_nbformat": 2,
  "file_extension": ".py",
  "mimetype": "text/x-python",
  "name": "python",
  "npconvert_exporter": "python",
  "pygments_lexer": "ipython3",
  "version": 3,
  "kernelspec": {
   "name": "python37064bitbaseconda24c38771a7744f689cf6683cc835f426",
   "display_name": "Python 3.7.0 64-bit ('base': conda)"
  }
 },
 "cells": [
  {
   "cell_type": "code",
   "execution_count": 1,
   "metadata": {},
   "outputs": [],
   "source": [
    "from PIL import Image\n",
    "def convertjpg(jpgfile, outdir, width=224, height=224):     # width,height是图像修改后的尺寸\n",
    "    img = Image.open(jpgfile)  # 前后使用PIL/OPENCV要一致\n",
    "    # img = cv2.imread(jpgfile)\n",
    "    # print(\"==========\",img.shape)\n",
    "\n",
    "    try:\n",
    "        # 将图像转为0-1float的格式\n",
    "        # img = tf.image.convert_image_dtype(img, tf.float32)\n",
    "        new_img = img.resize((width, height), Image.BICUBIC)     # Image.各种插值方法：缩放都行\n",
    "        new_img.save(os.path.join(outdir, os.path.basename(jpgfile)))\n",
    "    except Exception as e:\n",
    "        print(\"error\")"
   ]
  }
 ]
}